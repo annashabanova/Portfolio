{
 "cells": [
  {
   "cell_type": "markdown",
   "metadata": {},
   "source": [
    "# Study of mobile application user behaviour\n",
    "\n",
    "**Data Description**.\n",
    "\n",
    "We have a dataset `logs_exp.csv`, where each record is a user action. The dataset has the following columns:\n",
    "\n",
    "- `EventName` - the name of the event;\n",
    "- `DeviceIDHash` - unique identifier of the user;\n",
    "- `EventTimestamp` - time of the event;\n",
    "- `ExpId` - experiment number: 246 and 247 are the control groups, and 248 is the experimental group.\n",
    "\n",
    "**Research objective:** to study behavior of mobile application users\n",
    "\n",
    "**Course of research:**\n",
    "\n",
    "1. Obtaining general information about the data\n",
    "\n",
    "\n",
    "2. Data preprocessing\n",
    "    - columns names\n",
    "    - data gaps\n",
    "    - data type\n",
    "    - duplicates\n",
    "    \n",
    "\n",
    "3. Data analysis - check the following metrics:\n",
    "    - total amount events in the log file\n",
    "    - total amount of users\n",
    "    - average amount of events per user\n",
    "    - define the time period\n",
    "    \n",
    "\n",
    "4. Examine the event funnel\n",
    "   - what kind of events are there in the logs and how often they occur\n",
    "   - how many users performed each of these events\n",
    "   - event funnel\n",
    "   - what percantage of users move on to the next step in the funnel\n",
    "\n",
    "\n",
    "5. Analyse the results of the experiment\n",
    "   - how many users are there in each experimental group\n",
    "   - is there a statistical difference between the samples from groups 246 and 247\n",
    "   - is there a statistical difference between the samples from groups 246 and 248\n",
    "   - is there a statistical difference between the samples from groups 247 and 248.\n",
    "   - is there a statistical difference between the combined samples of groups 246 and 247 and group 248.\n",
    "   - draw conclusions about the success of the experiment"
   ]
  },
  {
   "cell_type": "markdown",
   "metadata": {},
   "source": [
    "## Obtaining general information about the data"
   ]
  },
  {
   "cell_type": "code",
   "execution_count": 1,
   "metadata": {},
   "outputs": [],
   "source": [
    "import pandas as pd\n",
    "from scipy import stats as st\n",
    "import datetime as dt\n",
    "import numpy as np\n",
    "import matplotlib.pyplot as plt\n",
    "import plotly.express as px\n",
    "from plotly import graph_objects as go\n",
    "import math as mth\n",
    "from pandas.plotting import register_matplotlib_converters\n",
    "import warnings"
   ]
  },
  {
   "cell_type": "code",
   "execution_count": 2,
   "metadata": {},
   "outputs": [
    {
     "data": {
      "text/html": [
       "<div>\n",
       "<style scoped>\n",
       "    .dataframe tbody tr th:only-of-type {\n",
       "        vertical-align: middle;\n",
       "    }\n",
       "\n",
       "    .dataframe tbody tr th {\n",
       "        vertical-align: top;\n",
       "    }\n",
       "\n",
       "    .dataframe thead th {\n",
       "        text-align: right;\n",
       "    }\n",
       "</style>\n",
       "<table border=\"1\" class=\"dataframe\">\n",
       "  <thead>\n",
       "    <tr style=\"text-align: right;\">\n",
       "      <th></th>\n",
       "      <th>EventName</th>\n",
       "      <th>DeviceIDHash</th>\n",
       "      <th>EventTimestamp</th>\n",
       "      <th>ExpId</th>\n",
       "    </tr>\n",
       "  </thead>\n",
       "  <tbody>\n",
       "    <tr>\n",
       "      <th>0</th>\n",
       "      <td>MainScreenAppear</td>\n",
       "      <td>4575588528974610257</td>\n",
       "      <td>1564029816</td>\n",
       "      <td>246</td>\n",
       "    </tr>\n",
       "    <tr>\n",
       "      <th>1</th>\n",
       "      <td>MainScreenAppear</td>\n",
       "      <td>7416695313311560658</td>\n",
       "      <td>1564053102</td>\n",
       "      <td>246</td>\n",
       "    </tr>\n",
       "    <tr>\n",
       "      <th>2</th>\n",
       "      <td>PaymentScreenSuccessful</td>\n",
       "      <td>3518123091307005509</td>\n",
       "      <td>1564054127</td>\n",
       "      <td>248</td>\n",
       "    </tr>\n",
       "    <tr>\n",
       "      <th>3</th>\n",
       "      <td>CartScreenAppear</td>\n",
       "      <td>3518123091307005509</td>\n",
       "      <td>1564054127</td>\n",
       "      <td>248</td>\n",
       "    </tr>\n",
       "    <tr>\n",
       "      <th>4</th>\n",
       "      <td>PaymentScreenSuccessful</td>\n",
       "      <td>6217807653094995999</td>\n",
       "      <td>1564055322</td>\n",
       "      <td>248</td>\n",
       "    </tr>\n",
       "    <tr>\n",
       "      <th>...</th>\n",
       "      <td>...</td>\n",
       "      <td>...</td>\n",
       "      <td>...</td>\n",
       "      <td>...</td>\n",
       "    </tr>\n",
       "    <tr>\n",
       "      <th>244121</th>\n",
       "      <td>MainScreenAppear</td>\n",
       "      <td>4599628364049201812</td>\n",
       "      <td>1565212345</td>\n",
       "      <td>247</td>\n",
       "    </tr>\n",
       "    <tr>\n",
       "      <th>244122</th>\n",
       "      <td>MainScreenAppear</td>\n",
       "      <td>5849806612437486590</td>\n",
       "      <td>1565212439</td>\n",
       "      <td>246</td>\n",
       "    </tr>\n",
       "    <tr>\n",
       "      <th>244123</th>\n",
       "      <td>MainScreenAppear</td>\n",
       "      <td>5746969938801999050</td>\n",
       "      <td>1565212483</td>\n",
       "      <td>246</td>\n",
       "    </tr>\n",
       "    <tr>\n",
       "      <th>244124</th>\n",
       "      <td>MainScreenAppear</td>\n",
       "      <td>5746969938801999050</td>\n",
       "      <td>1565212498</td>\n",
       "      <td>246</td>\n",
       "    </tr>\n",
       "    <tr>\n",
       "      <th>244125</th>\n",
       "      <td>OffersScreenAppear</td>\n",
       "      <td>5746969938801999050</td>\n",
       "      <td>1565212517</td>\n",
       "      <td>246</td>\n",
       "    </tr>\n",
       "  </tbody>\n",
       "</table>\n",
       "<p>244126 rows × 4 columns</p>\n",
       "</div>"
      ],
      "text/plain": [
       "                      EventName         DeviceIDHash  EventTimestamp  ExpId\n",
       "0              MainScreenAppear  4575588528974610257      1564029816    246\n",
       "1              MainScreenAppear  7416695313311560658      1564053102    246\n",
       "2       PaymentScreenSuccessful  3518123091307005509      1564054127    248\n",
       "3              CartScreenAppear  3518123091307005509      1564054127    248\n",
       "4       PaymentScreenSuccessful  6217807653094995999      1564055322    248\n",
       "...                         ...                  ...             ...    ...\n",
       "244121         MainScreenAppear  4599628364049201812      1565212345    247\n",
       "244122         MainScreenAppear  5849806612437486590      1565212439    246\n",
       "244123         MainScreenAppear  5746969938801999050      1565212483    246\n",
       "244124         MainScreenAppear  5746969938801999050      1565212498    246\n",
       "244125       OffersScreenAppear  5746969938801999050      1565212517    246\n",
       "\n",
       "[244126 rows x 4 columns]"
      ]
     },
     "metadata": {},
     "output_type": "display_data"
    }
   ],
   "source": [
    "try:\n",
    "    shop = pd.read_csv('logs_exp.csv', sep='\\t')\n",
    "    display(shop)\n",
    "except:\n",
    "    print('Error')"
   ]
  },
  {
   "cell_type": "markdown",
   "metadata": {},
   "source": [
    "## Data preprocessing\n",
    "\n",
    "### Columns names\n",
    "\n",
    "Let's lowercase and rename the column names for convenience."
   ]
  },
  {
   "cell_type": "code",
   "execution_count": 3,
   "metadata": {},
   "outputs": [
    {
     "data": {
      "text/html": [
       "<div>\n",
       "<style scoped>\n",
       "    .dataframe tbody tr th:only-of-type {\n",
       "        vertical-align: middle;\n",
       "    }\n",
       "\n",
       "    .dataframe tbody tr th {\n",
       "        vertical-align: top;\n",
       "    }\n",
       "\n",
       "    .dataframe thead th {\n",
       "        text-align: right;\n",
       "    }\n",
       "</style>\n",
       "<table border=\"1\" class=\"dataframe\">\n",
       "  <thead>\n",
       "    <tr style=\"text-align: right;\">\n",
       "      <th></th>\n",
       "      <th>event_name</th>\n",
       "      <th>user_id</th>\n",
       "      <th>timestamp</th>\n",
       "      <th>exp_id</th>\n",
       "    </tr>\n",
       "  </thead>\n",
       "  <tbody>\n",
       "    <tr>\n",
       "      <th>0</th>\n",
       "      <td>MainScreenAppear</td>\n",
       "      <td>4575588528974610257</td>\n",
       "      <td>1564029816</td>\n",
       "      <td>246</td>\n",
       "    </tr>\n",
       "    <tr>\n",
       "      <th>1</th>\n",
       "      <td>MainScreenAppear</td>\n",
       "      <td>7416695313311560658</td>\n",
       "      <td>1564053102</td>\n",
       "      <td>246</td>\n",
       "    </tr>\n",
       "    <tr>\n",
       "      <th>2</th>\n",
       "      <td>PaymentScreenSuccessful</td>\n",
       "      <td>3518123091307005509</td>\n",
       "      <td>1564054127</td>\n",
       "      <td>248</td>\n",
       "    </tr>\n",
       "    <tr>\n",
       "      <th>3</th>\n",
       "      <td>CartScreenAppear</td>\n",
       "      <td>3518123091307005509</td>\n",
       "      <td>1564054127</td>\n",
       "      <td>248</td>\n",
       "    </tr>\n",
       "    <tr>\n",
       "      <th>4</th>\n",
       "      <td>PaymentScreenSuccessful</td>\n",
       "      <td>6217807653094995999</td>\n",
       "      <td>1564055322</td>\n",
       "      <td>248</td>\n",
       "    </tr>\n",
       "    <tr>\n",
       "      <th>...</th>\n",
       "      <td>...</td>\n",
       "      <td>...</td>\n",
       "      <td>...</td>\n",
       "      <td>...</td>\n",
       "    </tr>\n",
       "    <tr>\n",
       "      <th>244121</th>\n",
       "      <td>MainScreenAppear</td>\n",
       "      <td>4599628364049201812</td>\n",
       "      <td>1565212345</td>\n",
       "      <td>247</td>\n",
       "    </tr>\n",
       "    <tr>\n",
       "      <th>244122</th>\n",
       "      <td>MainScreenAppear</td>\n",
       "      <td>5849806612437486590</td>\n",
       "      <td>1565212439</td>\n",
       "      <td>246</td>\n",
       "    </tr>\n",
       "    <tr>\n",
       "      <th>244123</th>\n",
       "      <td>MainScreenAppear</td>\n",
       "      <td>5746969938801999050</td>\n",
       "      <td>1565212483</td>\n",
       "      <td>246</td>\n",
       "    </tr>\n",
       "    <tr>\n",
       "      <th>244124</th>\n",
       "      <td>MainScreenAppear</td>\n",
       "      <td>5746969938801999050</td>\n",
       "      <td>1565212498</td>\n",
       "      <td>246</td>\n",
       "    </tr>\n",
       "    <tr>\n",
       "      <th>244125</th>\n",
       "      <td>OffersScreenAppear</td>\n",
       "      <td>5746969938801999050</td>\n",
       "      <td>1565212517</td>\n",
       "      <td>246</td>\n",
       "    </tr>\n",
       "  </tbody>\n",
       "</table>\n",
       "<p>244126 rows × 4 columns</p>\n",
       "</div>"
      ],
      "text/plain": [
       "                     event_name              user_id   timestamp  exp_id\n",
       "0              MainScreenAppear  4575588528974610257  1564029816     246\n",
       "1              MainScreenAppear  7416695313311560658  1564053102     246\n",
       "2       PaymentScreenSuccessful  3518123091307005509  1564054127     248\n",
       "3              CartScreenAppear  3518123091307005509  1564054127     248\n",
       "4       PaymentScreenSuccessful  6217807653094995999  1564055322     248\n",
       "...                         ...                  ...         ...     ...\n",
       "244121         MainScreenAppear  4599628364049201812  1565212345     247\n",
       "244122         MainScreenAppear  5849806612437486590  1565212439     246\n",
       "244123         MainScreenAppear  5746969938801999050  1565212483     246\n",
       "244124         MainScreenAppear  5746969938801999050  1565212498     246\n",
       "244125       OffersScreenAppear  5746969938801999050  1565212517     246\n",
       "\n",
       "[244126 rows x 4 columns]"
      ]
     },
     "execution_count": 3,
     "metadata": {},
     "output_type": "execute_result"
    }
   ],
   "source": [
    "shop.columns = shop.columns.str.lower()\n",
    "shop = shop.rename(\n",
    "    columns={\n",
    "        'eventname': 'event_name',\n",
    "        'deviceidhash': 'user_id',\n",
    "        'eventtimestamp': 'timestamp',\n",
    "        'expid': 'exp_id'\n",
    "    }\n",
    ")\n",
    "shop"
   ]
  },
  {
   "cell_type": "markdown",
   "metadata": {},
   "source": [
    "### Data gaps\n",
    "\n",
    "Let's check dataset for data gaps"
   ]
  },
  {
   "cell_type": "code",
   "execution_count": 4,
   "metadata": {},
   "outputs": [
    {
     "name": "stdout",
     "output_type": "stream",
     "text": [
      "<class 'pandas.core.frame.DataFrame'>\n",
      "RangeIndex: 244126 entries, 0 to 244125\n",
      "Data columns (total 4 columns):\n",
      " #   Column      Non-Null Count   Dtype \n",
      "---  ------      --------------   ----- \n",
      " 0   event_name  244126 non-null  object\n",
      " 1   user_id     244126 non-null  int64 \n",
      " 2   timestamp   244126 non-null  int64 \n",
      " 3   exp_id      244126 non-null  int64 \n",
      "dtypes: int64(3), object(1)\n",
      "memory usage: 7.5+ MB\n"
     ]
    }
   ],
   "source": [
    "shop.info()"
   ]
  },
  {
   "cell_type": "markdown",
   "metadata": {},
   "source": [
    "there are no data gaps in our dataset.\n",
    "\n",
    "### Data types\n",
    "\n",
    "The `time_stamp` column must be converted from `unix timestamp` format to `datetime` format. For this purpose we use the `pd.to_datetime` method."
   ]
  },
  {
   "cell_type": "code",
   "execution_count": 5,
   "metadata": {},
   "outputs": [
    {
     "data": {
      "text/html": [
       "<div>\n",
       "<style scoped>\n",
       "    .dataframe tbody tr th:only-of-type {\n",
       "        vertical-align: middle;\n",
       "    }\n",
       "\n",
       "    .dataframe tbody tr th {\n",
       "        vertical-align: top;\n",
       "    }\n",
       "\n",
       "    .dataframe thead th {\n",
       "        text-align: right;\n",
       "    }\n",
       "</style>\n",
       "<table border=\"1\" class=\"dataframe\">\n",
       "  <thead>\n",
       "    <tr style=\"text-align: right;\">\n",
       "      <th></th>\n",
       "      <th>event_name</th>\n",
       "      <th>user_id</th>\n",
       "      <th>timestamp</th>\n",
       "      <th>exp_id</th>\n",
       "    </tr>\n",
       "  </thead>\n",
       "  <tbody>\n",
       "    <tr>\n",
       "      <th>0</th>\n",
       "      <td>MainScreenAppear</td>\n",
       "      <td>4575588528974610257</td>\n",
       "      <td>2019-07-25 04:43:36</td>\n",
       "      <td>246</td>\n",
       "    </tr>\n",
       "    <tr>\n",
       "      <th>1</th>\n",
       "      <td>MainScreenAppear</td>\n",
       "      <td>7416695313311560658</td>\n",
       "      <td>2019-07-25 11:11:42</td>\n",
       "      <td>246</td>\n",
       "    </tr>\n",
       "    <tr>\n",
       "      <th>2</th>\n",
       "      <td>PaymentScreenSuccessful</td>\n",
       "      <td>3518123091307005509</td>\n",
       "      <td>2019-07-25 11:28:47</td>\n",
       "      <td>248</td>\n",
       "    </tr>\n",
       "    <tr>\n",
       "      <th>3</th>\n",
       "      <td>CartScreenAppear</td>\n",
       "      <td>3518123091307005509</td>\n",
       "      <td>2019-07-25 11:28:47</td>\n",
       "      <td>248</td>\n",
       "    </tr>\n",
       "    <tr>\n",
       "      <th>4</th>\n",
       "      <td>PaymentScreenSuccessful</td>\n",
       "      <td>6217807653094995999</td>\n",
       "      <td>2019-07-25 11:48:42</td>\n",
       "      <td>248</td>\n",
       "    </tr>\n",
       "  </tbody>\n",
       "</table>\n",
       "</div>"
      ],
      "text/plain": [
       "                event_name              user_id           timestamp  exp_id\n",
       "0         MainScreenAppear  4575588528974610257 2019-07-25 04:43:36     246\n",
       "1         MainScreenAppear  7416695313311560658 2019-07-25 11:11:42     246\n",
       "2  PaymentScreenSuccessful  3518123091307005509 2019-07-25 11:28:47     248\n",
       "3         CartScreenAppear  3518123091307005509 2019-07-25 11:28:47     248\n",
       "4  PaymentScreenSuccessful  6217807653094995999 2019-07-25 11:48:42     248"
      ]
     },
     "execution_count": 5,
     "metadata": {},
     "output_type": "execute_result"
    }
   ],
   "source": [
    "shop['timestamp'] = pd.to_datetime(shop['timestamp'], unit='s')\n",
    "\n",
    "shop.head()"
   ]
  },
  {
   "cell_type": "markdown",
   "metadata": {},
   "source": [
    "I'll add a new column `date` and bring it to the required format."
   ]
  },
  {
   "cell_type": "code",
   "execution_count": 6,
   "metadata": {},
   "outputs": [
    {
     "data": {
      "text/html": [
       "<div>\n",
       "<style scoped>\n",
       "    .dataframe tbody tr th:only-of-type {\n",
       "        vertical-align: middle;\n",
       "    }\n",
       "\n",
       "    .dataframe tbody tr th {\n",
       "        vertical-align: top;\n",
       "    }\n",
       "\n",
       "    .dataframe thead th {\n",
       "        text-align: right;\n",
       "    }\n",
       "</style>\n",
       "<table border=\"1\" class=\"dataframe\">\n",
       "  <thead>\n",
       "    <tr style=\"text-align: right;\">\n",
       "      <th></th>\n",
       "      <th>event_name</th>\n",
       "      <th>user_id</th>\n",
       "      <th>timestamp</th>\n",
       "      <th>exp_id</th>\n",
       "      <th>date</th>\n",
       "    </tr>\n",
       "  </thead>\n",
       "  <tbody>\n",
       "    <tr>\n",
       "      <th>0</th>\n",
       "      <td>MainScreenAppear</td>\n",
       "      <td>4575588528974610257</td>\n",
       "      <td>2019-07-25 04:43:36</td>\n",
       "      <td>246</td>\n",
       "      <td>2019-07-25</td>\n",
       "    </tr>\n",
       "    <tr>\n",
       "      <th>1</th>\n",
       "      <td>MainScreenAppear</td>\n",
       "      <td>7416695313311560658</td>\n",
       "      <td>2019-07-25 11:11:42</td>\n",
       "      <td>246</td>\n",
       "      <td>2019-07-25</td>\n",
       "    </tr>\n",
       "    <tr>\n",
       "      <th>2</th>\n",
       "      <td>PaymentScreenSuccessful</td>\n",
       "      <td>3518123091307005509</td>\n",
       "      <td>2019-07-25 11:28:47</td>\n",
       "      <td>248</td>\n",
       "      <td>2019-07-25</td>\n",
       "    </tr>\n",
       "    <tr>\n",
       "      <th>3</th>\n",
       "      <td>CartScreenAppear</td>\n",
       "      <td>3518123091307005509</td>\n",
       "      <td>2019-07-25 11:28:47</td>\n",
       "      <td>248</td>\n",
       "      <td>2019-07-25</td>\n",
       "    </tr>\n",
       "    <tr>\n",
       "      <th>4</th>\n",
       "      <td>PaymentScreenSuccessful</td>\n",
       "      <td>6217807653094995999</td>\n",
       "      <td>2019-07-25 11:48:42</td>\n",
       "      <td>248</td>\n",
       "      <td>2019-07-25</td>\n",
       "    </tr>\n",
       "  </tbody>\n",
       "</table>\n",
       "</div>"
      ],
      "text/plain": [
       "                event_name              user_id           timestamp  exp_id  \\\n",
       "0         MainScreenAppear  4575588528974610257 2019-07-25 04:43:36     246   \n",
       "1         MainScreenAppear  7416695313311560658 2019-07-25 11:11:42     246   \n",
       "2  PaymentScreenSuccessful  3518123091307005509 2019-07-25 11:28:47     248   \n",
       "3         CartScreenAppear  3518123091307005509 2019-07-25 11:28:47     248   \n",
       "4  PaymentScreenSuccessful  6217807653094995999 2019-07-25 11:48:42     248   \n",
       "\n",
       "        date  \n",
       "0 2019-07-25  \n",
       "1 2019-07-25  \n",
       "2 2019-07-25  \n",
       "3 2019-07-25  \n",
       "4 2019-07-25  "
      ]
     },
     "execution_count": 6,
     "metadata": {},
     "output_type": "execute_result"
    }
   ],
   "source": [
    "shop['date'] = shop['timestamp'].dt.date\n",
    "shop['date'] = pd.to_datetime(shop['date'])\n",
    "shop.head()"
   ]
  },
  {
   "cell_type": "markdown",
   "metadata": {},
   "source": [
    "### Intersections in groups\n",
    "\n",
    "Let's check if there are users in the dataset who belong to more than one group."
   ]
  },
  {
   "cell_type": "code",
   "execution_count": 7,
   "metadata": {},
   "outputs": [
    {
     "data": {
      "text/plain": [
       "exp_id    0\n",
       "dtype: int64"
      ]
     },
     "execution_count": 7,
     "metadata": {},
     "output_type": "execute_result"
    }
   ],
   "source": [
    "shop.groupby('user_id').agg({'exp_id': 'nunique'}).query('exp_id > 1').count()"
   ]
  },
  {
   "cell_type": "markdown",
   "metadata": {},
   "source": [
    "There are no such users in dataset."
   ]
  },
  {
   "cell_type": "markdown",
   "metadata": {},
   "source": [
    "### Duplicates\n",
    "\n",
    "Let's check whether there are full duplicates in dataset."
   ]
  },
  {
   "cell_type": "code",
   "execution_count": 8,
   "metadata": {},
   "outputs": [
    {
     "name": "stdout",
     "output_type": "stream",
     "text": [
      "Amount of full duplicates: 413, 0.17% from data\n"
     ]
    }
   ],
   "source": [
    "print('Amount of full duplicates: {}, {}% from data'\\\n",
    "      .format(shop.duplicated().sum(),\n",
    "              round(shop.duplicated().sum() / len(shop) * 100, 2)))"
   ]
  },
  {
   "cell_type": "markdown",
   "metadata": {},
   "source": [
    "There are full duplicates, but their number is insignificant. Let's remove them from the dataset."
   ]
  },
  {
   "cell_type": "code",
   "execution_count": 9,
   "metadata": {},
   "outputs": [
    {
     "data": {
      "text/plain": [
       "0"
      ]
     },
     "execution_count": 9,
     "metadata": {},
     "output_type": "execute_result"
    }
   ],
   "source": [
    "shop = shop.drop_duplicates()\n",
    "shop.duplicated().sum()"
   ]
  },
  {
   "cell_type": "markdown",
   "metadata": {},
   "source": [
    "## Data analysis\n",
    "\n",
    "### Amount of events in log"
   ]
  },
  {
   "cell_type": "code",
   "execution_count": 10,
   "metadata": {},
   "outputs": [
    {
     "name": "stdout",
     "output_type": "stream",
     "text": [
      "['MainScreenAppear' 'PaymentScreenSuccessful' 'CartScreenAppear'\n",
      " 'OffersScreenAppear' 'Tutorial']\n",
      "5\n"
     ]
    }
   ],
   "source": [
    "print(shop['event_name'].unique())\n",
    "print(shop['event_name'].nunique())"
   ]
  },
  {
   "cell_type": "code",
   "execution_count": 11,
   "metadata": {},
   "outputs": [
    {
     "data": {
      "text/plain": [
       "243713"
      ]
     },
     "execution_count": 11,
     "metadata": {},
     "output_type": "execute_result"
    }
   ],
   "source": [
    "len(shop['event_name'])"
   ]
  },
  {
   "cell_type": "markdown",
   "metadata": {},
   "source": [
    "There are 5 types of events:\n",
    "- Main Screen Appear\n",
    "- Payment Screen Successful\n",
    "- Cart Screen Appear\n",
    "- Offers Screen Appear\n",
    "- Tutorial\n",
    "\n",
    "which happened 244'126 times."
   ]
  },
  {
   "cell_type": "markdown",
   "metadata": {},
   "source": [
    "### Number of users in dataset"
   ]
  },
  {
   "cell_type": "code",
   "execution_count": 12,
   "metadata": {},
   "outputs": [
    {
     "name": "stdout",
     "output_type": "stream",
     "text": [
      "There are 7551 users in dataset\n"
     ]
    }
   ],
   "source": [
    "print('There are {} users in dataset'.format(shop['user_id'].nunique()))"
   ]
  },
  {
   "cell_type": "markdown",
   "metadata": {},
   "source": [
    "### Average number of events per user\n",
    "\n",
    "Let's first check if there are outliers in the data. Use the `describe()` method to see the distribution of values."
   ]
  },
  {
   "cell_type": "code",
   "execution_count": 13,
   "metadata": {},
   "outputs": [
    {
     "data": {
      "text/html": [
       "<div>\n",
       "<style scoped>\n",
       "    .dataframe tbody tr th:only-of-type {\n",
       "        vertical-align: middle;\n",
       "    }\n",
       "\n",
       "    .dataframe tbody tr th {\n",
       "        vertical-align: top;\n",
       "    }\n",
       "\n",
       "    .dataframe thead th {\n",
       "        text-align: right;\n",
       "    }\n",
       "</style>\n",
       "<table border=\"1\" class=\"dataframe\">\n",
       "  <thead>\n",
       "    <tr style=\"text-align: right;\">\n",
       "      <th></th>\n",
       "      <th>event_name</th>\n",
       "    </tr>\n",
       "  </thead>\n",
       "  <tbody>\n",
       "    <tr>\n",
       "      <th>count</th>\n",
       "      <td>7551.000000</td>\n",
       "    </tr>\n",
       "    <tr>\n",
       "      <th>mean</th>\n",
       "      <td>32.275593</td>\n",
       "    </tr>\n",
       "    <tr>\n",
       "      <th>std</th>\n",
       "      <td>65.154219</td>\n",
       "    </tr>\n",
       "    <tr>\n",
       "      <th>min</th>\n",
       "      <td>1.000000</td>\n",
       "    </tr>\n",
       "    <tr>\n",
       "      <th>25%</th>\n",
       "      <td>9.000000</td>\n",
       "    </tr>\n",
       "    <tr>\n",
       "      <th>50%</th>\n",
       "      <td>20.000000</td>\n",
       "    </tr>\n",
       "    <tr>\n",
       "      <th>75%</th>\n",
       "      <td>37.000000</td>\n",
       "    </tr>\n",
       "    <tr>\n",
       "      <th>max</th>\n",
       "      <td>2307.000000</td>\n",
       "    </tr>\n",
       "  </tbody>\n",
       "</table>\n",
       "</div>"
      ],
      "text/plain": [
       "        event_name\n",
       "count  7551.000000\n",
       "mean     32.275593\n",
       "std      65.154219\n",
       "min       1.000000\n",
       "25%       9.000000\n",
       "50%      20.000000\n",
       "75%      37.000000\n",
       "max    2307.000000"
      ]
     },
     "execution_count": 13,
     "metadata": {},
     "output_type": "execute_result"
    }
   ],
   "source": [
    "act_avg = shop.groupby('user_id').agg({'event_name': 'count'})\n",
    "act_avg.describe()"
   ]
  },
  {
   "cell_type": "markdown",
   "metadata": {},
   "source": [
    "There are outliers in the data. The maximum number of events per user is 2308. The mean value is much higher than the median value. It's better to use the median to determine the average number of events per user."
   ]
  },
  {
   "cell_type": "code",
   "execution_count": 14,
   "metadata": {},
   "outputs": [
    {
     "data": {
      "text/plain": [
       "event_name    20.0\n",
       "dtype: float64"
      ]
     },
     "execution_count": 14,
     "metadata": {},
     "output_type": "execute_result"
    }
   ],
   "source": [
    "act_avg.median()"
   ]
  },
  {
   "cell_type": "markdown",
   "metadata": {},
   "source": [
    "During the period under review, each user performed an average of 20 in-app actions."
   ]
  },
  {
   "cell_type": "markdown",
   "metadata": {},
   "source": [
    "### Period under review"
   ]
  },
  {
   "cell_type": "code",
   "execution_count": 15,
   "metadata": {},
   "outputs": [
    {
     "name": "stdout",
     "output_type": "stream",
     "text": [
      "2019-07-25 04:43:36\n",
      "2019-08-07 21:15:17\n"
     ]
    }
   ],
   "source": [
    "print(min(shop['timestamp']))\n",
    "print(max(shop['timestamp']))"
   ]
  },
  {
   "cell_type": "markdown",
   "metadata": {},
   "source": [
    "Min date - 25 July 2019\n",
    "\n",
    "Max date - 7 August 2019\n",
    "\n",
    "Let's create a histogram for the `timestapm` column."
   ]
  },
  {
   "cell_type": "code",
   "execution_count": 16,
   "metadata": {},
   "outputs": [
    {
     "data": {
      "image/png": "[encoded data removed]",
      "text/plain": [
       "<Figure size 1000x600 with 1 Axes>"
      ]
     },
     "metadata": {},
     "output_type": "display_data"
    }
   ],
   "source": [
    "ax = shop['date'].hist(\n",
    "    figsize=(10, 6),\n",
    "    xrot = 45,\n",
    "    bins=15\n",
    ")\n",
    "\n",
    "ax.set_title('Number of events per day')\n",
    "ax.set_ylabel('Number of events');"
   ]
  },
  {
   "cell_type": "markdown",
   "metadata": {},
   "source": [
    "The data from before 1 August looks incomplete. Let's take the data from the 1st of August onwards.\n",
    "\n",
    "Create a new variable, where we'll keep the data for 1 week - from 1 to 7 August 2019."
   ]
  },
  {
   "cell_type": "code",
   "execution_count": 17,
   "metadata": {},
   "outputs": [
    {
     "data": {
      "text/plain": [
       "''"
      ]
     },
     "execution_count": 17,
     "metadata": {},
     "output_type": "execute_result"
    },
    {
     "data": {
      "image/png": "[encoded data removed]",
      "text/plain": [
       "<Figure size 1000x600 with 1 Axes>"
      ]
     },
     "metadata": {},
     "output_type": "display_data"
    }
   ],
   "source": [
    "shop_cut = shop.query('date >= \"2019-08-01\"')\n",
    "ax = shop_cut['date'].hist(\n",
    "    figsize=(10, 6),\n",
    "    xrot = 45,\n",
    "    bins=9\n",
    ")\n",
    "\n",
    "ax.set_title('Number of events per day')\n",
    "ax.set_ylabel('Number of events')\n",
    ";"
   ]
  },
  {
   "cell_type": "markdown",
   "metadata": {},
   "source": [
    "Let's check how many events and users were filtered out."
   ]
  },
  {
   "cell_type": "code",
   "execution_count": 18,
   "metadata": {},
   "outputs": [
    {
     "name": "stdout",
     "output_type": "stream",
     "text": [
      "Number of events originally - 243713, after filtration - 240887. Deleted 2826 events, or 1.16% of data\n",
      "\n",
      "Number of users originally - 7551, after filtration. Deleted 7534 users, or 17% of data\n"
     ]
    }
   ],
   "source": [
    "print('Number of events originally - {}, after filtration - {}. Deleted {} events, or {}% of data'\\\n",
    "      .format(len(shop),\n",
    "              len(shop_cut),\n",
    "              len(shop) - len(shop_cut),\n",
    "              round(100 - len(shop_cut) / len(shop) * 100, 2)              \n",
    "                                 ))\n",
    "\n",
    "print()\n",
    "\n",
    "print(\n",
    "    'Number of users originally - {}, after filtration. Deleted {} users, or {}% of data'\\\n",
    "    .format(\n",
    "        shop['user_id'].nunique(),\n",
    "        shop_cut['user_id'].nunique(),\n",
    "        shop['user_id'].nunique() - shop_cut['user_id'].nunique(),\n",
    "        round(100 - shop_cut['user_id'].nunique() / shop['user_id'].nunique() * 100, 2)\n",
    "))"
   ]
  },
  {
   "cell_type": "markdown",
   "metadata": {},
   "source": [
    "The amount of deleted data is insignificant."
   ]
  },
  {
   "cell_type": "markdown",
   "metadata": {},
   "source": [
    "Let's make sure that there are users in each of the three experimental groups."
   ]
  },
  {
   "cell_type": "code",
   "execution_count": 19,
   "metadata": {},
   "outputs": [
    {
     "data": {
      "text/html": [
       "<div>\n",
       "<style scoped>\n",
       "    .dataframe tbody tr th:only-of-type {\n",
       "        vertical-align: middle;\n",
       "    }\n",
       "\n",
       "    .dataframe tbody tr th {\n",
       "        vertical-align: top;\n",
       "    }\n",
       "\n",
       "    .dataframe thead th {\n",
       "        text-align: right;\n",
       "    }\n",
       "</style>\n",
       "<table border=\"1\" class=\"dataframe\">\n",
       "  <thead>\n",
       "    <tr style=\"text-align: right;\">\n",
       "      <th></th>\n",
       "      <th>exp_id</th>\n",
       "      <th>user_id</th>\n",
       "    </tr>\n",
       "  </thead>\n",
       "  <tbody>\n",
       "    <tr>\n",
       "      <th>0</th>\n",
       "      <td>246</td>\n",
       "      <td>2484</td>\n",
       "    </tr>\n",
       "    <tr>\n",
       "      <th>1</th>\n",
       "      <td>247</td>\n",
       "      <td>2513</td>\n",
       "    </tr>\n",
       "    <tr>\n",
       "      <th>2</th>\n",
       "      <td>248</td>\n",
       "      <td>2537</td>\n",
       "    </tr>\n",
       "  </tbody>\n",
       "</table>\n",
       "</div>"
      ],
      "text/plain": [
       "   exp_id  user_id\n",
       "0     246     2484\n",
       "1     247     2513\n",
       "2     248     2537"
      ]
     },
     "execution_count": 19,
     "metadata": {},
     "output_type": "execute_result"
    }
   ],
   "source": [
    "shop_cut.groupby('exp_id').agg({'user_id': 'nunique'}).reset_index()"
   ]
  },
  {
   "cell_type": "markdown",
   "metadata": {},
   "source": [
    "There are users in each of the three experimental groups, and they are fairly evenly distributed."
   ]
  },
  {
   "cell_type": "markdown",
   "metadata": {},
   "source": [
    "## Event funnel\n",
    "\n",
    "Let's check what kind of events there are and how often they occur."
   ]
  },
  {
   "cell_type": "code",
   "execution_count": 20,
   "metadata": {},
   "outputs": [
    {
     "data": {
      "text/html": [
       "<div>\n",
       "<style scoped>\n",
       "    .dataframe tbody tr th:only-of-type {\n",
       "        vertical-align: middle;\n",
       "    }\n",
       "\n",
       "    .dataframe tbody tr th {\n",
       "        vertical-align: top;\n",
       "    }\n",
       "\n",
       "    .dataframe thead th {\n",
       "        text-align: right;\n",
       "    }\n",
       "</style>\n",
       "<table border=\"1\" class=\"dataframe\">\n",
       "  <thead>\n",
       "    <tr style=\"text-align: right;\">\n",
       "      <th></th>\n",
       "      <th>event_count</th>\n",
       "    </tr>\n",
       "  </thead>\n",
       "  <tbody>\n",
       "    <tr>\n",
       "      <th>MainScreenAppear</th>\n",
       "      <td>117328</td>\n",
       "    </tr>\n",
       "    <tr>\n",
       "      <th>OffersScreenAppear</th>\n",
       "      <td>46333</td>\n",
       "    </tr>\n",
       "    <tr>\n",
       "      <th>CartScreenAppear</th>\n",
       "      <td>42303</td>\n",
       "    </tr>\n",
       "    <tr>\n",
       "      <th>PaymentScreenSuccessful</th>\n",
       "      <td>33918</td>\n",
       "    </tr>\n",
       "    <tr>\n",
       "      <th>Tutorial</th>\n",
       "      <td>1005</td>\n",
       "    </tr>\n",
       "  </tbody>\n",
       "</table>\n",
       "</div>"
      ],
      "text/plain": [
       "                         event_count\n",
       "MainScreenAppear              117328\n",
       "OffersScreenAppear             46333\n",
       "CartScreenAppear               42303\n",
       "PaymentScreenSuccessful        33918\n",
       "Tutorial                        1005"
      ]
     },
     "execution_count": 20,
     "metadata": {},
     "output_type": "execute_result"
    }
   ],
   "source": [
    "event_count = shop_cut['event_name'].value_counts().to_frame()\n",
    "event_count = event_count.rename(columns={'event_name': 'event_count'})\n",
    "event_count"
   ]
  },
  {
   "cell_type": "markdown",
   "metadata": {},
   "source": [
    "Let's count how many users committed to each of these events."
   ]
  },
  {
   "cell_type": "code",
   "execution_count": 21,
   "metadata": {},
   "outputs": [],
   "source": [
    "def get_event_count(event):\n",
    "    users_count = shop_cut[shop_cut['event_name'] == event]['user_id'].nunique()\n",
    "    return users_count"
   ]
  },
  {
   "cell_type": "code",
   "execution_count": 22,
   "metadata": {},
   "outputs": [
    {
     "data": {
      "text/html": [
       "<div>\n",
       "<style scoped>\n",
       "    .dataframe tbody tr th:only-of-type {\n",
       "        vertical-align: middle;\n",
       "    }\n",
       "\n",
       "    .dataframe tbody tr th {\n",
       "        vertical-align: top;\n",
       "    }\n",
       "\n",
       "    .dataframe thead th {\n",
       "        text-align: right;\n",
       "    }\n",
       "</style>\n",
       "<table border=\"1\" class=\"dataframe\">\n",
       "  <thead>\n",
       "    <tr style=\"text-align: right;\">\n",
       "      <th></th>\n",
       "      <th>event_count</th>\n",
       "      <th>users_count</th>\n",
       "      <th>users %</th>\n",
       "    </tr>\n",
       "  </thead>\n",
       "  <tbody>\n",
       "    <tr>\n",
       "      <th>MainScreenAppear</th>\n",
       "      <td>117328</td>\n",
       "      <td>7419</td>\n",
       "      <td>98.0</td>\n",
       "    </tr>\n",
       "    <tr>\n",
       "      <th>OffersScreenAppear</th>\n",
       "      <td>46333</td>\n",
       "      <td>4593</td>\n",
       "      <td>61.0</td>\n",
       "    </tr>\n",
       "    <tr>\n",
       "      <th>CartScreenAppear</th>\n",
       "      <td>42303</td>\n",
       "      <td>3734</td>\n",
       "      <td>50.0</td>\n",
       "    </tr>\n",
       "    <tr>\n",
       "      <th>PaymentScreenSuccessful</th>\n",
       "      <td>33918</td>\n",
       "      <td>3539</td>\n",
       "      <td>47.0</td>\n",
       "    </tr>\n",
       "    <tr>\n",
       "      <th>Tutorial</th>\n",
       "      <td>1005</td>\n",
       "      <td>840</td>\n",
       "      <td>11.0</td>\n",
       "    </tr>\n",
       "  </tbody>\n",
       "</table>\n",
       "</div>"
      ],
      "text/plain": [
       "                         event_count  users_count  users %\n",
       "MainScreenAppear              117328         7419     98.0\n",
       "OffersScreenAppear             46333         4593     61.0\n",
       "CartScreenAppear               42303         3734     50.0\n",
       "PaymentScreenSuccessful        33918         3539     47.0\n",
       "Tutorial                        1005          840     11.0"
      ]
     },
     "execution_count": 22,
     "metadata": {},
     "output_type": "execute_result"
    }
   ],
   "source": [
    "event_count = event_count.reset_index()\n",
    "event_count['users_count'] = event_count['index'].apply(get_event_count)\n",
    "event_count = event_count.sort_values(by='users_count', ascending=False)\n",
    "event_count = event_count.set_index('index')\n",
    "event_count.index.name = None\n",
    "event_count['users %'] = round(\n",
    "    event_count['users_count'] / shop_cut['user_id'].nunique() * 100\n",
    ")\n",
    "\n",
    "event_count"
   ]
  },
  {
   "cell_type": "markdown",
   "metadata": {},
   "source": [
    "- the vast majority of users (98%) visited the main screen of the application\n",
    "- 61% went to the product page\n",
    "- 50% - half of them reached the shopping basket\n",
    "- 47% successfully made a payment\n",
    "- only a small proportion (11%) watched a tutorial"
   ]
  },
  {
   "cell_type": "markdown",
   "metadata": {},
   "source": [
    "Let's attribute the following events to the funnel:\n",
    "1. MainScreenAppear - users go to the main page\n",
    "2. OffersScreenAppear - the user goes to the page with goods\n",
    "2. CartScreenAppear - users go to the page with basket\n",
    "3. PaymentScreenSuccessful - user pays for the order.\n",
    "\n",
    "We decided to refer the Tutorial action to an optional one, which users may or may not perform at any stage of interaction with the mobile application. Let's not take it into account when calculating the funnel.\n",
    "\n",
    "Let's create a separate variable for the event funnel and calculate what share of users goes to the next step of the funnel."
   ]
  },
  {
   "cell_type": "code",
   "execution_count": 23,
   "metadata": {},
   "outputs": [
    {
     "data": {
      "text/html": [
       "<div>\n",
       "<style scoped>\n",
       "    .dataframe tbody tr th:only-of-type {\n",
       "        vertical-align: middle;\n",
       "    }\n",
       "\n",
       "    .dataframe tbody tr th {\n",
       "        vertical-align: top;\n",
       "    }\n",
       "\n",
       "    .dataframe thead th {\n",
       "        text-align: right;\n",
       "    }\n",
       "</style>\n",
       "<table border=\"1\" class=\"dataframe\">\n",
       "  <thead>\n",
       "    <tr style=\"text-align: right;\">\n",
       "      <th></th>\n",
       "      <th>event_name</th>\n",
       "      <th>user_count</th>\n",
       "      <th>conversion %</th>\n",
       "    </tr>\n",
       "  </thead>\n",
       "  <tbody>\n",
       "    <tr>\n",
       "      <th>0</th>\n",
       "      <td>MainScreenAppear</td>\n",
       "      <td>7419</td>\n",
       "      <td>NaN</td>\n",
       "    </tr>\n",
       "    <tr>\n",
       "      <th>1</th>\n",
       "      <td>OffersScreenAppear</td>\n",
       "      <td>4593</td>\n",
       "      <td>62.0</td>\n",
       "    </tr>\n",
       "    <tr>\n",
       "      <th>2</th>\n",
       "      <td>CartScreenAppear</td>\n",
       "      <td>3734</td>\n",
       "      <td>81.0</td>\n",
       "    </tr>\n",
       "    <tr>\n",
       "      <th>3</th>\n",
       "      <td>PaymentScreenSuccessful</td>\n",
       "      <td>3539</td>\n",
       "      <td>95.0</td>\n",
       "    </tr>\n",
       "  </tbody>\n",
       "</table>\n",
       "</div>"
      ],
      "text/plain": [
       "                event_name  user_count  conversion %\n",
       "0         MainScreenAppear        7419           NaN\n",
       "1       OffersScreenAppear        4593          62.0\n",
       "2         CartScreenAppear        3734          81.0\n",
       "3  PaymentScreenSuccessful        3539          95.0"
      ]
     },
     "execution_count": 23,
     "metadata": {},
     "output_type": "execute_result"
    }
   ],
   "source": [
    "vortex = shop_cut.query('event_name != \"Tutorial\"')\\\n",
    "    .groupby('event_name')\\\n",
    "    .agg({'user_id': 'nunique'})\\\n",
    "    .sort_values(by='user_id', ascending=False)\n",
    "\n",
    "vortex['conversion %'] = round(vortex['user_id'] / vortex['user_id'].shift(+1) * 100)\n",
    "vortex = vortex.rename(columns={\n",
    "    'user_id': 'user_count'\n",
    "})\n",
    "vortex.reset_index()"
   ]
  },
  {
   "cell_type": "markdown",
   "metadata": {},
   "source": [
    "Judging by the table, the most users are lost on the 2nd stage (OffersScreenAppear), when they go to the page with products. The best performance is on the transition from the basket to payment.\n",
    "\n",
    "Let's visualise the event funnel."
   ]
  },
  {
   "cell_type": "code",
   "execution_count": 37,
   "metadata": {},
   "outputs": [
    {
     "data": {
      "image/png": "[encoded data removed]"
     },
     "metadata": {},
     "output_type": "display_data"
    }
   ],
   "source": [
    "fig = px.funnel(\n",
    "    vortex\n",
    ")\n",
    "\n",
    "\n",
    "fig.update_layout(\n",
    "    title={\n",
    "        'text': 'Event funnel',\n",
    "        'x': 0.5,\n",
    "        'xanchor': 'center'\n",
    "    }\n",
    ")\n",
    "\n",
    "fig.update_layout(legend=dict(\n",
    "    itemsizing='constant',\n",
    "    itemclick='toggleothers',\n",
    "    font=dict(size=12),\n",
    "    title=dict(text='Velues')\n",
    "))\n",
    "\n",
    "newnames = {\n",
    "    'user_count': 'number of users',\n",
    "    'conversion %': 'conversion %'\n",
    "}\n",
    "\n",
    "fig.for_each_trace(lambda t: t.update(name = newnames[t.name]))\n",
    "\n",
    "\n",
    "fig.update_yaxes(title_text='Event')\n",
    "\n",
    "fig.show('png')"
   ]
  },
  {
   "cell_type": "code",
   "execution_count": 25,
   "metadata": {},
   "outputs": [
    {
     "name": "stdout",
     "output_type": "stream",
     "text": [
      "Percentage of users who make it from the first event to payment: 48.0%\n"
     ]
    }
   ],
   "source": [
    "print('Percentage of users who make it from the first event to payment: {}%'\n",
    "      .format(round(vortex['user_count'].iloc[3] / vortex['user_count'].iloc[0], 2) * 100)\n",
    "     )"
   ]
  },
  {
   "cell_type": "markdown",
   "metadata": {},
   "source": [
    "Judging by the table, the most users are lost on the 2nd stage - OffersScreenAppear, when they go to the page with products. The best indicators are on the transition from the basket to payment."
   ]
  },
  {
   "cell_type": "markdown",
   "metadata": {},
   "source": [
    "## Analysing the results of the experiment\n",
    "\n",
    "### Distribution of users between groups\n",
    "\n",
    "Recall that we have 3 groups:\n",
    "- 246 and 247 - control groups\n",
    "- 248 - experimental"
   ]
  },
  {
   "cell_type": "code",
   "execution_count": 26,
   "metadata": {},
   "outputs": [
    {
     "data": {
      "text/html": [
       "<div>\n",
       "<style scoped>\n",
       "    .dataframe tbody tr th:only-of-type {\n",
       "        vertical-align: middle;\n",
       "    }\n",
       "\n",
       "    .dataframe tbody tr th {\n",
       "        vertical-align: top;\n",
       "    }\n",
       "\n",
       "    .dataframe thead th {\n",
       "        text-align: right;\n",
       "    }\n",
       "</style>\n",
       "<table border=\"1\" class=\"dataframe\">\n",
       "  <thead>\n",
       "    <tr style=\"text-align: right;\">\n",
       "      <th></th>\n",
       "      <th>user_id</th>\n",
       "      <th>perc</th>\n",
       "    </tr>\n",
       "    <tr>\n",
       "      <th>exp_id</th>\n",
       "      <th></th>\n",
       "      <th></th>\n",
       "    </tr>\n",
       "  </thead>\n",
       "  <tbody>\n",
       "    <tr>\n",
       "      <th>246</th>\n",
       "      <td>2484</td>\n",
       "      <td>33.0</td>\n",
       "    </tr>\n",
       "    <tr>\n",
       "      <th>247</th>\n",
       "      <td>2513</td>\n",
       "      <td>33.4</td>\n",
       "    </tr>\n",
       "    <tr>\n",
       "      <th>248</th>\n",
       "      <td>2537</td>\n",
       "      <td>33.7</td>\n",
       "    </tr>\n",
       "  </tbody>\n",
       "</table>\n",
       "</div>"
      ],
      "text/plain": [
       "        user_id  perc\n",
       "exp_id               \n",
       "246        2484  33.0\n",
       "247        2513  33.4\n",
       "248        2537  33.7"
      ]
     },
     "execution_count": 26,
     "metadata": {},
     "output_type": "execute_result"
    }
   ],
   "source": [
    "users_in_group = shop_cut.groupby('exp_id').agg({'user_id': 'nunique'})\n",
    "users_in_group['perc'] = round(users_in_group['user_id'] / shop_cut['user_id'].nunique() * 100, 1)\n",
    "users_in_group"
   ]
  },
  {
   "cell_type": "code",
   "execution_count": 38,
   "metadata": {},
   "outputs": [
    {
     "data": {
      "image/png": "[encoded data removed]"
     },
     "metadata": {},
     "output_type": "display_data"
    }
   ],
   "source": [
    "labels = shop_cut['exp_id']\n",
    "values = shop_cut['user_id']\n",
    "\n",
    "fig_groups = go.Figure(data=(go.Pie(labels=labels, values=values, pull=0.01)))\n",
    "\n",
    "fig_groups.update_layout(\n",
    "    title='Percantage of users in groups',\n",
    "    title_x=0.5,\n",
    "    legend=dict(x=0.8, y=1)\n",
    ")\n",
    "\n",
    "fig_groups.show('png')"
   ]
  },
  {
   "cell_type": "markdown",
   "metadata": {},
   "source": [
    "The users are evenly distributed among the groups. There are about 2500 users in each group. Group 248 - the experimental group - is leading with a small gap."
   ]
  },
  {
   "cell_type": "markdown",
   "metadata": {},
   "source": [
    "### Preprating data for the test"
   ]
  },
  {
   "cell_type": "code",
   "execution_count": 28,
   "metadata": {},
   "outputs": [
    {
     "data": {
      "text/html": [
       "<div>\n",
       "<style scoped>\n",
       "    .dataframe tbody tr th:only-of-type {\n",
       "        vertical-align: middle;\n",
       "    }\n",
       "\n",
       "    .dataframe tbody tr th {\n",
       "        vertical-align: top;\n",
       "    }\n",
       "\n",
       "    .dataframe thead th {\n",
       "        text-align: right;\n",
       "    }\n",
       "</style>\n",
       "<table border=\"1\" class=\"dataframe\">\n",
       "  <thead>\n",
       "    <tr style=\"text-align: right;\">\n",
       "      <th></th>\n",
       "      <th>exp_id</th>\n",
       "      <th>CartScreenAppear</th>\n",
       "      <th>MainScreenAppear</th>\n",
       "      <th>OffersScreenAppear</th>\n",
       "      <th>PaymentScreenSuccessful</th>\n",
       "      <th>users_in_group</th>\n",
       "    </tr>\n",
       "  </thead>\n",
       "  <tbody>\n",
       "    <tr>\n",
       "      <th>0</th>\n",
       "      <td>246</td>\n",
       "      <td>1266</td>\n",
       "      <td>2450</td>\n",
       "      <td>1542</td>\n",
       "      <td>1200</td>\n",
       "      <td>2484</td>\n",
       "    </tr>\n",
       "    <tr>\n",
       "      <th>1</th>\n",
       "      <td>247</td>\n",
       "      <td>1238</td>\n",
       "      <td>2476</td>\n",
       "      <td>1520</td>\n",
       "      <td>1158</td>\n",
       "      <td>2513</td>\n",
       "    </tr>\n",
       "    <tr>\n",
       "      <th>2</th>\n",
       "      <td>248</td>\n",
       "      <td>1230</td>\n",
       "      <td>2493</td>\n",
       "      <td>1531</td>\n",
       "      <td>1181</td>\n",
       "      <td>2537</td>\n",
       "    </tr>\n",
       "    <tr>\n",
       "      <th>3</th>\n",
       "      <td>246_247</td>\n",
       "      <td>2504</td>\n",
       "      <td>4926</td>\n",
       "      <td>3062</td>\n",
       "      <td>2358</td>\n",
       "      <td>4997</td>\n",
       "    </tr>\n",
       "  </tbody>\n",
       "</table>\n",
       "</div>"
      ],
      "text/plain": [
       "    exp_id  CartScreenAppear  MainScreenAppear  OffersScreenAppear  \\\n",
       "0      246              1266              2450                1542   \n",
       "1      247              1238              2476                1520   \n",
       "2      248              1230              2493                1531   \n",
       "3  246_247              2504              4926                3062   \n",
       "\n",
       "   PaymentScreenSuccessful  users_in_group  \n",
       "0                     1200            2484  \n",
       "1                     1158            2513  \n",
       "2                     1181            2537  \n",
       "3                     2358            4997  "
      ]
     },
     "execution_count": 28,
     "metadata": {},
     "output_type": "execute_result"
    }
   ],
   "source": [
    "# create a dataframe where we aggregate the data for the test\n",
    "# calculate how many unique users performed a specific action in a given group\n",
    "for_test = shop_cut\\\n",
    "    .query('event_name != \"Tutorial\"')\\\n",
    "    .pivot_table(\n",
    "        index='exp_id',\n",
    "        columns='event_name',\n",
    "        values='user_id',\n",
    "        aggfunc='nunique'\n",
    "    ).reset_index()\n",
    "    \n",
    "# add a column to indicate the total number of users in each group\n",
    "users_count = shop_cut.groupby('exp_id')['user_id'].nunique()\n",
    "for_test['users_in_group'] = for_test['exp_id'].apply(lambda x: users_count.loc[x])\n",
    "#for_test = for_test.set_index('exp_id')\n",
    "\n",
    "# add a line with the sum of the data of groups 246 and 247 for the following A/B test\n",
    "sum_row = pd.DataFrame({'exp_id': ['246_247'],\n",
    "                        'CartScreenAppear': [for_test.loc[for_test['exp_id'].isin([246, 247]), \\\n",
    "                                                          'CartScreenAppear'].sum()],\n",
    "                        'MainScreenAppear': [for_test.loc[for_test['exp_id'].isin([246, 247]),\\\n",
    "                                                          'MainScreenAppear'].sum()],\n",
    "                        'OffersScreenAppear': [for_test.loc[for_test['exp_id'].isin([246, 247]), \\\n",
    "                                                            'OffersScreenAppear'].sum()],\n",
    "                        'PaymentScreenSuccessful': [for_test.loc[for_test['exp_id'].isin([246, 247]),\\\n",
    "                                                                 'PaymentScreenSuccessful'].sum()],\n",
    "                        'users_in_group': [for_test.loc[for_test['exp_id'].isin([246, 247]), \\\n",
    "                                                        'users_in_group'].sum()]\n",
    "                       })\n",
    "\n",
    "for_test = pd.concat([for_test, sum_row], ignore_index=True)\n",
    "\n",
    "for_test"
   ]
  },
  {
   "cell_type": "markdown",
   "metadata": {},
   "source": [
    "The most popular action is to view the main screen - MainScreenAppear. Let's add a column that reflects what proportion of users performed this event."
   ]
  },
  {
   "cell_type": "code",
   "execution_count": 29,
   "metadata": {},
   "outputs": [
    {
     "data": {
      "text/html": [
       "<div>\n",
       "<style scoped>\n",
       "    .dataframe tbody tr th:only-of-type {\n",
       "        vertical-align: middle;\n",
       "    }\n",
       "\n",
       "    .dataframe tbody tr th {\n",
       "        vertical-align: top;\n",
       "    }\n",
       "\n",
       "    .dataframe thead th {\n",
       "        text-align: right;\n",
       "    }\n",
       "</style>\n",
       "<table border=\"1\" class=\"dataframe\">\n",
       "  <thead>\n",
       "    <tr style=\"text-align: right;\">\n",
       "      <th></th>\n",
       "      <th>exp_id</th>\n",
       "      <th>CartScreenAppear</th>\n",
       "      <th>MainScreenAppear</th>\n",
       "      <th>OffersScreenAppear</th>\n",
       "      <th>PaymentScreenSuccessful</th>\n",
       "      <th>users_in_group</th>\n",
       "      <th>main_screen %</th>\n",
       "    </tr>\n",
       "  </thead>\n",
       "  <tbody>\n",
       "    <tr>\n",
       "      <th>0</th>\n",
       "      <td>246</td>\n",
       "      <td>1266</td>\n",
       "      <td>2450</td>\n",
       "      <td>1542</td>\n",
       "      <td>1200</td>\n",
       "      <td>2484</td>\n",
       "      <td>99.0</td>\n",
       "    </tr>\n",
       "    <tr>\n",
       "      <th>1</th>\n",
       "      <td>247</td>\n",
       "      <td>1238</td>\n",
       "      <td>2476</td>\n",
       "      <td>1520</td>\n",
       "      <td>1158</td>\n",
       "      <td>2513</td>\n",
       "      <td>99.0</td>\n",
       "    </tr>\n",
       "    <tr>\n",
       "      <th>2</th>\n",
       "      <td>248</td>\n",
       "      <td>1230</td>\n",
       "      <td>2493</td>\n",
       "      <td>1531</td>\n",
       "      <td>1181</td>\n",
       "      <td>2537</td>\n",
       "      <td>98.0</td>\n",
       "    </tr>\n",
       "    <tr>\n",
       "      <th>3</th>\n",
       "      <td>246_247</td>\n",
       "      <td>2504</td>\n",
       "      <td>4926</td>\n",
       "      <td>3062</td>\n",
       "      <td>2358</td>\n",
       "      <td>4997</td>\n",
       "      <td>99.0</td>\n",
       "    </tr>\n",
       "  </tbody>\n",
       "</table>\n",
       "</div>"
      ],
      "text/plain": [
       "    exp_id  CartScreenAppear  MainScreenAppear  OffersScreenAppear  \\\n",
       "0      246              1266              2450                1542   \n",
       "1      247              1238              2476                1520   \n",
       "2      248              1230              2493                1531   \n",
       "3  246_247              2504              4926                3062   \n",
       "\n",
       "   PaymentScreenSuccessful  users_in_group  main_screen %  \n",
       "0                     1200            2484           99.0  \n",
       "1                     1158            2513           99.0  \n",
       "2                     1181            2537           98.0  \n",
       "3                     2358            4997           99.0  "
      ]
     },
     "execution_count": 29,
     "metadata": {},
     "output_type": "execute_result"
    }
   ],
   "source": [
    "for_test['main_screen %'] = round(for_test['MainScreenAppear'] / for_test['users_in_group'] * 100)\n",
    "for_test"
   ]
  },
  {
   "cell_type": "markdown",
   "metadata": {},
   "source": [
    "In the control groups, 99% of users went to the home screen. In the experimental group a little less - 98%."
   ]
  },
  {
   "cell_type": "markdown",
   "metadata": {},
   "source": [
    "### Functions for the test"
   ]
  },
  {
   "cell_type": "code",
   "execution_count": 30,
   "metadata": {},
   "outputs": [],
   "source": [
    "# create a function for the z-test\n",
    "def return_z_test(successes, trials, alpha):\n",
    "    # proportion of successes in group 1\n",
    "    p1 = successes[0] / trials[0]\n",
    "    \n",
    "     # proportion of successes in group 2\n",
    "    p2 = successes[1] / trials[1]\n",
    "    \n",
    "     # proportion of successes in combined group\n",
    "    p_combined = (successes[0] + successes[1]) / (trials[0] + trials[1])\n",
    "    \n",
    "    # difference of proportions in datasets\n",
    "    difference = p1 - p2\n",
    "    \n",
    "    # count statistics in st. deviations of the standard normal distribution\n",
    "    z_value = difference / mth.sqrt(p_combined * (1 - p_combined) * (1/trials[0] + 1/trials[1]))\n",
    "    \n",
    "    # set standard normal distribution (mean 0, standard deviation 1)\n",
    "    distr = st.norm(0, 1)  \n",
    "    \n",
    "    # calculate p_value\n",
    "    p_value = (1 - distr.cdf(abs(z_value))) * 2\n",
    "    \n",
    "    print('p-значение: ', p_value)\n",
    "    \n",
    "    if p_value < alpha:\n",
    "        print('We reject the null hypothesis: there is a significant difference between the shares')\n",
    "        print('')\n",
    "    else:\n",
    "        print('We failed to disprove the null hypothesis')\n",
    "        print('')"
   ]
  },
  {
   "cell_type": "code",
   "execution_count": 31,
   "metadata": {},
   "outputs": [],
   "source": [
    "def groups_for_test (group1, group2, alpha):\n",
    "    alpha_test = alpha\n",
    "    count_users = ([\n",
    "        for_test['users_in_group'][group1], for_test['users_in_group'][group2]\n",
    "    ])\n",
    "    \n",
    "    count_main_screen_appear = ([\n",
    "        for_test['MainScreenAppear'][group1], for_test['MainScreenAppear'][group2]\n",
    "    ])\n",
    "    \n",
    "    count_offers_screen_appear = ([\n",
    "        for_test['OffersScreenAppear'][group1], for_test['OffersScreenAppear'][group2]\n",
    "    ])\n",
    "    \n",
    "    count_cart_screen_appear = ([\n",
    "        for_test['CartScreenAppear'][group1], for_test['CartScreenAppear'][group2]\n",
    "    ])\n",
    "    \n",
    "    count_payment_secces = ([\n",
    "        for_test['PaymentScreenSuccessful'][group1], for_test['PaymentScreenSuccessful'][group2]\n",
    "    ])\n",
    "    \n",
    "    print('Testing the hypothesis of equality of shares for an event main_screen_appear')\n",
    "    return_z_test(count_main_screen_appear, count_users, alpha_test)\n",
    "    \n",
    "    print('Testing the hypothesis of equality of shares for an event offers_screen_appear')\n",
    "    return_z_test(count_offers_screen_appear, count_users, alpha_test)\n",
    "    \n",
    "    print('Testing the hypothesis of equality of shares for an event cart_screen_appear')\n",
    "    return_z_test(count_cart_screen_appear, count_users, alpha_test)\n",
    "    \n",
    "    print('Testing the hypothesis of equality of shares for an event payment_secces')\n",
    "    return_z_test(count_payment_secces, count_users, alpha_test)"
   ]
  },
  {
   "cell_type": "markdown",
   "metadata": {},
   "source": [
    "### A/A test - control groups\n",
    "\n",
    "Let's test whether the statistical criteria find a difference between samples 246 and 247. To do this, we will test the hypothesis of equality of shares between the two groups by performing a z-test for each event in the funnel.\n",
    "\n",
    "We choose a statistical significance level of 5%\n",
    "\n",
    "ɑ = 0,05\n",
    "\n",
    "- H0 - there is no significant difference between the shares\n",
    "- H1 - there is a significant difference between the shares."
   ]
  },
  {
   "cell_type": "code",
   "execution_count": 32,
   "metadata": {},
   "outputs": [
    {
     "name": "stdout",
     "output_type": "stream",
     "text": [
      "Testing the hypothesis of equality of shares for an event main_screen_appear\n",
      "p-значение:  0.7570597232046099\n",
      "We failed to disprove the null hypothesis\n",
      "\n",
      "Testing the hypothesis of equality of shares for an event offers_screen_appear\n",
      "p-значение:  0.2480954578522181\n",
      "We failed to disprove the null hypothesis\n",
      "\n",
      "Testing the hypothesis of equality of shares for an event cart_screen_appear\n",
      "p-значение:  0.22883372237997213\n",
      "We failed to disprove the null hypothesis\n",
      "\n",
      "Testing the hypothesis of equality of shares for an event payment_secces\n",
      "p-значение:  0.11456679313141849\n",
      "We failed to disprove the null hypothesis\n",
      "\n"
     ]
    }
   ],
   "source": [
    "groups_for_test(0, 1, 0.05)"
   ]
  },
  {
   "cell_type": "markdown",
   "metadata": {},
   "source": [
    "None of the four tests succeeded in disproving the null hypothesis. There is no reason to consider the fractions different. Two control groups are equal - we can be sure that the test is accurate."
   ]
  },
  {
   "cell_type": "markdown",
   "metadata": {},
   "source": [
    "### A1/B test\n",
    "\n",
    "Let's find out if there is a difference between samples 246 and 248 (experimental group)\n",
    "\n",
    "ɑ = 0,05\n",
    "\n",
    "- H0 - there is no significant difference between the shares\n",
    "- H1 - there is a significant difference between the shares."
   ]
  },
  {
   "cell_type": "code",
   "execution_count": 33,
   "metadata": {},
   "outputs": [
    {
     "name": "stdout",
     "output_type": "stream",
     "text": [
      "Testing the hypothesis of equality of shares for an event main_screen_appear\n",
      "p-значение:  0.2949721933554552\n",
      "We failed to disprove the null hypothesis\n",
      "\n",
      "Testing the hypothesis of equality of shares for an event offers_screen_appear\n",
      "p-значение:  0.20836205402738917\n",
      "We failed to disprove the null hypothesis\n",
      "\n",
      "Testing the hypothesis of equality of shares for an event cart_screen_appear\n",
      "p-значение:  0.07842923237520116\n",
      "We failed to disprove the null hypothesis\n",
      "\n",
      "Testing the hypothesis of equality of shares for an event payment_secces\n",
      "p-значение:  0.2122553275697796\n",
      "We failed to disprove the null hypothesis\n",
      "\n"
     ]
    }
   ],
   "source": [
    "groups_for_test(0, 2, 0.05)"
   ]
  },
  {
   "cell_type": "markdown",
   "metadata": {},
   "source": [
    "None of the four tests disproves the null hypothesis."
   ]
  },
  {
   "cell_type": "markdown",
   "metadata": {},
   "source": [
    "### A2/B test\n",
    "\n",
    "Let's find out if there is a difference between samples 247 and 248 (experimental group)\n",
    "\n",
    "ɑ = 0,05\n",
    "\n",
    "- H0 - there is no significant difference between the shares\n",
    "- H1 - there is a significant difference between the shares."
   ]
  },
  {
   "cell_type": "code",
   "execution_count": 34,
   "metadata": {},
   "outputs": [
    {
     "name": "stdout",
     "output_type": "stream",
     "text": [
      "Testing the hypothesis of equality of shares for an event main_screen_appear\n",
      "p-значение:  0.4587053616621515\n",
      "We failed to disprove the null hypothesis\n",
      "\n",
      "Testing the hypothesis of equality of shares for an event offers_screen_appear\n",
      "p-значение:  0.9197817830592261\n",
      "We failed to disprove the null hypothesis\n",
      "\n",
      "Testing the hypothesis of equality of shares for an event cart_screen_appear\n",
      "p-значение:  0.5786197879539783\n",
      "We failed to disprove the null hypothesis\n",
      "\n",
      "Testing the hypothesis of equality of shares for an event payment_secces\n",
      "p-значение:  0.7373415053803964\n",
      "We failed to disprove the null hypothesis\n",
      "\n"
     ]
    }
   ],
   "source": [
    "groups_for_test(1, 2, 0.05)"
   ]
  },
  {
   "cell_type": "markdown",
   "metadata": {},
   "source": [
    "None of the four tests disproves the null hypothesis. The p-value is very high for each of the tests."
   ]
  },
  {
   "cell_type": "markdown",
   "metadata": {},
   "source": [
    "### A1+A2/B-test\n",
    "\n",
    "Let's find out if there is a difference between the summed samples from the control groups (246+247) and the experimental group 248."
   ]
  },
  {
   "cell_type": "code",
   "execution_count": 35,
   "metadata": {},
   "outputs": [
    {
     "name": "stdout",
     "output_type": "stream",
     "text": [
      "Testing the hypothesis of equality of shares for an event main_screen_appear\n",
      "p-значение:  0.29424526837179577\n",
      "We failed to disprove the null hypothesis\n",
      "\n",
      "Testing the hypothesis of equality of shares for an event offers_screen_appear\n",
      "p-значение:  0.43425549655188256\n",
      "We failed to disprove the null hypothesis\n",
      "\n",
      "Testing the hypothesis of equality of shares for an event cart_screen_appear\n",
      "p-значение:  0.18175875284404386\n",
      "We failed to disprove the null hypothesis\n",
      "\n",
      "Testing the hypothesis of equality of shares for an event payment_secces\n",
      "p-значение:  0.6004294282308704\n",
      "We failed to disprove the null hypothesis\n",
      "\n"
     ]
    }
   ],
   "source": [
    "groups_for_test(3, 2, 0.05)"
   ]
  },
  {
   "cell_type": "markdown",
   "metadata": {},
   "source": [
    "None of the four tests disproves the null hypothesis. The p-value is very high for each of the tests."
   ]
  },
  {
   "cell_type": "markdown",
   "metadata": {},
   "source": [
    "## Correction\n",
    "\n",
    "We ran a total of 16 tests (4 tests for 4 combinations of groups). Such a number of tests increases the group probability of the type I error. Let us find out what level of statistical significance should be chosen if we apply the Bonferroni correction.\n",
    "\n",
    "To do this, we divide the accepted alpha value (0.05) by the number of conducted tests - 16."
   ]
  },
  {
   "cell_type": "code",
   "execution_count": 36,
   "metadata": {},
   "outputs": [
    {
     "data": {
      "text/plain": [
       "0.003125"
      ]
     },
     "execution_count": 36,
     "metadata": {},
     "output_type": "execute_result"
    }
   ],
   "source": [
    "ɑ1 = 0.05 / 16\n",
    "ɑ1"
   ]
  },
  {
   "cell_type": "markdown",
   "metadata": {},
   "source": [
    "However, it makes no sense to run the tests again - we can see that the p-value does not fall below 0.078 in any of the tests. If we run the tests taking into account the correction, they will give the same result."
   ]
  },
  {
   "cell_type": "markdown",
   "metadata": {},
   "source": [
    "## Overall conclusion\n",
    "\n",
    "We analysed the results of an A/A/B test conducted for an online retailer's mobile app. The purpose of the test was to find out whether changing the font throughout the app affects user behaviour and conversion rates.\n",
    "\n",
    "The test was conducted on 3 groups:\n",
    "- 246 - control\n",
    "- 247 - control\n",
    "- 248 - experimental\n",
    "\n",
    "In the data preprocessing phase, we renamed the columns and brought the data with dates to the desired type, checked the data for omissions, and checked if there were users in the dataset who fell into multiple groups at once.\n",
    "\n",
    "The dataset contains data from 25 July to 7 August 2019. However, we decided to keep data for only one week (1 to 7 August 2019) as the data from 25 July to 31 July does not appear to be complete. As a result of the filtering, we removed a negligible amount of data:\n",
    "- 2828 events (1.16% of the data)\n",
    "- 17 users (0.23% of the data)\n",
    "\n",
    "We verified that there are users in each of the groups and that they are evenly distributed between the groups. There are about 2,500 users in each of the groups - 33% of the total.\n",
    "\n",
    "We analysed the event funnel and found that users perform the following actions in the application:\n",
    "- viewing the main screen - MainScreenAppear\n",
    "- navigate to the page with products - OffersScreenAppear\n",
    "- navigate to the cart page - CartScreenAppear\n",
    "- paying for an order - PaymentScreenSuccessful\n",
    "- viewing tutorial - Tutorial\n",
    "\n",
    "We decided to classify the tutorial action as optional and not take it into account when calculating the event funnel.\n",
    "\n",
    "We defined the event funnel and calculated what percentage of users move on to the next stage:\n",
    "- MainScreenAppear - 98% of users\n",
    "- OffersScreenAppear - 62% \n",
    "- CartScreenAppear - 81%\n",
    "- PaymentScreenSuccessful - 95%\n",
    "\n",
    "Most of all users are lost on the 2nd step - going to the page with products.\n",
    "\n",
    "To analyse the results of the experiment, we conducted tests for 4 combinations of groups, for each step of the funnel:\n",
    "- A/A-test\n",
    "- A1/B-test\n",
    "- A2/B-test\n",
    "- A1+A2/B-test\n",
    "\n",
    "A total of 16 tests were performed\n",
    "\n",
    "**A/A-test** showed no differences between the groups. We made sure that the control groups were equal and the test was performed correctly.\n",
    "\n",
    "**A1/B-test** - showed no differences between groups\n",
    "\n",
    "**A2/B-test** - showed no differences between the groups.\n",
    "\n",
    "**A1+A2/B-test** showed no differences between groups.\n",
    "\n",
    "**It can be concluded that the font change did not affect user behaviour or conversion. The test can be completed.**"
   ]
  }
 ],
 "metadata": {
  "ExecuteTimeLog": [
   {
    "duration": 1219,
    "start_time": "2023-06-05T15:58:59.890Z"
   },
   {
    "duration": 939,
    "start_time": "2023-06-05T16:02:29.516Z"
   },
   {
    "duration": 303,
    "start_time": "2023-06-05T16:02:55.719Z"
   },
   {
    "duration": 281,
    "start_time": "2023-06-05T16:03:14.236Z"
   },
   {
    "duration": 291,
    "start_time": "2023-06-05T16:09:11.311Z"
   },
   {
    "duration": 158,
    "start_time": "2023-06-05T16:11:00.092Z"
   },
   {
    "duration": 11,
    "start_time": "2023-06-05T16:14:33.228Z"
   },
   {
    "duration": 6,
    "start_time": "2023-06-05T16:16:09.400Z"
   },
   {
    "duration": 17,
    "start_time": "2023-06-05T16:16:13.234Z"
   },
   {
    "duration": 21,
    "start_time": "2023-06-05T16:17:30.022Z"
   },
   {
    "duration": 15,
    "start_time": "2023-06-05T16:19:24.122Z"
   },
   {
    "duration": 1221,
    "start_time": "2023-06-05T16:20:47.428Z"
   },
   {
    "duration": 1082,
    "start_time": "2023-06-05T16:20:55.832Z"
   },
   {
    "duration": 227,
    "start_time": "2023-06-05T16:20:56.915Z"
   },
   {
    "duration": 19,
    "start_time": "2023-06-05T16:20:57.143Z"
   },
   {
    "duration": 18,
    "start_time": "2023-06-05T16:20:57.163Z"
   },
   {
    "duration": 1268,
    "start_time": "2023-06-05T16:20:57.184Z"
   },
   {
    "duration": 40,
    "start_time": "2023-06-05T16:21:03.984Z"
   },
   {
    "duration": 22,
    "start_time": "2023-06-05T16:21:11.484Z"
   },
   {
    "duration": 20,
    "start_time": "2023-06-05T16:27:51.107Z"
   },
   {
    "duration": 1042,
    "start_time": "2023-06-05T16:28:55.586Z"
   },
   {
    "duration": 206,
    "start_time": "2023-06-05T16:28:56.630Z"
   },
   {
    "duration": 19,
    "start_time": "2023-06-05T16:28:56.838Z"
   },
   {
    "duration": 19,
    "start_time": "2023-06-05T16:28:56.858Z"
   },
   {
    "duration": 45,
    "start_time": "2023-06-05T16:29:43.262Z"
   },
   {
    "duration": 103,
    "start_time": "2023-06-05T16:30:20.378Z"
   },
   {
    "duration": 21,
    "start_time": "2023-06-05T16:30:32.931Z"
   },
   {
    "duration": 20,
    "start_time": "2023-06-05T17:02:21.584Z"
   },
   {
    "duration": 1067,
    "start_time": "2023-06-05T17:02:37.736Z"
   },
   {
    "duration": 211,
    "start_time": "2023-06-05T17:02:38.805Z"
   },
   {
    "duration": 16,
    "start_time": "2023-06-05T17:02:39.017Z"
   },
   {
    "duration": 31,
    "start_time": "2023-06-05T17:02:39.035Z"
   },
   {
    "duration": 27,
    "start_time": "2023-06-05T17:02:44.284Z"
   },
   {
    "duration": 27,
    "start_time": "2023-06-05T17:03:09.451Z"
   },
   {
    "duration": 16,
    "start_time": "2023-06-05T17:04:50.919Z"
   },
   {
    "duration": 73,
    "start_time": "2023-06-05T17:16:14.820Z"
   },
   {
    "duration": 1037,
    "start_time": "2023-06-05T17:17:46.339Z"
   },
   {
    "duration": 207,
    "start_time": "2023-06-05T17:17:47.378Z"
   },
   {
    "duration": 16,
    "start_time": "2023-06-05T17:17:47.587Z"
   },
   {
    "duration": 19,
    "start_time": "2023-06-05T17:17:47.605Z"
   },
   {
    "duration": 39,
    "start_time": "2023-06-05T17:17:47.625Z"
   },
   {
    "duration": 84,
    "start_time": "2023-06-05T17:17:47.666Z"
   },
   {
    "duration": 32,
    "start_time": "2023-06-05T17:19:46.236Z"
   },
   {
    "duration": 21,
    "start_time": "2023-06-05T17:19:54.017Z"
   },
   {
    "duration": 39,
    "start_time": "2023-06-05T17:20:49.559Z"
   },
   {
    "duration": 35,
    "start_time": "2023-06-05T17:22:56.187Z"
   },
   {
    "duration": 26,
    "start_time": "2023-06-05T17:23:24.591Z"
   },
   {
    "duration": 9,
    "start_time": "2023-06-05T17:30:37.196Z"
   },
   {
    "duration": 78,
    "start_time": "2023-06-05T17:31:29.403Z"
   },
   {
    "duration": 9,
    "start_time": "2023-06-05T17:31:36.306Z"
   },
   {
    "duration": 4,
    "start_time": "2023-06-05T17:33:35.487Z"
   },
   {
    "duration": 10,
    "start_time": "2023-06-05T17:36:08.787Z"
   },
   {
    "duration": 8,
    "start_time": "2023-06-05T17:36:20.094Z"
   },
   {
    "duration": 14,
    "start_time": "2023-06-05T17:36:24.211Z"
   },
   {
    "duration": 7,
    "start_time": "2023-06-05T17:36:37.620Z"
   },
   {
    "duration": 368,
    "start_time": "2023-06-05T17:39:21.706Z"
   },
   {
    "duration": 583,
    "start_time": "2023-06-05T17:39:43.142Z"
   },
   {
    "duration": 578,
    "start_time": "2023-06-05T17:40:24.904Z"
   },
   {
    "duration": 3,
    "start_time": "2023-06-05T17:41:41.792Z"
   },
   {
    "duration": 298,
    "start_time": "2023-06-05T17:42:26.005Z"
   },
   {
    "duration": 211,
    "start_time": "2023-06-05T17:43:12.947Z"
   },
   {
    "duration": 186,
    "start_time": "2023-06-05T17:43:19.596Z"
   },
   {
    "duration": 176,
    "start_time": "2023-06-05T17:43:30.288Z"
   },
   {
    "duration": 268,
    "start_time": "2023-06-05T17:45:51.209Z"
   },
   {
    "duration": 195,
    "start_time": "2023-06-05T17:45:59.255Z"
   },
   {
    "duration": 240,
    "start_time": "2023-06-05T17:47:17.404Z"
   },
   {
    "duration": 1027,
    "start_time": "2023-06-05T19:09:03.305Z"
   },
   {
    "duration": 584,
    "start_time": "2023-06-05T19:09:04.334Z"
   },
   {
    "duration": 15,
    "start_time": "2023-06-05T19:09:04.919Z"
   },
   {
    "duration": 18,
    "start_time": "2023-06-05T19:09:04.935Z"
   },
   {
    "duration": 17,
    "start_time": "2023-06-05T19:09:04.955Z"
   },
   {
    "duration": 94,
    "start_time": "2023-06-05T19:09:04.973Z"
   },
   {
    "duration": 48,
    "start_time": "2023-06-05T19:09:05.069Z"
   },
   {
    "duration": 4,
    "start_time": "2023-06-05T19:09:05.119Z"
   },
   {
    "duration": 29,
    "start_time": "2023-06-05T19:09:05.124Z"
   },
   {
    "duration": 7,
    "start_time": "2023-06-05T19:09:05.155Z"
   },
   {
    "duration": 599,
    "start_time": "2023-06-05T19:09:05.164Z"
   },
   {
    "duration": 266,
    "start_time": "2023-06-05T19:09:05.765Z"
   },
   {
    "duration": 177,
    "start_time": "2023-06-05T19:31:34.169Z"
   },
   {
    "duration": 107,
    "start_time": "2023-06-05T19:31:44.696Z"
   },
   {
    "duration": 111,
    "start_time": "2023-06-05T19:31:50.841Z"
   },
   {
    "duration": 110,
    "start_time": "2023-06-05T19:32:00.051Z"
   },
   {
    "duration": 1315,
    "start_time": "2023-06-06T11:06:13.539Z"
   },
   {
    "duration": 599,
    "start_time": "2023-06-06T11:06:14.856Z"
   },
   {
    "duration": 18,
    "start_time": "2023-06-06T11:06:15.457Z"
   },
   {
    "duration": 21,
    "start_time": "2023-06-06T11:06:15.477Z"
   },
   {
    "duration": 19,
    "start_time": "2023-06-06T11:06:15.501Z"
   },
   {
    "duration": 119,
    "start_time": "2023-06-06T11:06:15.543Z"
   },
   {
    "duration": 45,
    "start_time": "2023-06-06T11:06:15.663Z"
   },
   {
    "duration": 4,
    "start_time": "2023-06-06T11:06:15.710Z"
   },
   {
    "duration": 33,
    "start_time": "2023-06-06T11:06:15.715Z"
   },
   {
    "duration": 11,
    "start_time": "2023-06-06T11:06:15.749Z"
   },
   {
    "duration": 652,
    "start_time": "2023-06-06T11:06:15.762Z"
   },
   {
    "duration": 288,
    "start_time": "2023-06-06T11:06:16.416Z"
   },
   {
    "duration": 219,
    "start_time": "2023-06-06T11:09:24.609Z"
   },
   {
    "duration": 110,
    "start_time": "2023-06-06T11:09:33.818Z"
   },
   {
    "duration": 243,
    "start_time": "2023-06-06T11:09:38.649Z"
   },
   {
    "duration": 184,
    "start_time": "2023-06-06T11:13:06.798Z"
   },
   {
    "duration": 202,
    "start_time": "2023-06-06T11:13:11.945Z"
   },
   {
    "duration": 205,
    "start_time": "2023-06-06T11:13:16.814Z"
   },
   {
    "duration": 15,
    "start_time": "2023-06-06T11:17:43.990Z"
   },
   {
    "duration": 29,
    "start_time": "2023-06-06T11:17:59.009Z"
   },
   {
    "duration": 5,
    "start_time": "2023-06-06T11:19:12.527Z"
   },
   {
    "duration": 16,
    "start_time": "2023-06-06T11:20:24.451Z"
   },
   {
    "duration": 11,
    "start_time": "2023-06-06T11:23:50.786Z"
   },
   {
    "duration": 22,
    "start_time": "2023-06-06T11:31:47.009Z"
   },
   {
    "duration": 53,
    "start_time": "2023-06-06T11:43:54.789Z"
   },
   {
    "duration": 53,
    "start_time": "2023-06-06T11:46:10.972Z"
   },
   {
    "duration": 54,
    "start_time": "2023-06-06T11:46:17.657Z"
   },
   {
    "duration": 55,
    "start_time": "2023-06-06T11:51:02.808Z"
   },
   {
    "duration": 51,
    "start_time": "2023-06-06T11:53:16.697Z"
   },
   {
    "duration": 9,
    "start_time": "2023-06-06T11:55:03.151Z"
   },
   {
    "duration": 14,
    "start_time": "2023-06-06T11:55:08.597Z"
   },
   {
    "duration": 13,
    "start_time": "2023-06-06T11:56:44.005Z"
   },
   {
    "duration": 47,
    "start_time": "2023-06-06T11:58:40.540Z"
   },
   {
    "duration": 1266,
    "start_time": "2023-06-06T11:59:04.958Z"
   },
   {
    "duration": 221,
    "start_time": "2023-06-06T11:59:06.227Z"
   },
   {
    "duration": 15,
    "start_time": "2023-06-06T11:59:06.450Z"
   },
   {
    "duration": 23,
    "start_time": "2023-06-06T11:59:06.467Z"
   },
   {
    "duration": 18,
    "start_time": "2023-06-06T11:59:06.493Z"
   },
   {
    "duration": 131,
    "start_time": "2023-06-06T11:59:06.512Z"
   },
   {
    "duration": 41,
    "start_time": "2023-06-06T11:59:06.645Z"
   },
   {
    "duration": 4,
    "start_time": "2023-06-06T11:59:06.688Z"
   },
   {
    "duration": 11,
    "start_time": "2023-06-06T11:59:06.694Z"
   },
   {
    "duration": 36,
    "start_time": "2023-06-06T11:59:06.706Z"
   },
   {
    "duration": 670,
    "start_time": "2023-06-06T11:59:06.744Z"
   },
   {
    "duration": 292,
    "start_time": "2023-06-06T11:59:07.416Z"
   },
   {
    "duration": 43,
    "start_time": "2023-06-06T11:59:07.710Z"
   },
   {
    "duration": 14,
    "start_time": "2023-06-06T11:59:07.756Z"
   },
   {
    "duration": 11,
    "start_time": "2023-06-06T11:59:07.772Z"
   },
   {
    "duration": 23,
    "start_time": "2023-06-06T11:59:07.785Z"
   },
   {
    "duration": 91,
    "start_time": "2023-06-06T11:59:07.810Z"
   },
   {
    "duration": 65,
    "start_time": "2023-06-06T11:59:07.903Z"
   },
   {
    "duration": 63,
    "start_time": "2023-06-06T12:00:28.779Z"
   },
   {
    "duration": 62,
    "start_time": "2023-06-06T12:04:56.165Z"
   },
   {
    "duration": 1065,
    "start_time": "2023-06-06T12:28:07.394Z"
   },
   {
    "duration": 227,
    "start_time": "2023-06-06T12:28:08.461Z"
   },
   {
    "duration": 17,
    "start_time": "2023-06-06T12:28:08.690Z"
   },
   {
    "duration": 33,
    "start_time": "2023-06-06T12:28:08.709Z"
   },
   {
    "duration": 19,
    "start_time": "2023-06-06T12:28:08.744Z"
   },
   {
    "duration": 127,
    "start_time": "2023-06-06T12:28:08.765Z"
   },
   {
    "duration": 54,
    "start_time": "2023-06-06T12:28:08.894Z"
   },
   {
    "duration": 4,
    "start_time": "2023-06-06T12:28:08.950Z"
   },
   {
    "duration": 11,
    "start_time": "2023-06-06T12:28:08.956Z"
   },
   {
    "duration": 8,
    "start_time": "2023-06-06T12:28:08.969Z"
   },
   {
    "duration": 735,
    "start_time": "2023-06-06T12:28:08.978Z"
   },
   {
    "duration": 310,
    "start_time": "2023-06-06T12:28:09.715Z"
   },
   {
    "duration": 43,
    "start_time": "2023-06-06T12:28:10.027Z"
   },
   {
    "duration": 16,
    "start_time": "2023-06-06T12:28:10.073Z"
   },
   {
    "duration": 13,
    "start_time": "2023-06-06T12:28:10.091Z"
   },
   {
    "duration": 43,
    "start_time": "2023-06-06T12:28:10.106Z"
   },
   {
    "duration": 77,
    "start_time": "2023-06-06T12:28:10.151Z"
   },
   {
    "duration": 3,
    "start_time": "2023-06-06T12:29:11.756Z"
   },
   {
    "duration": 39,
    "start_time": "2023-06-06T12:39:38.641Z"
   },
   {
    "duration": 82,
    "start_time": "2023-06-06T12:40:35.544Z"
   },
   {
    "duration": 72,
    "start_time": "2023-06-06T12:41:11.798Z"
   },
   {
    "duration": 68,
    "start_time": "2023-06-06T12:41:47.796Z"
   },
   {
    "duration": 145,
    "start_time": "2023-06-06T12:57:05.848Z"
   },
   {
    "duration": 53,
    "start_time": "2023-06-06T12:58:36.592Z"
   },
   {
    "duration": 72,
    "start_time": "2023-06-06T12:58:50.405Z"
   },
   {
    "duration": 8,
    "start_time": "2023-06-06T12:59:06.261Z"
   },
   {
    "duration": 1218,
    "start_time": "2023-06-06T14:16:14.194Z"
   },
   {
    "duration": 1088,
    "start_time": "2023-06-06T14:16:15.414Z"
   },
   {
    "duration": 16,
    "start_time": "2023-06-06T14:16:16.504Z"
   },
   {
    "duration": 19,
    "start_time": "2023-06-06T14:16:16.521Z"
   },
   {
    "duration": 29,
    "start_time": "2023-06-06T14:16:16.542Z"
   },
   {
    "duration": 114,
    "start_time": "2023-06-06T14:16:16.573Z"
   },
   {
    "duration": 41,
    "start_time": "2023-06-06T14:16:16.689Z"
   },
   {
    "duration": 4,
    "start_time": "2023-06-06T14:16:16.732Z"
   },
   {
    "duration": 36,
    "start_time": "2023-06-06T14:16:16.737Z"
   },
   {
    "duration": 8,
    "start_time": "2023-06-06T14:16:16.775Z"
   },
   {
    "duration": 607,
    "start_time": "2023-06-06T14:16:16.784Z"
   },
   {
    "duration": 286,
    "start_time": "2023-06-06T14:16:17.393Z"
   },
   {
    "duration": 28,
    "start_time": "2023-06-06T14:16:17.680Z"
   },
   {
    "duration": 13,
    "start_time": "2023-06-06T14:16:17.711Z"
   },
   {
    "duration": 41,
    "start_time": "2023-06-06T14:16:17.726Z"
   },
   {
    "duration": 23,
    "start_time": "2023-06-06T14:16:17.769Z"
   },
   {
    "duration": 78,
    "start_time": "2023-06-06T14:16:17.794Z"
   },
   {
    "duration": 94,
    "start_time": "2023-06-06T14:16:17.874Z"
   },
   {
    "duration": 9,
    "start_time": "2023-06-06T14:16:17.970Z"
   },
   {
    "duration": 74,
    "start_time": "2023-06-06T14:25:05.484Z"
   },
   {
    "duration": 5,
    "start_time": "2023-06-06T14:31:47.196Z"
   },
   {
    "duration": 5,
    "start_time": "2023-06-06T14:32:17.140Z"
   },
   {
    "duration": 14,
    "start_time": "2023-06-06T14:38:56.472Z"
   },
   {
    "duration": 15,
    "start_time": "2023-06-06T14:39:10.643Z"
   },
   {
    "duration": 15,
    "start_time": "2023-06-06T14:39:20.286Z"
   },
   {
    "duration": 9,
    "start_time": "2023-06-06T14:39:41.316Z"
   },
   {
    "duration": 7,
    "start_time": "2023-06-06T14:40:47.492Z"
   },
   {
    "duration": 9,
    "start_time": "2023-06-06T14:40:58.371Z"
   },
   {
    "duration": 8,
    "start_time": "2023-06-06T14:41:10.597Z"
   },
   {
    "duration": 1402,
    "start_time": "2023-06-06T14:41:28.028Z"
   },
   {
    "duration": 6,
    "start_time": "2023-06-06T14:41:45.380Z"
   },
   {
    "duration": 12,
    "start_time": "2023-06-06T14:41:58.356Z"
   },
   {
    "duration": 78,
    "start_time": "2023-06-06T14:45:23.428Z"
   },
   {
    "duration": 72,
    "start_time": "2023-06-06T14:45:45.774Z"
   },
   {
    "duration": 66,
    "start_time": "2023-06-06T14:47:16.984Z"
   },
   {
    "duration": 69,
    "start_time": "2023-06-06T14:47:25.585Z"
   },
   {
    "duration": 80,
    "start_time": "2023-06-06T14:47:46.745Z"
   },
   {
    "duration": 92,
    "start_time": "2023-06-06T14:48:04.078Z"
   },
   {
    "duration": 74,
    "start_time": "2023-06-06T14:48:11.153Z"
   },
   {
    "duration": 91,
    "start_time": "2023-06-06T14:54:49.948Z"
   },
   {
    "duration": 89,
    "start_time": "2023-06-06T14:55:12.412Z"
   },
   {
    "duration": 119,
    "start_time": "2023-06-06T14:55:32.908Z"
   },
   {
    "duration": 78,
    "start_time": "2023-06-06T14:55:40.044Z"
   },
   {
    "duration": 102,
    "start_time": "2023-06-06T14:55:47.204Z"
   },
   {
    "duration": 4,
    "start_time": "2023-06-06T14:56:13.228Z"
   },
   {
    "duration": 4,
    "start_time": "2023-06-06T14:56:24.164Z"
   },
   {
    "duration": 4,
    "start_time": "2023-06-06T15:01:28.395Z"
   },
   {
    "duration": 4,
    "start_time": "2023-06-06T15:01:41.321Z"
   },
   {
    "duration": 81,
    "start_time": "2023-06-06T15:05:02.545Z"
   },
   {
    "duration": 14,
    "start_time": "2023-06-06T15:26:58.331Z"
   },
   {
    "duration": 42,
    "start_time": "2023-06-06T15:27:46.626Z"
   },
   {
    "duration": 39,
    "start_time": "2023-06-06T15:28:49.978Z"
   },
   {
    "duration": 173,
    "start_time": "2023-06-06T15:29:11.601Z"
   },
   {
    "duration": 170,
    "start_time": "2023-06-06T15:29:20.922Z"
   },
   {
    "duration": 197,
    "start_time": "2023-06-06T15:31:07.179Z"
   },
   {
    "duration": 172,
    "start_time": "2023-06-06T15:31:15.650Z"
   },
   {
    "duration": 91,
    "start_time": "2023-06-06T15:32:41.939Z"
   },
   {
    "duration": 161,
    "start_time": "2023-06-06T15:32:57.043Z"
   },
   {
    "duration": 91,
    "start_time": "2023-06-06T15:36:58.483Z"
   },
   {
    "duration": 185,
    "start_time": "2023-06-06T15:37:18.638Z"
   },
   {
    "duration": 182,
    "start_time": "2023-06-06T15:37:29.643Z"
   },
   {
    "duration": 1236,
    "start_time": "2023-06-07T10:06:48.226Z"
   },
   {
    "duration": 585,
    "start_time": "2023-06-07T10:06:49.464Z"
   },
   {
    "duration": 14,
    "start_time": "2023-06-07T10:06:50.051Z"
   },
   {
    "duration": 35,
    "start_time": "2023-06-07T10:06:50.067Z"
   },
   {
    "duration": 21,
    "start_time": "2023-06-07T10:06:50.106Z"
   },
   {
    "duration": 127,
    "start_time": "2023-06-07T10:06:50.129Z"
   },
   {
    "duration": 59,
    "start_time": "2023-06-07T10:06:50.258Z"
   },
   {
    "duration": 9,
    "start_time": "2023-06-07T10:06:50.319Z"
   },
   {
    "duration": 22,
    "start_time": "2023-06-07T10:06:50.330Z"
   },
   {
    "duration": 6,
    "start_time": "2023-06-07T10:06:50.354Z"
   },
   {
    "duration": 592,
    "start_time": "2023-06-07T10:06:50.362Z"
   },
   {
    "duration": 310,
    "start_time": "2023-06-07T10:06:50.955Z"
   },
   {
    "duration": 30,
    "start_time": "2023-06-07T10:06:51.267Z"
   },
   {
    "duration": 31,
    "start_time": "2023-06-07T10:06:51.300Z"
   },
   {
    "duration": 16,
    "start_time": "2023-06-07T10:06:51.336Z"
   },
   {
    "duration": 22,
    "start_time": "2023-06-07T10:06:51.353Z"
   },
   {
    "duration": 72,
    "start_time": "2023-06-07T10:06:51.377Z"
   },
   {
    "duration": 81,
    "start_time": "2023-06-07T10:06:51.450Z"
   },
   {
    "duration": 4,
    "start_time": "2023-06-07T10:06:51.537Z"
   },
   {
    "duration": 50,
    "start_time": "2023-06-07T10:06:51.543Z"
   },
   {
    "duration": 158,
    "start_time": "2023-06-07T10:06:51.595Z"
   },
   {
    "duration": 16,
    "start_time": "2023-06-07T11:11:56.659Z"
   },
   {
    "duration": 44,
    "start_time": "2023-06-07T11:12:02.414Z"
   },
   {
    "duration": 25,
    "start_time": "2023-06-07T11:12:17.768Z"
   },
   {
    "duration": 12,
    "start_time": "2023-06-07T11:14:10.643Z"
   },
   {
    "duration": 34,
    "start_time": "2023-06-07T11:14:16.171Z"
   },
   {
    "duration": 31,
    "start_time": "2023-06-07T11:15:00.431Z"
   },
   {
    "duration": 54,
    "start_time": "2023-06-07T11:22:21.169Z"
   },
   {
    "duration": 27,
    "start_time": "2023-06-07T11:41:10.890Z"
   },
   {
    "duration": 27,
    "start_time": "2023-06-07T11:43:39.700Z"
   },
   {
    "duration": 24,
    "start_time": "2023-06-07T11:45:03.461Z"
   },
   {
    "duration": 3,
    "start_time": "2023-06-07T11:46:34.427Z"
   },
   {
    "duration": 88,
    "start_time": "2023-06-07T11:50:54.517Z"
   },
   {
    "duration": 83,
    "start_time": "2023-06-07T11:51:11.537Z"
   },
   {
    "duration": 2415,
    "start_time": "2023-06-07T11:51:31.613Z"
   },
   {
    "duration": 85,
    "start_time": "2023-06-07T12:01:53.407Z"
   },
   {
    "duration": 3795,
    "start_time": "2023-06-07T12:02:12.839Z"
   },
   {
    "duration": 2,
    "start_time": "2023-06-07T12:02:43.444Z"
   },
   {
    "duration": 2561,
    "start_time": "2023-06-07T12:02:46.015Z"
   },
   {
    "duration": 25,
    "start_time": "2023-06-07T12:02:59.829Z"
   },
   {
    "duration": 2374,
    "start_time": "2023-06-07T12:03:24.889Z"
   },
   {
    "duration": 21,
    "start_time": "2023-06-07T12:03:39.186Z"
   },
   {
    "duration": 25,
    "start_time": "2023-06-07T12:04:25.547Z"
   },
   {
    "duration": 84,
    "start_time": "2023-06-07T12:04:43.257Z"
   },
   {
    "duration": 81,
    "start_time": "2023-06-07T12:05:00.287Z"
   },
   {
    "duration": 85,
    "start_time": "2023-06-07T12:07:00.440Z"
   },
   {
    "duration": 7,
    "start_time": "2023-06-07T12:20:27.218Z"
   },
   {
    "duration": 52,
    "start_time": "2023-06-07T12:40:52.098Z"
   },
   {
    "duration": 55,
    "start_time": "2023-06-07T12:41:03.455Z"
   },
   {
    "duration": 67,
    "start_time": "2023-06-07T13:33:12.703Z"
   },
   {
    "duration": 107,
    "start_time": "2023-06-07T13:33:18.018Z"
   },
   {
    "duration": 99,
    "start_time": "2023-06-07T13:34:35.402Z"
   },
   {
    "duration": 964,
    "start_time": "2023-06-07T13:37:11.441Z"
   },
   {
    "duration": 83,
    "start_time": "2023-06-07T13:37:38.157Z"
   },
   {
    "duration": 3,
    "start_time": "2023-06-07T13:45:05.172Z"
   },
   {
    "duration": 3,
    "start_time": "2023-06-07T13:45:12.514Z"
   },
   {
    "duration": 2427,
    "start_time": "2023-06-07T13:46:14.718Z"
   },
   {
    "duration": 12,
    "start_time": "2023-06-07T13:48:38.794Z"
   },
   {
    "duration": 1023,
    "start_time": "2023-06-07T13:53:38.718Z"
   },
   {
    "duration": 312,
    "start_time": "2023-06-07T13:53:39.743Z"
   },
   {
    "duration": 18,
    "start_time": "2023-06-07T13:53:40.057Z"
   },
   {
    "duration": 25,
    "start_time": "2023-06-07T13:53:40.077Z"
   },
   {
    "duration": 30,
    "start_time": "2023-06-07T13:53:40.104Z"
   },
   {
    "duration": 141,
    "start_time": "2023-06-07T13:53:40.136Z"
   },
   {
    "duration": 58,
    "start_time": "2023-06-07T13:53:40.279Z"
   },
   {
    "duration": 4,
    "start_time": "2023-06-07T13:53:40.339Z"
   },
   {
    "duration": 17,
    "start_time": "2023-06-07T13:53:40.345Z"
   },
   {
    "duration": 8,
    "start_time": "2023-06-07T13:53:40.363Z"
   },
   {
    "duration": 615,
    "start_time": "2023-06-07T13:53:40.373Z"
   },
   {
    "duration": 313,
    "start_time": "2023-06-07T13:53:40.991Z"
   },
   {
    "duration": 37,
    "start_time": "2023-06-07T13:53:41.306Z"
   },
   {
    "duration": 12,
    "start_time": "2023-06-07T13:53:41.346Z"
   },
   {
    "duration": 41,
    "start_time": "2023-06-07T13:53:41.360Z"
   },
   {
    "duration": 41,
    "start_time": "2023-06-07T13:53:41.403Z"
   },
   {
    "duration": 17,
    "start_time": "2023-06-07T13:53:41.445Z"
   },
   {
    "duration": 103,
    "start_time": "2023-06-07T13:53:41.464Z"
   },
   {
    "duration": 73,
    "start_time": "2023-06-07T13:53:41.569Z"
   },
   {
    "duration": 3,
    "start_time": "2023-06-07T13:53:41.643Z"
   },
   {
    "duration": 37,
    "start_time": "2023-06-07T13:53:41.648Z"
   },
   {
    "duration": 170,
    "start_time": "2023-06-07T13:53:41.686Z"
   },
   {
    "duration": 96,
    "start_time": "2023-06-07T13:53:41.857Z"
   },
   {
    "duration": 32,
    "start_time": "2023-06-07T13:54:25.453Z"
   },
   {
    "duration": 32,
    "start_time": "2023-06-07T13:54:32.833Z"
   },
   {
    "duration": 1330,
    "start_time": "2023-06-07T13:56:48.552Z"
   },
   {
    "duration": 9,
    "start_time": "2023-06-07T13:57:19.193Z"
   },
   {
    "duration": 95,
    "start_time": "2023-06-07T14:01:18.878Z"
   },
   {
    "duration": 97,
    "start_time": "2023-06-07T14:01:25.566Z"
   },
   {
    "duration": 95,
    "start_time": "2023-06-07T14:09:17.072Z"
   },
   {
    "duration": 93,
    "start_time": "2023-06-07T14:09:31.168Z"
   },
   {
    "duration": 93,
    "start_time": "2023-06-07T14:09:39.810Z"
   },
   {
    "duration": 102,
    "start_time": "2023-06-07T14:10:00.932Z"
   },
   {
    "duration": 95,
    "start_time": "2023-06-07T14:14:25.590Z"
   },
   {
    "duration": 7,
    "start_time": "2023-06-07T14:18:26.524Z"
   },
   {
    "duration": 8,
    "start_time": "2023-06-07T14:19:14.401Z"
   },
   {
    "duration": 9,
    "start_time": "2023-06-07T14:19:24.044Z"
   },
   {
    "duration": 11,
    "start_time": "2023-06-07T14:26:15.554Z"
   },
   {
    "duration": 4,
    "start_time": "2023-06-07T14:55:59.997Z"
   },
   {
    "duration": 123,
    "start_time": "2023-06-07T15:10:29.489Z"
   },
   {
    "duration": 10,
    "start_time": "2023-06-07T15:10:43.918Z"
   },
   {
    "duration": 114,
    "start_time": "2023-06-07T15:11:08.726Z"
   },
   {
    "duration": 9,
    "start_time": "2023-06-07T15:11:14.382Z"
   },
   {
    "duration": 5,
    "start_time": "2023-06-07T15:11:25.754Z"
   },
   {
    "duration": 5,
    "start_time": "2023-06-07T15:32:00.202Z"
   },
   {
    "duration": 14,
    "start_time": "2023-06-07T15:34:16.961Z"
   },
   {
    "duration": 3,
    "start_time": "2023-06-07T15:35:25.985Z"
   },
   {
    "duration": 969,
    "start_time": "2023-06-07T15:35:35.070Z"
   },
   {
    "duration": 213,
    "start_time": "2023-06-07T15:35:36.041Z"
   },
   {
    "duration": 15,
    "start_time": "2023-06-07T15:35:36.256Z"
   },
   {
    "duration": 60,
    "start_time": "2023-06-07T15:35:36.273Z"
   },
   {
    "duration": 29,
    "start_time": "2023-06-07T15:35:36.335Z"
   },
   {
    "duration": 134,
    "start_time": "2023-06-07T15:35:36.365Z"
   },
   {
    "duration": 49,
    "start_time": "2023-06-07T15:35:36.501Z"
   },
   {
    "duration": 21,
    "start_time": "2023-06-07T15:35:36.551Z"
   },
   {
    "duration": 101,
    "start_time": "2023-06-07T15:35:36.574Z"
   },
   {
    "duration": 57,
    "start_time": "2023-06-07T15:35:36.676Z"
   },
   {
    "duration": 634,
    "start_time": "2023-06-07T15:35:36.735Z"
   },
   {
    "duration": 290,
    "start_time": "2023-06-07T15:35:37.370Z"
   },
   {
    "duration": 26,
    "start_time": "2023-06-07T15:35:37.662Z"
   },
   {
    "duration": 12,
    "start_time": "2023-06-07T15:35:37.691Z"
   },
   {
    "duration": 62,
    "start_time": "2023-06-07T15:35:37.704Z"
   },
   {
    "duration": 26,
    "start_time": "2023-06-07T15:35:37.767Z"
   },
   {
    "duration": 70,
    "start_time": "2023-06-07T15:35:37.795Z"
   },
   {
    "duration": 171,
    "start_time": "2023-06-07T15:35:37.867Z"
   },
   {
    "duration": 73,
    "start_time": "2023-06-07T15:35:38.040Z"
   },
   {
    "duration": 3,
    "start_time": "2023-06-07T15:35:38.125Z"
   },
   {
    "duration": 259,
    "start_time": "2023-06-07T15:35:38.130Z"
   },
   {
    "duration": 199,
    "start_time": "2023-06-07T15:35:38.391Z"
   },
   {
    "duration": 133,
    "start_time": "2023-06-07T15:35:38.592Z"
   },
   {
    "duration": 9,
    "start_time": "2023-06-07T15:35:38.727Z"
   },
   {
    "duration": 22,
    "start_time": "2023-06-07T15:35:38.738Z"
   },
   {
    "duration": 35,
    "start_time": "2023-06-07T15:35:38.762Z"
   },
   {
    "duration": 138,
    "start_time": "2023-06-07T15:35:38.799Z"
   },
   {
    "duration": 3,
    "start_time": "2023-06-07T15:38:05.275Z"
   },
   {
    "duration": 1068,
    "start_time": "2023-06-07T15:38:13.294Z"
   },
   {
    "duration": 215,
    "start_time": "2023-06-07T15:38:14.364Z"
   },
   {
    "duration": 15,
    "start_time": "2023-06-07T15:38:14.580Z"
   },
   {
    "duration": 44,
    "start_time": "2023-06-07T15:38:14.596Z"
   },
   {
    "duration": 19,
    "start_time": "2023-06-07T15:38:14.643Z"
   },
   {
    "duration": 128,
    "start_time": "2023-06-07T15:38:14.663Z"
   },
   {
    "duration": 60,
    "start_time": "2023-06-07T15:38:14.794Z"
   },
   {
    "duration": 7,
    "start_time": "2023-06-07T15:38:14.855Z"
   },
   {
    "duration": 25,
    "start_time": "2023-06-07T15:38:14.863Z"
   },
   {
    "duration": 26,
    "start_time": "2023-06-07T15:38:14.890Z"
   },
   {
    "duration": 561,
    "start_time": "2023-06-07T15:38:14.917Z"
   },
   {
    "duration": 262,
    "start_time": "2023-06-07T15:38:15.480Z"
   },
   {
    "duration": 27,
    "start_time": "2023-06-07T15:38:15.744Z"
   },
   {
    "duration": 12,
    "start_time": "2023-06-07T15:38:15.773Z"
   },
   {
    "duration": 54,
    "start_time": "2023-06-07T15:38:15.786Z"
   },
   {
    "duration": 24,
    "start_time": "2023-06-07T15:38:15.841Z"
   },
   {
    "duration": 36,
    "start_time": "2023-06-07T15:38:15.867Z"
   },
   {
    "duration": 119,
    "start_time": "2023-06-07T15:38:15.904Z"
   },
   {
    "duration": 66,
    "start_time": "2023-06-07T15:38:16.025Z"
   },
   {
    "duration": 3,
    "start_time": "2023-06-07T15:38:16.093Z"
   },
   {
    "duration": 52,
    "start_time": "2023-06-07T15:38:16.098Z"
   },
   {
    "duration": 151,
    "start_time": "2023-06-07T15:38:16.151Z"
   },
   {
    "duration": 124,
    "start_time": "2023-06-07T15:38:16.304Z"
   },
   {
    "duration": 9,
    "start_time": "2023-06-07T15:38:16.430Z"
   },
   {
    "duration": 43,
    "start_time": "2023-06-07T15:38:16.441Z"
   },
   {
    "duration": 59,
    "start_time": "2023-06-07T15:38:16.485Z"
   },
   {
    "duration": 148,
    "start_time": "2023-06-07T15:38:16.546Z"
   },
   {
    "duration": 5,
    "start_time": "2023-06-07T15:40:03.508Z"
   },
   {
    "duration": 1040,
    "start_time": "2023-06-07T15:40:09.120Z"
   },
   {
    "duration": 213,
    "start_time": "2023-06-07T15:40:10.162Z"
   },
   {
    "duration": 15,
    "start_time": "2023-06-07T15:40:10.377Z"
   },
   {
    "duration": 32,
    "start_time": "2023-06-07T15:40:10.393Z"
   },
   {
    "duration": 28,
    "start_time": "2023-06-07T15:40:10.427Z"
   },
   {
    "duration": 136,
    "start_time": "2023-06-07T15:40:10.457Z"
   },
   {
    "duration": 48,
    "start_time": "2023-06-07T15:40:10.595Z"
   },
   {
    "duration": 3,
    "start_time": "2023-06-07T15:40:10.645Z"
   },
   {
    "duration": 29,
    "start_time": "2023-06-07T15:40:10.650Z"
   },
   {
    "duration": 24,
    "start_time": "2023-06-07T15:40:10.680Z"
   },
   {
    "duration": 626,
    "start_time": "2023-06-07T15:40:10.706Z"
   },
   {
    "duration": 257,
    "start_time": "2023-06-07T15:40:11.333Z"
   },
   {
    "duration": 35,
    "start_time": "2023-06-07T15:40:11.591Z"
   },
   {
    "duration": 12,
    "start_time": "2023-06-07T15:40:11.629Z"
   },
   {
    "duration": 49,
    "start_time": "2023-06-07T15:40:11.643Z"
   },
   {
    "duration": 74,
    "start_time": "2023-06-07T15:40:11.694Z"
   },
   {
    "duration": 30,
    "start_time": "2023-06-07T15:40:11.769Z"
   },
   {
    "duration": 110,
    "start_time": "2023-06-07T15:40:11.800Z"
   },
   {
    "duration": 66,
    "start_time": "2023-06-07T15:40:11.912Z"
   },
   {
    "duration": 3,
    "start_time": "2023-06-07T15:40:11.980Z"
   },
   {
    "duration": 80,
    "start_time": "2023-06-07T15:40:11.985Z"
   },
   {
    "duration": 186,
    "start_time": "2023-06-07T15:40:12.066Z"
   },
   {
    "duration": 121,
    "start_time": "2023-06-07T15:40:12.254Z"
   },
   {
    "duration": 8,
    "start_time": "2023-06-07T15:40:12.376Z"
   },
   {
    "duration": 63,
    "start_time": "2023-06-07T15:40:12.386Z"
   },
   {
    "duration": 63,
    "start_time": "2023-06-07T15:40:12.451Z"
   },
   {
    "duration": 187,
    "start_time": "2023-06-07T15:40:12.516Z"
   },
   {
    "duration": 5,
    "start_time": "2023-06-07T15:45:08.390Z"
   },
   {
    "duration": 5,
    "start_time": "2023-06-07T15:46:30.309Z"
   },
   {
    "duration": 15,
    "start_time": "2023-06-07T15:46:32.794Z"
   },
   {
    "duration": 5,
    "start_time": "2023-06-07T15:46:58.720Z"
   },
   {
    "duration": 5,
    "start_time": "2023-06-07T15:47:00.986Z"
   },
   {
    "duration": 14,
    "start_time": "2023-06-07T15:47:03.582Z"
   },
   {
    "duration": 5,
    "start_time": "2023-06-07T15:47:45.645Z"
   },
   {
    "duration": 9,
    "start_time": "2023-06-07T15:47:50.347Z"
   },
   {
    "duration": 5,
    "start_time": "2023-06-07T15:48:17.707Z"
   },
   {
    "duration": 9,
    "start_time": "2023-06-07T15:48:24.013Z"
   },
   {
    "duration": 1040,
    "start_time": "2023-06-07T17:15:14.609Z"
   },
   {
    "duration": 207,
    "start_time": "2023-06-07T17:15:15.650Z"
   },
   {
    "duration": 14,
    "start_time": "2023-06-07T17:15:15.859Z"
   },
   {
    "duration": 30,
    "start_time": "2023-06-07T17:15:15.875Z"
   },
   {
    "duration": 27,
    "start_time": "2023-06-07T17:15:15.907Z"
   },
   {
    "duration": 118,
    "start_time": "2023-06-07T17:15:15.935Z"
   },
   {
    "duration": 59,
    "start_time": "2023-06-07T17:15:16.055Z"
   },
   {
    "duration": 4,
    "start_time": "2023-06-07T17:15:16.115Z"
   },
   {
    "duration": 22,
    "start_time": "2023-06-07T17:15:16.120Z"
   },
   {
    "duration": 13,
    "start_time": "2023-06-07T17:15:16.144Z"
   },
   {
    "duration": 539,
    "start_time": "2023-06-07T17:15:16.159Z"
   },
   {
    "duration": 263,
    "start_time": "2023-06-07T17:15:16.700Z"
   },
   {
    "duration": 27,
    "start_time": "2023-06-07T17:15:16.965Z"
   },
   {
    "duration": 11,
    "start_time": "2023-06-07T17:15:16.994Z"
   },
   {
    "duration": 31,
    "start_time": "2023-06-07T17:15:17.024Z"
   },
   {
    "duration": 23,
    "start_time": "2023-06-07T17:15:17.057Z"
   },
   {
    "duration": 17,
    "start_time": "2023-06-07T17:15:17.081Z"
   },
   {
    "duration": 104,
    "start_time": "2023-06-07T17:15:17.099Z"
   },
   {
    "duration": 76,
    "start_time": "2023-06-07T17:15:17.205Z"
   },
   {
    "duration": 4,
    "start_time": "2023-06-07T17:15:17.283Z"
   },
   {
    "duration": 53,
    "start_time": "2023-06-07T17:15:17.289Z"
   },
   {
    "duration": 150,
    "start_time": "2023-06-07T17:15:17.343Z"
   },
   {
    "duration": 130,
    "start_time": "2023-06-07T17:15:17.494Z"
   },
   {
    "duration": 7,
    "start_time": "2023-06-07T17:15:17.626Z"
   },
   {
    "duration": 26,
    "start_time": "2023-06-07T17:15:17.635Z"
   },
   {
    "duration": 52,
    "start_time": "2023-06-07T17:15:17.663Z"
   },
   {
    "duration": 27,
    "start_time": "2023-06-07T17:15:17.717Z"
   },
   {
    "duration": 1048,
    "start_time": "2023-06-07T18:29:04.851Z"
   },
   {
    "duration": 232,
    "start_time": "2023-06-07T18:29:05.901Z"
   },
   {
    "duration": 15,
    "start_time": "2023-06-07T18:29:06.135Z"
   },
   {
    "duration": 65,
    "start_time": "2023-06-07T18:29:06.151Z"
   },
   {
    "duration": 25,
    "start_time": "2023-06-07T18:29:06.218Z"
   },
   {
    "duration": 118,
    "start_time": "2023-06-07T18:29:06.244Z"
   },
   {
    "duration": 43,
    "start_time": "2023-06-07T18:29:06.364Z"
   },
   {
    "duration": 4,
    "start_time": "2023-06-07T18:29:06.408Z"
   },
   {
    "duration": 13,
    "start_time": "2023-06-07T18:29:06.428Z"
   },
   {
    "duration": 19,
    "start_time": "2023-06-07T18:29:06.442Z"
   },
   {
    "duration": 637,
    "start_time": "2023-06-07T18:29:06.463Z"
   },
   {
    "duration": 286,
    "start_time": "2023-06-07T18:29:07.102Z"
   },
   {
    "duration": 46,
    "start_time": "2023-06-07T18:29:07.390Z"
   },
   {
    "duration": 19,
    "start_time": "2023-06-07T18:29:07.443Z"
   },
   {
    "duration": 54,
    "start_time": "2023-06-07T18:29:07.464Z"
   },
   {
    "duration": 33,
    "start_time": "2023-06-07T18:29:07.520Z"
   },
   {
    "duration": 20,
    "start_time": "2023-06-07T18:29:07.554Z"
   },
   {
    "duration": 108,
    "start_time": "2023-06-07T18:29:07.575Z"
   },
   {
    "duration": 81,
    "start_time": "2023-06-07T18:29:07.685Z"
   },
   {
    "duration": 4,
    "start_time": "2023-06-07T18:29:07.768Z"
   },
   {
    "duration": 61,
    "start_time": "2023-06-07T18:29:07.773Z"
   },
   {
    "duration": 177,
    "start_time": "2023-06-07T18:29:07.837Z"
   },
   {
    "duration": 149,
    "start_time": "2023-06-07T18:29:08.016Z"
   },
   {
    "duration": 9,
    "start_time": "2023-06-07T18:29:08.166Z"
   },
   {
    "duration": 32,
    "start_time": "2023-06-07T18:29:08.177Z"
   },
   {
    "duration": 29,
    "start_time": "2023-06-07T18:29:08.210Z"
   },
   {
    "duration": 25,
    "start_time": "2023-06-07T18:29:08.240Z"
   },
   {
    "duration": 8,
    "start_time": "2023-06-07T19:13:21.187Z"
   },
   {
    "duration": 8,
    "start_time": "2023-06-07T19:14:46.290Z"
   },
   {
    "duration": 9,
    "start_time": "2023-06-07T19:16:27.199Z"
   },
   {
    "duration": 32,
    "start_time": "2023-06-07T19:29:22.101Z"
   },
   {
    "duration": 39,
    "start_time": "2023-06-07T19:29:28.519Z"
   },
   {
    "duration": 1231,
    "start_time": "2023-06-08T14:19:59.972Z"
   },
   {
    "duration": 633,
    "start_time": "2023-06-08T14:20:01.206Z"
   },
   {
    "duration": 21,
    "start_time": "2023-06-08T14:20:01.841Z"
   },
   {
    "duration": 47,
    "start_time": "2023-06-08T14:20:01.865Z"
   },
   {
    "duration": 37,
    "start_time": "2023-06-08T14:20:01.914Z"
   },
   {
    "duration": 171,
    "start_time": "2023-06-08T14:20:01.953Z"
   },
   {
    "duration": 61,
    "start_time": "2023-06-08T14:20:02.132Z"
   },
   {
    "duration": 10,
    "start_time": "2023-06-08T14:20:02.196Z"
   },
   {
    "duration": 31,
    "start_time": "2023-06-08T14:20:02.208Z"
   },
   {
    "duration": 27,
    "start_time": "2023-06-08T14:20:02.243Z"
   },
   {
    "duration": 690,
    "start_time": "2023-06-08T14:20:02.272Z"
   },
   {
    "duration": 305,
    "start_time": "2023-06-08T14:20:02.964Z"
   },
   {
    "duration": 30,
    "start_time": "2023-06-08T14:20:03.271Z"
   },
   {
    "duration": 13,
    "start_time": "2023-06-08T14:20:03.303Z"
   },
   {
    "duration": 62,
    "start_time": "2023-06-08T14:20:03.318Z"
   },
   {
    "duration": 23,
    "start_time": "2023-06-08T14:20:03.382Z"
   },
   {
    "duration": 14,
    "start_time": "2023-06-08T14:20:03.407Z"
   },
   {
    "duration": 111,
    "start_time": "2023-06-08T14:20:03.423Z"
   },
   {
    "duration": 75,
    "start_time": "2023-06-08T14:20:03.535Z"
   },
   {
    "duration": 4,
    "start_time": "2023-06-08T14:20:03.612Z"
   },
   {
    "duration": 84,
    "start_time": "2023-06-08T14:20:03.618Z"
   },
   {
    "duration": 184,
    "start_time": "2023-06-08T14:20:03.704Z"
   },
   {
    "duration": 142,
    "start_time": "2023-06-08T14:20:03.891Z"
   },
   {
    "duration": 18,
    "start_time": "2023-06-08T14:20:04.034Z"
   },
   {
    "duration": 22,
    "start_time": "2023-06-08T14:20:04.054Z"
   },
   {
    "duration": 32,
    "start_time": "2023-06-08T14:20:04.078Z"
   },
   {
    "duration": 25,
    "start_time": "2023-06-08T14:20:04.112Z"
   },
   {
    "duration": 50,
    "start_time": "2023-06-08T14:20:04.140Z"
   },
   {
    "duration": 15,
    "start_time": "2023-06-08T14:20:04.192Z"
   },
   {
    "duration": 17,
    "start_time": "2023-06-08T14:20:04.209Z"
   },
   {
    "duration": 202,
    "start_time": "2023-06-08T14:29:40.997Z"
   },
   {
    "duration": 250,
    "start_time": "2023-06-08T14:29:54.085Z"
   },
   {
    "duration": 227,
    "start_time": "2023-06-08T14:30:55.456Z"
   },
   {
    "duration": 223,
    "start_time": "2023-06-08T14:31:29.837Z"
   },
   {
    "duration": 231,
    "start_time": "2023-06-08T14:31:33.877Z"
   },
   {
    "duration": 225,
    "start_time": "2023-06-08T14:31:45.598Z"
   },
   {
    "duration": 309,
    "start_time": "2023-06-08T14:32:03.454Z"
   },
   {
    "duration": 199,
    "start_time": "2023-06-08T14:32:11.288Z"
   },
   {
    "duration": 195,
    "start_time": "2023-06-08T14:32:14.501Z"
   },
   {
    "duration": 204,
    "start_time": "2023-06-08T14:32:19.397Z"
   },
   {
    "duration": 219,
    "start_time": "2023-06-08T14:32:40.309Z"
   },
   {
    "duration": 220,
    "start_time": "2023-06-08T14:32:44.829Z"
   },
   {
    "duration": 180,
    "start_time": "2023-06-08T14:46:46.359Z"
   },
   {
    "duration": 149,
    "start_time": "2023-06-08T14:47:38.998Z"
   },
   {
    "duration": 154,
    "start_time": "2023-06-08T14:48:25.453Z"
   },
   {
    "duration": 99,
    "start_time": "2023-06-08T14:50:37.408Z"
   },
   {
    "duration": 101,
    "start_time": "2023-06-08T14:50:45.535Z"
   },
   {
    "duration": 137,
    "start_time": "2023-06-08T14:51:12.304Z"
   },
   {
    "duration": 81,
    "start_time": "2023-06-08T14:54:55.000Z"
   },
   {
    "duration": 2041,
    "start_time": "2023-06-08T14:56:46.687Z"
   },
   {
    "duration": 9,
    "start_time": "2023-06-08T14:59:03.429Z"
   },
   {
    "duration": 9,
    "start_time": "2023-06-08T14:59:51.461Z"
   },
   {
    "duration": 1483,
    "start_time": "2023-06-08T14:59:56.356Z"
   },
   {
    "duration": 1154,
    "start_time": "2023-06-08T15:01:09.365Z"
   },
   {
    "duration": 1269,
    "start_time": "2023-06-08T15:01:16.485Z"
   },
   {
    "duration": 13,
    "start_time": "2023-06-08T15:01:38.068Z"
   },
   {
    "duration": 10,
    "start_time": "2023-06-08T15:01:44.725Z"
   },
   {
    "duration": 2455,
    "start_time": "2023-06-08T15:05:56.290Z"
   },
   {
    "duration": 136,
    "start_time": "2023-06-08T15:06:04.762Z"
   },
   {
    "duration": 221,
    "start_time": "2023-06-08T15:06:16.466Z"
   },
   {
    "duration": 118,
    "start_time": "2023-06-08T15:06:58.770Z"
   },
   {
    "duration": 128,
    "start_time": "2023-06-08T15:07:10.186Z"
   },
   {
    "duration": 159,
    "start_time": "2023-06-08T15:08:09.338Z"
   },
   {
    "duration": 117,
    "start_time": "2023-06-08T15:08:17.618Z"
   },
   {
    "duration": 140,
    "start_time": "2023-06-08T15:14:35.298Z"
   },
   {
    "duration": 147,
    "start_time": "2023-06-08T15:16:04.825Z"
   },
   {
    "duration": 9,
    "start_time": "2023-06-08T15:19:48.112Z"
   },
   {
    "duration": 1250,
    "start_time": "2023-06-08T15:29:20.460Z"
   },
   {
    "duration": 83,
    "start_time": "2023-06-08T15:29:45.080Z"
   },
   {
    "duration": 88,
    "start_time": "2023-06-08T15:29:52.504Z"
   },
   {
    "duration": 3186,
    "start_time": "2023-06-08T15:29:56.423Z"
   },
   {
    "duration": 17,
    "start_time": "2023-06-08T15:32:15.186Z"
   },
   {
    "duration": 10,
    "start_time": "2023-06-08T15:32:19.461Z"
   },
   {
    "duration": 80,
    "start_time": "2023-06-08T15:32:35.552Z"
   },
   {
    "duration": 93,
    "start_time": "2023-06-08T16:14:01.021Z"
   },
   {
    "duration": 622,
    "start_time": "2023-06-08T16:14:23.996Z"
   },
   {
    "duration": 53,
    "start_time": "2023-06-08T16:16:21.539Z"
   },
   {
    "duration": 313,
    "start_time": "2023-06-08T16:19:17.100Z"
   },
   {
    "duration": 65,
    "start_time": "2023-06-08T16:19:23.058Z"
   },
   {
    "duration": 403,
    "start_time": "2023-06-08T16:21:21.372Z"
   },
   {
    "duration": 45,
    "start_time": "2023-06-08T16:21:25.325Z"
   },
   {
    "duration": 92,
    "start_time": "2023-06-08T16:21:51.277Z"
   },
   {
    "duration": 16,
    "start_time": "2023-06-08T16:23:25.560Z"
   },
   {
    "duration": 57,
    "start_time": "2023-06-08T16:23:56.701Z"
   },
   {
    "duration": 17,
    "start_time": "2023-06-08T16:25:42.594Z"
   },
   {
    "duration": 58,
    "start_time": "2023-06-08T16:25:57.019Z"
   },
   {
    "duration": 51,
    "start_time": "2023-06-08T16:26:19.370Z"
   },
   {
    "duration": 18,
    "start_time": "2023-06-08T16:26:43.386Z"
   },
   {
    "duration": 60,
    "start_time": "2023-06-08T16:26:54.393Z"
   },
   {
    "duration": 51,
    "start_time": "2023-06-08T16:28:03.061Z"
   },
   {
    "duration": 62,
    "start_time": "2023-06-08T16:28:16.469Z"
   },
   {
    "duration": 81,
    "start_time": "2023-06-08T16:28:56.013Z"
   },
   {
    "duration": 65,
    "start_time": "2023-06-08T16:30:09.092Z"
   },
   {
    "duration": 196,
    "start_time": "2023-06-08T16:31:37.612Z"
   },
   {
    "duration": 194,
    "start_time": "2023-06-08T16:31:46.117Z"
   },
   {
    "duration": 13,
    "start_time": "2023-06-08T16:49:21.085Z"
   },
   {
    "duration": 22,
    "start_time": "2023-06-08T16:49:30.740Z"
   },
   {
    "duration": 12,
    "start_time": "2023-06-08T16:49:36.981Z"
   },
   {
    "duration": 64,
    "start_time": "2023-06-08T16:49:42.204Z"
   },
   {
    "duration": 146,
    "start_time": "2023-06-08T17:03:30.112Z"
   },
   {
    "duration": 191,
    "start_time": "2023-06-08T17:03:48.088Z"
   },
   {
    "duration": 123,
    "start_time": "2023-06-08T17:05:26.140Z"
   },
   {
    "duration": 147,
    "start_time": "2023-06-08T17:05:40.718Z"
   },
   {
    "duration": 120,
    "start_time": "2023-06-08T17:05:50.287Z"
   },
   {
    "duration": 131,
    "start_time": "2023-06-08T17:05:53.940Z"
   },
   {
    "duration": 1327,
    "start_time": "2023-06-12T08:25:34.456Z"
   },
   {
    "duration": 682,
    "start_time": "2023-06-12T08:25:35.796Z"
   },
   {
    "duration": 35,
    "start_time": "2023-06-12T08:25:36.479Z"
   },
   {
    "duration": 27,
    "start_time": "2023-06-12T08:25:36.516Z"
   },
   {
    "duration": 16,
    "start_time": "2023-06-12T08:25:36.545Z"
   },
   {
    "duration": 109,
    "start_time": "2023-06-12T08:25:36.562Z"
   },
   {
    "duration": 65,
    "start_time": "2023-06-12T08:25:36.673Z"
   },
   {
    "duration": 4,
    "start_time": "2023-06-12T08:25:36.740Z"
   },
   {
    "duration": 14,
    "start_time": "2023-06-12T08:25:36.745Z"
   },
   {
    "duration": 8,
    "start_time": "2023-06-12T08:25:36.761Z"
   },
   {
    "duration": 643,
    "start_time": "2023-06-12T08:25:36.770Z"
   },
   {
    "duration": 304,
    "start_time": "2023-06-12T08:25:37.414Z"
   },
   {
    "duration": 219,
    "start_time": "2023-06-12T08:25:37.720Z"
   },
   {
    "duration": 10,
    "start_time": "2023-06-12T08:25:37.942Z"
   },
   {
    "duration": 62,
    "start_time": "2023-06-12T08:25:37.953Z"
   },
   {
    "duration": 29,
    "start_time": "2023-06-12T08:25:38.018Z"
   },
   {
    "duration": 10,
    "start_time": "2023-06-12T08:25:38.049Z"
   },
   {
    "duration": 118,
    "start_time": "2023-06-12T08:25:38.061Z"
   },
   {
    "duration": 83,
    "start_time": "2023-06-12T08:25:38.180Z"
   },
   {
    "duration": 459,
    "start_time": "2023-06-12T08:25:38.264Z"
   },
   {
    "duration": 1931,
    "start_time": "2023-06-12T08:25:38.725Z"
   },
   {
    "duration": 0,
    "start_time": "2023-06-12T08:25:40.658Z"
   },
   {
    "duration": 0,
    "start_time": "2023-06-12T08:25:40.659Z"
   },
   {
    "duration": 0,
    "start_time": "2023-06-12T08:25:40.660Z"
   },
   {
    "duration": 0,
    "start_time": "2023-06-12T08:25:40.661Z"
   },
   {
    "duration": 0,
    "start_time": "2023-06-12T08:25:40.663Z"
   },
   {
    "duration": 0,
    "start_time": "2023-06-12T08:25:40.664Z"
   },
   {
    "duration": 0,
    "start_time": "2023-06-12T08:25:40.665Z"
   },
   {
    "duration": 0,
    "start_time": "2023-06-12T08:25:40.667Z"
   },
   {
    "duration": 0,
    "start_time": "2023-06-12T08:25:40.668Z"
   },
   {
    "duration": 0,
    "start_time": "2023-06-12T08:25:40.670Z"
   },
   {
    "duration": 6,
    "start_time": "2023-06-12T08:26:33.902Z"
   },
   {
    "duration": 1158,
    "start_time": "2023-06-12T08:26:45.542Z"
   },
   {
    "duration": 173,
    "start_time": "2023-06-12T08:26:46.716Z"
   },
   {
    "duration": 17,
    "start_time": "2023-06-12T08:26:46.890Z"
   },
   {
    "duration": 38,
    "start_time": "2023-06-12T08:26:46.910Z"
   },
   {
    "duration": 15,
    "start_time": "2023-06-12T08:26:46.949Z"
   },
   {
    "duration": 113,
    "start_time": "2023-06-12T08:26:46.965Z"
   },
   {
    "duration": 67,
    "start_time": "2023-06-12T08:26:47.080Z"
   },
   {
    "duration": 4,
    "start_time": "2023-06-12T08:26:47.149Z"
   },
   {
    "duration": 16,
    "start_time": "2023-06-12T08:26:47.155Z"
   },
   {
    "duration": 21,
    "start_time": "2023-06-12T08:26:47.173Z"
   },
   {
    "duration": 553,
    "start_time": "2023-06-12T08:26:47.199Z"
   },
   {
    "duration": 269,
    "start_time": "2023-06-12T08:26:47.754Z"
   },
   {
    "duration": 213,
    "start_time": "2023-06-12T08:26:48.025Z"
   },
   {
    "duration": 15,
    "start_time": "2023-06-12T08:26:48.240Z"
   },
   {
    "duration": 60,
    "start_time": "2023-06-12T08:26:48.256Z"
   },
   {
    "duration": 34,
    "start_time": "2023-06-12T08:26:48.317Z"
   },
   {
    "duration": 8,
    "start_time": "2023-06-12T08:26:48.353Z"
   },
   {
    "duration": 115,
    "start_time": "2023-06-12T08:26:48.363Z"
   },
   {
    "duration": 79,
    "start_time": "2023-06-12T08:26:48.480Z"
   },
   {
    "duration": 436,
    "start_time": "2023-06-12T08:26:48.560Z"
   },
   {
    "duration": 16,
    "start_time": "2023-06-12T08:26:48.997Z"
   },
   {
    "duration": 96,
    "start_time": "2023-06-12T08:26:49.014Z"
   },
   {
    "duration": 249,
    "start_time": "2023-06-12T08:26:49.112Z"
   },
   {
    "duration": 148,
    "start_time": "2023-06-12T08:26:49.363Z"
   },
   {
    "duration": 10,
    "start_time": "2023-06-12T08:26:49.518Z"
   },
   {
    "duration": 17,
    "start_time": "2023-06-12T08:26:49.530Z"
   },
   {
    "duration": 64,
    "start_time": "2023-06-12T08:26:49.549Z"
   },
   {
    "duration": 28,
    "start_time": "2023-06-12T08:26:49.617Z"
   },
   {
    "duration": 15,
    "start_time": "2023-06-12T08:26:49.647Z"
   },
   {
    "duration": 15,
    "start_time": "2023-06-12T08:26:49.663Z"
   },
   {
    "duration": 41,
    "start_time": "2023-06-12T08:26:49.679Z"
   },
   {
    "duration": 41,
    "start_time": "2023-06-12T08:46:28.080Z"
   },
   {
    "duration": 39,
    "start_time": "2023-06-12T08:46:43.629Z"
   },
   {
    "duration": 38,
    "start_time": "2023-06-12T08:46:47.312Z"
   },
   {
    "duration": 46,
    "start_time": "2023-06-12T08:46:59.471Z"
   },
   {
    "duration": 9,
    "start_time": "2023-06-12T08:48:29.021Z"
   },
   {
    "duration": 5,
    "start_time": "2023-06-12T08:57:46.738Z"
   },
   {
    "duration": 162,
    "start_time": "2023-06-12T08:57:49.885Z"
   },
   {
    "duration": 13,
    "start_time": "2023-06-12T08:58:10.198Z"
   },
   {
    "duration": 10,
    "start_time": "2023-06-12T08:59:20.621Z"
   },
   {
    "duration": 10,
    "start_time": "2023-06-12T08:59:51.168Z"
   },
   {
    "duration": 14,
    "start_time": "2023-06-12T09:00:05.064Z"
   },
   {
    "duration": 167,
    "start_time": "2023-06-12T09:00:14.239Z"
   },
   {
    "duration": 7,
    "start_time": "2023-06-12T09:00:22.054Z"
   },
   {
    "duration": 9,
    "start_time": "2023-06-12T09:01:47.744Z"
   },
   {
    "duration": 15,
    "start_time": "2023-06-12T09:02:07.777Z"
   },
   {
    "duration": 15,
    "start_time": "2023-06-12T09:06:14.134Z"
   },
   {
    "duration": 31,
    "start_time": "2023-06-12T09:07:38.829Z"
   },
   {
    "duration": 5,
    "start_time": "2023-06-12T09:08:12.520Z"
   },
   {
    "duration": 5,
    "start_time": "2023-06-12T09:08:42.372Z"
   },
   {
    "duration": 22,
    "start_time": "2023-06-12T09:08:48.257Z"
   },
   {
    "duration": 13,
    "start_time": "2023-06-12T09:09:54.784Z"
   },
   {
    "duration": 4,
    "start_time": "2023-06-12T09:10:16.402Z"
   },
   {
    "duration": 4,
    "start_time": "2023-06-12T09:10:41.138Z"
   },
   {
    "duration": 24,
    "start_time": "2023-06-12T09:10:55.005Z"
   },
   {
    "duration": 59,
    "start_time": "2023-06-12T09:12:15.416Z"
   },
   {
    "duration": 25,
    "start_time": "2023-06-12T09:12:32.177Z"
   },
   {
    "duration": 19,
    "start_time": "2023-06-12T09:12:44.651Z"
   },
   {
    "duration": 36,
    "start_time": "2023-06-12T09:12:52.397Z"
   },
   {
    "duration": 23,
    "start_time": "2023-06-12T09:13:19.408Z"
   },
   {
    "duration": 27,
    "start_time": "2023-06-12T09:13:37.011Z"
   },
   {
    "duration": 20,
    "start_time": "2023-06-12T09:16:53.039Z"
   },
   {
    "duration": 4,
    "start_time": "2023-06-12T09:53:28.915Z"
   },
   {
    "duration": 4,
    "start_time": "2023-06-12T09:53:35.851Z"
   },
   {
    "duration": 1803,
    "start_time": "2023-06-12T13:00:02.062Z"
   },
   {
    "duration": 956,
    "start_time": "2023-06-12T13:00:03.879Z"
   },
   {
    "duration": 30,
    "start_time": "2023-06-12T13:00:04.841Z"
   },
   {
    "duration": 428,
    "start_time": "2023-06-12T13:00:04.873Z"
   },
   {
    "duration": 639,
    "start_time": "2023-06-12T13:00:05.303Z"
   },
   {
    "duration": 309,
    "start_time": "2023-06-12T13:00:05.944Z"
   },
   {
    "duration": 45,
    "start_time": "2023-06-12T13:00:06.254Z"
   },
   {
    "duration": 83,
    "start_time": "2023-06-12T13:00:06.301Z"
   },
   {
    "duration": 27,
    "start_time": "2023-06-12T13:00:06.386Z"
   },
   {
    "duration": 60,
    "start_time": "2023-06-12T13:00:06.416Z"
   },
   {
    "duration": 29,
    "start_time": "2023-06-12T13:00:06.477Z"
   },
   {
    "duration": 695,
    "start_time": "2023-06-12T13:00:06.508Z"
   },
   {
    "duration": 309,
    "start_time": "2023-06-12T13:00:07.205Z"
   },
   {
    "duration": 189,
    "start_time": "2023-06-12T13:00:07.524Z"
   },
   {
    "duration": 53,
    "start_time": "2023-06-12T13:00:07.714Z"
   },
   {
    "duration": 138,
    "start_time": "2023-06-12T13:00:07.769Z"
   },
   {
    "duration": 60,
    "start_time": "2023-06-12T13:00:07.908Z"
   },
   {
    "duration": 8,
    "start_time": "2023-06-12T13:00:07.971Z"
   },
   {
    "duration": 133,
    "start_time": "2023-06-12T13:00:07.981Z"
   },
   {
    "duration": 107,
    "start_time": "2023-06-12T13:00:08.128Z"
   },
   {
    "duration": 723,
    "start_time": "2023-06-12T13:00:08.240Z"
   },
   {
    "duration": 10,
    "start_time": "2023-06-12T13:00:08.965Z"
   },
   {
    "duration": 101,
    "start_time": "2023-06-12T13:00:08.976Z"
   },
   {
    "duration": 207,
    "start_time": "2023-06-12T13:00:09.079Z"
   },
   {
    "duration": 192,
    "start_time": "2023-06-12T13:00:09.287Z"
   },
   {
    "duration": 9,
    "start_time": "2023-06-12T13:00:09.480Z"
   },
   {
    "duration": 115,
    "start_time": "2023-06-12T13:00:09.491Z"
   },
   {
    "duration": 63,
    "start_time": "2023-06-12T13:00:09.610Z"
   },
   {
    "duration": 30,
    "start_time": "2023-06-12T13:00:09.674Z"
   },
   {
    "duration": 65,
    "start_time": "2023-06-12T13:00:09.706Z"
   },
   {
    "duration": 27,
    "start_time": "2023-06-12T13:00:09.773Z"
   },
   {
    "duration": 39,
    "start_time": "2023-06-12T13:00:09.802Z"
   },
   {
    "duration": 46,
    "start_time": "2023-06-12T13:00:09.842Z"
   },
   {
    "duration": 1363,
    "start_time": "2023-06-12T18:44:47.754Z"
   },
   {
    "duration": 876,
    "start_time": "2023-06-12T18:44:49.119Z"
   },
   {
    "duration": 18,
    "start_time": "2023-06-12T18:44:49.997Z"
   },
   {
    "duration": 22,
    "start_time": "2023-06-12T18:44:50.018Z"
   },
   {
    "duration": 21,
    "start_time": "2023-06-12T18:44:50.042Z"
   },
   {
    "duration": 130,
    "start_time": "2023-06-12T18:44:50.064Z"
   },
   {
    "duration": 45,
    "start_time": "2023-06-12T18:44:50.195Z"
   },
   {
    "duration": 59,
    "start_time": "2023-06-12T18:44:50.242Z"
   },
   {
    "duration": 4,
    "start_time": "2023-06-12T18:44:50.303Z"
   },
   {
    "duration": 11,
    "start_time": "2023-06-12T18:44:50.309Z"
   },
   {
    "duration": 14,
    "start_time": "2023-06-12T18:44:50.321Z"
   },
   {
    "duration": 616,
    "start_time": "2023-06-12T18:44:50.336Z"
   },
   {
    "duration": 286,
    "start_time": "2023-06-12T18:44:50.954Z"
   },
   {
    "duration": 205,
    "start_time": "2023-06-12T18:44:51.241Z"
   },
   {
    "duration": 30,
    "start_time": "2023-06-12T18:44:51.448Z"
   },
   {
    "duration": 34,
    "start_time": "2023-06-12T18:44:51.480Z"
   },
   {
    "duration": 27,
    "start_time": "2023-06-12T18:44:51.516Z"
   },
   {
    "duration": 15,
    "start_time": "2023-06-12T18:44:51.544Z"
   },
   {
    "duration": 128,
    "start_time": "2023-06-12T18:44:51.560Z"
   },
   {
    "duration": 88,
    "start_time": "2023-06-12T18:44:51.690Z"
   },
   {
    "duration": 562,
    "start_time": "2023-06-12T18:44:51.779Z"
   },
   {
    "duration": 5,
    "start_time": "2023-06-12T18:44:52.343Z"
   },
   {
    "duration": 90,
    "start_time": "2023-06-12T18:44:52.349Z"
   },
   {
    "duration": 205,
    "start_time": "2023-06-12T18:44:52.441Z"
   },
   {
    "duration": 139,
    "start_time": "2023-06-12T18:44:52.649Z"
   },
   {
    "duration": 9,
    "start_time": "2023-06-12T18:44:52.790Z"
   },
   {
    "duration": 24,
    "start_time": "2023-06-12T18:44:52.801Z"
   },
   {
    "duration": 43,
    "start_time": "2023-06-12T18:44:52.828Z"
   },
   {
    "duration": 36,
    "start_time": "2023-06-12T18:44:52.873Z"
   },
   {
    "duration": 30,
    "start_time": "2023-06-12T18:44:52.911Z"
   },
   {
    "duration": 40,
    "start_time": "2023-06-12T18:44:52.943Z"
   },
   {
    "duration": 18,
    "start_time": "2023-06-12T18:44:52.985Z"
   },
   {
    "duration": 23,
    "start_time": "2023-06-12T18:44:53.004Z"
   },
   {
    "duration": 1543,
    "start_time": "2023-06-13T15:22:56.498Z"
   },
   {
    "duration": 320,
    "start_time": "2023-06-13T15:22:58.044Z"
   },
   {
    "duration": 31,
    "start_time": "2023-06-13T15:22:58.367Z"
   },
   {
    "duration": 29,
    "start_time": "2023-06-13T15:22:58.400Z"
   },
   {
    "duration": 24,
    "start_time": "2023-06-13T15:22:58.432Z"
   },
   {
    "duration": 150,
    "start_time": "2023-06-13T15:22:58.476Z"
   },
   {
    "duration": 64,
    "start_time": "2023-06-13T15:22:58.629Z"
   },
   {
    "duration": 46,
    "start_time": "2023-06-13T15:22:58.695Z"
   },
   {
    "duration": 5,
    "start_time": "2023-06-13T15:22:58.743Z"
   },
   {
    "duration": 47,
    "start_time": "2023-06-13T15:22:58.749Z"
   },
   {
    "duration": 10,
    "start_time": "2023-06-13T15:22:58.798Z"
   },
   {
    "duration": 790,
    "start_time": "2023-06-13T15:22:58.811Z"
   },
   {
    "duration": 322,
    "start_time": "2023-06-13T15:22:59.603Z"
   },
   {
    "duration": 231,
    "start_time": "2023-06-13T15:22:59.930Z"
   },
   {
    "duration": 33,
    "start_time": "2023-06-13T15:23:00.163Z"
   },
   {
    "duration": 62,
    "start_time": "2023-06-13T15:23:00.198Z"
   },
   {
    "duration": 36,
    "start_time": "2023-06-13T15:23:00.262Z"
   },
   {
    "duration": 24,
    "start_time": "2023-06-13T15:23:00.300Z"
   },
   {
    "duration": 162,
    "start_time": "2023-06-13T15:23:00.326Z"
   },
   {
    "duration": 106,
    "start_time": "2023-06-13T15:23:00.489Z"
   },
   {
    "duration": 573,
    "start_time": "2023-06-13T15:23:00.596Z"
   },
   {
    "duration": 14,
    "start_time": "2023-06-13T15:23:01.170Z"
   },
   {
    "duration": 151,
    "start_time": "2023-06-13T15:23:01.187Z"
   },
   {
    "duration": 191,
    "start_time": "2023-06-13T15:23:01.340Z"
   },
   {
    "duration": 157,
    "start_time": "2023-06-13T15:23:01.533Z"
   },
   {
    "duration": 11,
    "start_time": "2023-06-13T15:23:01.692Z"
   },
   {
    "duration": 91,
    "start_time": "2023-06-13T15:23:01.706Z"
   },
   {
    "duration": 50,
    "start_time": "2023-06-13T15:23:01.799Z"
   },
   {
    "duration": 60,
    "start_time": "2023-06-13T15:23:01.851Z"
   },
   {
    "duration": 50,
    "start_time": "2023-06-13T15:23:01.913Z"
   },
   {
    "duration": 84,
    "start_time": "2023-06-13T15:23:01.965Z"
   },
   {
    "duration": 44,
    "start_time": "2023-06-13T15:23:02.052Z"
   },
   {
    "duration": 45,
    "start_time": "2023-06-13T15:23:02.099Z"
   },
   {
    "duration": 1616,
    "start_time": "2023-06-16T14:31:14.954Z"
   },
   {
    "duration": 562,
    "start_time": "2023-06-16T14:31:16.579Z"
   },
   {
    "duration": 17,
    "start_time": "2023-06-16T14:31:17.143Z"
   },
   {
    "duration": 30,
    "start_time": "2023-06-16T14:31:17.162Z"
   },
   {
    "duration": 37,
    "start_time": "2023-06-16T14:31:17.195Z"
   },
   {
    "duration": 140,
    "start_time": "2023-06-16T14:31:17.234Z"
   },
   {
    "duration": 64,
    "start_time": "2023-06-16T14:31:17.383Z"
   },
   {
    "duration": 57,
    "start_time": "2023-06-16T14:31:17.449Z"
   },
   {
    "duration": 5,
    "start_time": "2023-06-16T14:31:17.508Z"
   },
   {
    "duration": 12,
    "start_time": "2023-06-16T14:31:17.515Z"
   },
   {
    "duration": 11,
    "start_time": "2023-06-16T14:31:17.529Z"
   },
   {
    "duration": 774,
    "start_time": "2023-06-16T14:31:17.542Z"
   },
   {
    "duration": 345,
    "start_time": "2023-06-16T14:31:18.318Z"
   },
   {
    "duration": 225,
    "start_time": "2023-06-16T14:31:18.677Z"
   },
   {
    "duration": 24,
    "start_time": "2023-06-16T14:31:18.904Z"
   },
   {
    "duration": 62,
    "start_time": "2023-06-16T14:31:18.930Z"
   },
   {
    "duration": 28,
    "start_time": "2023-06-16T14:31:18.994Z"
   },
   {
    "duration": 13,
    "start_time": "2023-06-16T14:31:19.024Z"
   },
   {
    "duration": 120,
    "start_time": "2023-06-16T14:31:19.038Z"
   },
   {
    "duration": 91,
    "start_time": "2023-06-16T14:31:19.160Z"
   },
   {
    "duration": 545,
    "start_time": "2023-06-16T14:31:19.253Z"
   },
   {
    "duration": 4,
    "start_time": "2023-06-16T14:31:19.800Z"
   },
   {
    "duration": 96,
    "start_time": "2023-06-16T14:31:19.805Z"
   },
   {
    "duration": 247,
    "start_time": "2023-06-16T14:31:19.903Z"
   },
   {
    "duration": 167,
    "start_time": "2023-06-16T14:31:20.152Z"
   },
   {
    "duration": 10,
    "start_time": "2023-06-16T14:31:20.320Z"
   },
   {
    "duration": 14,
    "start_time": "2023-06-16T14:31:20.332Z"
   },
   {
    "duration": 47,
    "start_time": "2023-06-16T14:31:20.348Z"
   },
   {
    "duration": 51,
    "start_time": "2023-06-16T14:31:20.397Z"
   },
   {
    "duration": 50,
    "start_time": "2023-06-16T14:31:20.450Z"
   },
   {
    "duration": 27,
    "start_time": "2023-06-16T14:31:20.502Z"
   },
   {
    "duration": 40,
    "start_time": "2023-06-16T14:31:20.530Z"
   },
   {
    "duration": 37,
    "start_time": "2023-06-16T14:31:20.572Z"
   },
   {
    "duration": 69,
    "start_time": "2023-06-16T14:38:54.842Z"
   },
   {
    "duration": 69,
    "start_time": "2023-06-16T14:40:29.292Z"
   },
   {
    "duration": 65,
    "start_time": "2023-06-16T14:41:44.891Z"
   },
   {
    "duration": 69,
    "start_time": "2023-06-16T14:49:40.623Z"
   },
   {
    "duration": 73,
    "start_time": "2023-06-16T14:52:07.899Z"
   },
   {
    "duration": 215,
    "start_time": "2023-06-16T14:52:22.340Z"
   },
   {
    "duration": 81,
    "start_time": "2023-06-16T14:52:34.667Z"
   },
   {
    "duration": 108,
    "start_time": "2023-06-16T14:53:53.875Z"
   },
   {
    "duration": 84,
    "start_time": "2023-06-16T14:58:06.388Z"
   },
   {
    "duration": 80,
    "start_time": "2023-06-16T14:58:16.260Z"
   },
   {
    "duration": 78,
    "start_time": "2023-06-16T15:03:18.624Z"
   },
   {
    "duration": 20,
    "start_time": "2023-06-16T15:12:30.317Z"
   },
   {
    "duration": 6,
    "start_time": "2023-06-16T15:13:57.991Z"
   },
   {
    "duration": 9,
    "start_time": "2023-06-16T15:14:14.259Z"
   },
   {
    "duration": 25,
    "start_time": "2023-06-16T15:15:01.147Z"
   },
   {
    "duration": 28,
    "start_time": "2023-06-16T15:15:14.719Z"
   },
   {
    "duration": 5,
    "start_time": "2023-06-16T15:23:28.139Z"
   },
   {
    "duration": 6,
    "start_time": "2023-06-16T15:24:04.059Z"
   },
   {
    "duration": 6,
    "start_time": "2023-06-16T15:25:45.819Z"
   },
   {
    "duration": 8,
    "start_time": "2023-06-16T15:26:37.214Z"
   },
   {
    "duration": 228,
    "start_time": "2023-06-16T15:32:14.530Z"
   },
   {
    "duration": 222,
    "start_time": "2023-06-16T15:47:52.324Z"
   },
   {
    "duration": 211,
    "start_time": "2023-06-16T15:48:26.868Z"
   },
   {
    "duration": 215,
    "start_time": "2023-06-16T15:48:34.236Z"
   },
   {
    "duration": 72,
    "start_time": "2023-06-16T15:48:39.892Z"
   },
   {
    "duration": 209,
    "start_time": "2023-06-16T15:48:44.444Z"
   },
   {
    "duration": 242,
    "start_time": "2023-06-16T15:50:55.772Z"
   },
   {
    "duration": 223,
    "start_time": "2023-06-16T15:56:05.820Z"
   },
   {
    "duration": 241,
    "start_time": "2023-06-16T15:56:24.429Z"
   },
   {
    "duration": 54,
    "start_time": "2023-06-16T16:00:38.989Z"
   },
   {
    "duration": 56,
    "start_time": "2023-06-16T16:00:43.541Z"
   },
   {
    "duration": 144,
    "start_time": "2023-06-16T16:01:38.933Z"
   },
   {
    "duration": 50,
    "start_time": "2023-06-16T16:01:46.477Z"
   },
   {
    "duration": 57,
    "start_time": "2023-06-16T16:02:04.485Z"
   },
   {
    "duration": 60,
    "start_time": "2023-06-16T16:02:45.518Z"
   },
   {
    "duration": 73,
    "start_time": "2023-06-16T16:04:26.869Z"
   },
   {
    "duration": 66,
    "start_time": "2023-06-16T16:05:51.541Z"
   },
   {
    "duration": 54,
    "start_time": "2023-06-16T16:06:18.309Z"
   },
   {
    "duration": 61,
    "start_time": "2023-06-16T16:11:49.207Z"
   },
   {
    "duration": 14,
    "start_time": "2023-06-16T16:15:08.167Z"
   },
   {
    "duration": 17,
    "start_time": "2023-06-16T16:16:30.109Z"
   },
   {
    "duration": 60,
    "start_time": "2023-06-16T16:16:38.374Z"
   },
   {
    "duration": 57,
    "start_time": "2023-06-16T16:16:57.070Z"
   },
   {
    "duration": 74,
    "start_time": "2023-06-16T16:17:32.598Z"
   },
   {
    "duration": 54,
    "start_time": "2023-06-16T16:18:57.617Z"
   },
   {
    "duration": 62,
    "start_time": "2023-06-16T16:19:56.028Z"
   },
   {
    "duration": 58,
    "start_time": "2023-06-16T16:20:06.933Z"
   },
   {
    "duration": 85,
    "start_time": "2023-06-16T16:20:21.621Z"
   },
   {
    "duration": 58,
    "start_time": "2023-06-16T16:20:24.326Z"
   },
   {
    "duration": 67,
    "start_time": "2023-06-16T16:28:29.128Z"
   },
   {
    "duration": 57,
    "start_time": "2023-06-16T16:28:49.749Z"
   },
   {
    "duration": 48,
    "start_time": "2023-06-16T16:29:30.581Z"
   },
   {
    "duration": 125,
    "start_time": "2023-06-16T16:29:49.893Z"
   },
   {
    "duration": 119,
    "start_time": "2023-06-16T16:29:53.686Z"
   },
   {
    "duration": 53,
    "start_time": "2023-06-16T16:29:57.328Z"
   },
   {
    "duration": 55,
    "start_time": "2023-06-16T16:30:11.932Z"
   },
   {
    "duration": 55,
    "start_time": "2023-06-16T16:30:23.253Z"
   },
   {
    "duration": 10,
    "start_time": "2023-06-16T16:39:50.868Z"
   },
   {
    "duration": 10,
    "start_time": "2023-06-16T16:39:55.220Z"
   },
   {
    "duration": 12,
    "start_time": "2023-06-16T16:40:01.628Z"
   },
   {
    "duration": 132,
    "start_time": "2023-06-16T16:40:15.085Z"
   },
   {
    "duration": 52,
    "start_time": "2023-06-16T16:45:46.245Z"
   },
   {
    "duration": 143,
    "start_time": "2023-06-16T16:45:56.997Z"
   },
   {
    "duration": 122,
    "start_time": "2023-06-16T16:46:07.853Z"
   },
   {
    "duration": 1178,
    "start_time": "2023-06-16T16:46:34.426Z"
   },
   {
    "duration": 170,
    "start_time": "2023-06-16T16:46:35.606Z"
   },
   {
    "duration": 16,
    "start_time": "2023-06-16T16:46:35.778Z"
   },
   {
    "duration": 25,
    "start_time": "2023-06-16T16:46:35.795Z"
   },
   {
    "duration": 24,
    "start_time": "2023-06-16T16:46:35.822Z"
   },
   {
    "duration": 135,
    "start_time": "2023-06-16T16:46:35.848Z"
   },
   {
    "duration": 45,
    "start_time": "2023-06-16T16:46:35.985Z"
   },
   {
    "duration": 139,
    "start_time": "2023-06-16T16:46:36.032Z"
   },
   {
    "duration": 3,
    "start_time": "2023-06-16T16:46:36.173Z"
   },
   {
    "duration": 81,
    "start_time": "2023-06-16T16:46:36.177Z"
   },
   {
    "duration": 4,
    "start_time": "2023-06-16T16:46:36.260Z"
   },
   {
    "duration": 31,
    "start_time": "2023-06-16T16:46:36.265Z"
   },
   {
    "duration": 47,
    "start_time": "2023-06-16T16:46:36.298Z"
   },
   {
    "duration": 8,
    "start_time": "2023-06-16T16:46:36.349Z"
   },
   {
    "duration": 656,
    "start_time": "2023-06-16T16:46:36.359Z"
   },
   {
    "duration": 308,
    "start_time": "2023-06-16T16:46:37.016Z"
   },
   {
    "duration": 220,
    "start_time": "2023-06-16T16:46:37.325Z"
   },
   {
    "duration": 32,
    "start_time": "2023-06-16T16:46:37.546Z"
   },
   {
    "duration": 41,
    "start_time": "2023-06-16T16:46:37.579Z"
   },
   {
    "duration": 59,
    "start_time": "2023-06-16T16:46:37.622Z"
   },
   {
    "duration": 31,
    "start_time": "2023-06-16T16:46:37.683Z"
   },
   {
    "duration": 159,
    "start_time": "2023-06-16T16:46:37.716Z"
   },
   {
    "duration": 72,
    "start_time": "2023-06-16T16:46:37.877Z"
   },
   {
    "duration": 468,
    "start_time": "2023-06-16T16:46:37.951Z"
   },
   {
    "duration": 4,
    "start_time": "2023-06-16T16:46:38.421Z"
   },
   {
    "duration": 68,
    "start_time": "2023-06-16T16:46:38.426Z"
   },
   {
    "duration": 216,
    "start_time": "2023-06-16T16:46:38.495Z"
   },
   {
    "duration": 149,
    "start_time": "2023-06-16T16:46:38.713Z"
   },
   {
    "duration": 14,
    "start_time": "2023-06-16T16:46:38.863Z"
   },
   {
    "duration": 10,
    "start_time": "2023-06-16T16:46:38.878Z"
   },
   {
    "duration": 18,
    "start_time": "2023-06-16T16:46:38.890Z"
   },
   {
    "duration": 20,
    "start_time": "2023-06-16T16:46:38.910Z"
   },
   {
    "duration": 22,
    "start_time": "2023-06-16T16:46:38.932Z"
   },
   {
    "duration": 10,
    "start_time": "2023-06-16T16:46:38.956Z"
   },
   {
    "duration": 12,
    "start_time": "2023-06-16T16:46:38.968Z"
   },
   {
    "duration": 12,
    "start_time": "2023-06-16T16:46:38.982Z"
   },
   {
    "duration": 121,
    "start_time": "2023-06-16T16:47:44.629Z"
   },
   {
    "duration": 133,
    "start_time": "2023-06-16T16:48:24.068Z"
   },
   {
    "duration": 129,
    "start_time": "2023-06-16T16:51:05.684Z"
   },
   {
    "duration": 140,
    "start_time": "2023-06-16T16:51:33.948Z"
   },
   {
    "duration": 1276,
    "start_time": "2023-06-16T16:51:46.405Z"
   },
   {
    "duration": 206,
    "start_time": "2023-06-16T16:51:47.683Z"
   },
   {
    "duration": 18,
    "start_time": "2023-06-16T16:51:47.892Z"
   },
   {
    "duration": 32,
    "start_time": "2023-06-16T16:51:47.913Z"
   },
   {
    "duration": 34,
    "start_time": "2023-06-16T16:51:47.947Z"
   },
   {
    "duration": 187,
    "start_time": "2023-06-16T16:51:47.983Z"
   },
   {
    "duration": 63,
    "start_time": "2023-06-16T16:51:48.172Z"
   },
   {
    "duration": 183,
    "start_time": "2023-06-16T16:51:48.237Z"
   },
   {
    "duration": 180,
    "start_time": "2023-06-16T16:51:48.422Z"
   },
   {
    "duration": 54,
    "start_time": "2023-06-16T16:51:48.606Z"
   },
   {
    "duration": 18,
    "start_time": "2023-06-16T16:51:48.662Z"
   },
   {
    "duration": 22,
    "start_time": "2023-06-16T16:51:48.682Z"
   },
   {
    "duration": 38,
    "start_time": "2023-06-16T16:51:48.706Z"
   },
   {
    "duration": 7,
    "start_time": "2023-06-16T16:51:48.747Z"
   },
   {
    "duration": 681,
    "start_time": "2023-06-16T16:51:48.756Z"
   },
   {
    "duration": 320,
    "start_time": "2023-06-16T16:51:49.440Z"
   },
   {
    "duration": 250,
    "start_time": "2023-06-16T16:51:49.762Z"
   },
   {
    "duration": 67,
    "start_time": "2023-06-16T16:51:50.015Z"
   },
   {
    "duration": 51,
    "start_time": "2023-06-16T16:51:50.086Z"
   },
   {
    "duration": 45,
    "start_time": "2023-06-16T16:51:50.139Z"
   },
   {
    "duration": 13,
    "start_time": "2023-06-16T16:51:50.186Z"
   },
   {
    "duration": 109,
    "start_time": "2023-06-16T16:51:50.201Z"
   },
   {
    "duration": 87,
    "start_time": "2023-06-16T16:51:50.312Z"
   },
   {
    "duration": 454,
    "start_time": "2023-06-16T16:51:50.401Z"
   },
   {
    "duration": 5,
    "start_time": "2023-06-16T16:51:50.859Z"
   },
   {
    "duration": 125,
    "start_time": "2023-06-16T16:51:50.866Z"
   },
   {
    "duration": 232,
    "start_time": "2023-06-16T16:51:50.993Z"
   },
   {
    "duration": 152,
    "start_time": "2023-06-16T16:51:51.230Z"
   },
   {
    "duration": 10,
    "start_time": "2023-06-16T16:51:51.384Z"
   },
   {
    "duration": 20,
    "start_time": "2023-06-16T16:51:51.396Z"
   },
   {
    "duration": 35,
    "start_time": "2023-06-16T16:51:51.418Z"
   },
   {
    "duration": 59,
    "start_time": "2023-06-16T16:51:51.455Z"
   },
   {
    "duration": 10,
    "start_time": "2023-06-16T16:51:51.516Z"
   },
   {
    "duration": 18,
    "start_time": "2023-06-16T16:51:51.528Z"
   },
   {
    "duration": 12,
    "start_time": "2023-06-16T16:51:51.548Z"
   },
   {
    "duration": 11,
    "start_time": "2023-06-16T16:51:51.561Z"
   },
   {
    "duration": 202,
    "start_time": "2023-06-16T16:55:57.853Z"
   },
   {
    "duration": 1335,
    "start_time": "2023-06-16T21:57:41.170Z"
   },
   {
    "duration": 205,
    "start_time": "2023-06-16T21:57:42.509Z"
   },
   {
    "duration": 26,
    "start_time": "2023-06-16T21:57:42.716Z"
   },
   {
    "duration": 22,
    "start_time": "2023-06-16T21:57:42.747Z"
   },
   {
    "duration": 44,
    "start_time": "2023-06-16T21:57:42.771Z"
   },
   {
    "duration": 130,
    "start_time": "2023-06-16T21:57:42.817Z"
   },
   {
    "duration": 47,
    "start_time": "2023-06-16T21:57:42.949Z"
   },
   {
    "duration": 201,
    "start_time": "2023-06-16T21:57:42.998Z"
   },
   {
    "duration": 172,
    "start_time": "2023-06-16T21:57:43.202Z"
   },
   {
    "duration": 55,
    "start_time": "2023-06-16T21:57:43.377Z"
   },
   {
    "duration": 13,
    "start_time": "2023-06-16T21:57:43.435Z"
   },
   {
    "duration": 9,
    "start_time": "2023-06-16T21:57:43.450Z"
   },
   {
    "duration": 30,
    "start_time": "2023-06-16T21:57:43.461Z"
   },
   {
    "duration": 33,
    "start_time": "2023-06-16T21:57:43.493Z"
   },
   {
    "duration": 718,
    "start_time": "2023-06-16T21:57:43.528Z"
   },
   {
    "duration": 419,
    "start_time": "2023-06-16T21:57:44.248Z"
   },
   {
    "duration": 240,
    "start_time": "2023-06-16T21:57:44.669Z"
   },
   {
    "duration": 38,
    "start_time": "2023-06-16T21:57:44.914Z"
   },
   {
    "duration": 61,
    "start_time": "2023-06-16T21:57:44.954Z"
   },
   {
    "duration": 44,
    "start_time": "2023-06-16T21:57:45.018Z"
   },
   {
    "duration": 37,
    "start_time": "2023-06-16T21:57:45.064Z"
   },
   {
    "duration": 136,
    "start_time": "2023-06-16T21:57:45.103Z"
   },
   {
    "duration": 98,
    "start_time": "2023-06-16T21:57:45.241Z"
   },
   {
    "duration": 754,
    "start_time": "2023-06-16T21:57:45.341Z"
   },
   {
    "duration": 7,
    "start_time": "2023-06-16T21:57:46.099Z"
   },
   {
    "duration": 135,
    "start_time": "2023-06-16T21:57:46.109Z"
   },
   {
    "duration": 269,
    "start_time": "2023-06-16T21:57:46.246Z"
   },
   {
    "duration": 156,
    "start_time": "2023-06-16T21:57:46.523Z"
   },
   {
    "duration": 12,
    "start_time": "2023-06-16T21:57:46.682Z"
   },
   {
    "duration": 25,
    "start_time": "2023-06-16T21:57:46.696Z"
   },
   {
    "duration": 23,
    "start_time": "2023-06-16T21:57:46.723Z"
   },
   {
    "duration": 24,
    "start_time": "2023-06-16T21:57:46.748Z"
   },
   {
    "duration": 14,
    "start_time": "2023-06-16T21:57:46.776Z"
   },
   {
    "duration": 10,
    "start_time": "2023-06-16T21:57:46.792Z"
   },
   {
    "duration": 26,
    "start_time": "2023-06-16T21:57:46.804Z"
   },
   {
    "duration": 14,
    "start_time": "2023-06-16T21:57:46.831Z"
   },
   {
    "duration": 1275,
    "start_time": "2023-06-22T11:06:41.213Z"
   },
   {
    "duration": 484,
    "start_time": "2023-06-22T11:06:42.490Z"
   },
   {
    "duration": 15,
    "start_time": "2023-06-22T11:06:42.975Z"
   },
   {
    "duration": 26,
    "start_time": "2023-06-22T11:06:42.991Z"
   },
   {
    "duration": 35,
    "start_time": "2023-06-22T11:06:43.018Z"
   },
   {
    "duration": 97,
    "start_time": "2023-06-22T11:06:43.054Z"
   },
   {
    "duration": 49,
    "start_time": "2023-06-22T11:06:43.153Z"
   },
   {
    "duration": 109,
    "start_time": "2023-06-22T11:06:43.204Z"
   },
   {
    "duration": 125,
    "start_time": "2023-06-22T11:06:43.314Z"
   },
   {
    "duration": 40,
    "start_time": "2023-06-22T11:06:43.440Z"
   },
   {
    "duration": 3,
    "start_time": "2023-06-22T11:06:43.482Z"
   },
   {
    "duration": 8,
    "start_time": "2023-06-22T11:06:43.501Z"
   },
   {
    "duration": 38,
    "start_time": "2023-06-22T11:06:43.510Z"
   },
   {
    "duration": 6,
    "start_time": "2023-06-22T11:06:43.550Z"
   },
   {
    "duration": 551,
    "start_time": "2023-06-22T11:06:43.557Z"
   },
   {
    "duration": 259,
    "start_time": "2023-06-22T11:06:44.110Z"
   },
   {
    "duration": 193,
    "start_time": "2023-06-22T11:06:44.371Z"
   },
   {
    "duration": 20,
    "start_time": "2023-06-22T11:06:44.566Z"
   },
   {
    "duration": 41,
    "start_time": "2023-06-22T11:06:44.600Z"
   },
   {
    "duration": 22,
    "start_time": "2023-06-22T11:06:44.643Z"
   },
   {
    "duration": 21,
    "start_time": "2023-06-22T11:06:44.667Z"
   },
   {
    "duration": 100,
    "start_time": "2023-06-22T11:06:44.689Z"
   },
   {
    "duration": 75,
    "start_time": "2023-06-22T11:06:44.791Z"
   },
   {
    "duration": 482,
    "start_time": "2023-06-22T11:06:44.868Z"
   },
   {
    "duration": 3,
    "start_time": "2023-06-22T11:06:45.351Z"
   },
   {
    "duration": 74,
    "start_time": "2023-06-22T11:06:45.356Z"
   },
   {
    "duration": 192,
    "start_time": "2023-06-22T11:06:45.432Z"
   },
   {
    "duration": 132,
    "start_time": "2023-06-22T11:06:45.626Z"
   },
   {
    "duration": 8,
    "start_time": "2023-06-22T11:06:45.759Z"
   },
   {
    "duration": 8,
    "start_time": "2023-06-22T11:06:45.768Z"
   },
   {
    "duration": 11,
    "start_time": "2023-06-22T11:06:45.778Z"
   },
   {
    "duration": 22,
    "start_time": "2023-06-22T11:06:45.790Z"
   },
   {
    "duration": 34,
    "start_time": "2023-06-22T11:06:45.814Z"
   },
   {
    "duration": 18,
    "start_time": "2023-06-22T11:06:45.849Z"
   },
   {
    "duration": 9,
    "start_time": "2023-06-22T11:06:45.869Z"
   },
   {
    "duration": 12,
    "start_time": "2023-06-22T11:06:45.879Z"
   },
   {
    "duration": 5166,
    "start_time": "2023-07-22T12:59:58.721Z"
   },
   {
    "duration": 784,
    "start_time": "2023-07-22T13:00:03.891Z"
   },
   {
    "duration": 20,
    "start_time": "2023-07-22T13:00:04.677Z"
   },
   {
    "duration": 22,
    "start_time": "2023-07-22T13:00:04.699Z"
   },
   {
    "duration": 48,
    "start_time": "2023-07-22T13:00:04.723Z"
   },
   {
    "duration": 147,
    "start_time": "2023-07-22T13:00:04.773Z"
   },
   {
    "duration": 66,
    "start_time": "2023-07-22T13:00:04.922Z"
   },
   {
    "duration": 148,
    "start_time": "2023-07-22T13:00:04.990Z"
   },
   {
    "duration": 162,
    "start_time": "2023-07-22T13:00:05.140Z"
   },
   {
    "duration": 45,
    "start_time": "2023-07-22T13:00:05.304Z"
   },
   {
    "duration": 20,
    "start_time": "2023-07-22T13:00:05.351Z"
   },
   {
    "duration": 39,
    "start_time": "2023-07-22T13:00:05.373Z"
   },
   {
    "duration": 34,
    "start_time": "2023-07-22T13:00:05.414Z"
   },
   {
    "duration": 32,
    "start_time": "2023-07-22T13:00:05.453Z"
   },
   {
    "duration": 789,
    "start_time": "2023-07-22T13:00:05.487Z"
   },
   {
    "duration": 350,
    "start_time": "2023-07-22T13:00:06.278Z"
   },
   {
    "duration": 269,
    "start_time": "2023-07-22T13:00:06.631Z"
   },
   {
    "duration": 33,
    "start_time": "2023-07-22T13:00:06.902Z"
   },
   {
    "duration": 64,
    "start_time": "2023-07-22T13:00:06.938Z"
   },
   {
    "duration": 27,
    "start_time": "2023-07-22T13:00:07.005Z"
   },
   {
    "duration": 21,
    "start_time": "2023-07-22T13:00:07.034Z"
   },
   {
    "duration": 116,
    "start_time": "2023-07-22T13:00:07.057Z"
   },
   {
    "duration": 93,
    "start_time": "2023-07-22T13:00:07.175Z"
   },
   {
    "duration": 810,
    "start_time": "2023-07-22T13:00:07.270Z"
   },
   {
    "duration": 4,
    "start_time": "2023-07-22T13:00:08.082Z"
   },
   {
    "duration": 129,
    "start_time": "2023-07-22T13:00:08.089Z"
   },
   {
    "duration": 218,
    "start_time": "2023-07-22T13:00:08.268Z"
   },
   {
    "duration": 170,
    "start_time": "2023-07-22T13:00:08.488Z"
   },
   {
    "duration": 12,
    "start_time": "2023-07-22T13:00:08.666Z"
   },
   {
    "duration": 5,
    "start_time": "2023-07-22T13:00:08.680Z"
   },
   {
    "duration": 38,
    "start_time": "2023-07-22T13:00:08.687Z"
   },
   {
    "duration": 47,
    "start_time": "2023-07-22T13:00:08.727Z"
   },
   {
    "duration": 48,
    "start_time": "2023-07-22T13:00:08.776Z"
   },
   {
    "duration": 140,
    "start_time": "2023-07-22T13:00:08.826Z"
   },
   {
    "duration": 103,
    "start_time": "2023-07-22T13:00:08.968Z"
   },
   {
    "duration": 31,
    "start_time": "2023-07-22T13:00:09.073Z"
   },
   {
    "duration": 1449,
    "start_time": "2023-09-19T10:11:56.307Z"
   },
   {
    "duration": 780,
    "start_time": "2023-09-19T10:11:57.759Z"
   },
   {
    "duration": 17,
    "start_time": "2023-09-19T10:11:58.541Z"
   },
   {
    "duration": 25,
    "start_time": "2023-09-19T10:11:58.561Z"
   },
   {
    "duration": 22,
    "start_time": "2023-09-19T10:11:58.588Z"
   },
   {
    "duration": 155,
    "start_time": "2023-09-19T10:11:58.612Z"
   },
   {
    "duration": 55,
    "start_time": "2023-09-19T10:11:58.768Z"
   },
   {
    "duration": 186,
    "start_time": "2023-09-19T10:11:58.825Z"
   },
   {
    "duration": 189,
    "start_time": "2023-09-19T10:11:59.014Z"
   },
   {
    "duration": 58,
    "start_time": "2023-09-19T10:11:59.206Z"
   },
   {
    "duration": 4,
    "start_time": "2023-09-19T10:11:59.266Z"
   },
   {
    "duration": 11,
    "start_time": "2023-09-19T10:11:59.272Z"
   },
   {
    "duration": 48,
    "start_time": "2023-09-19T10:11:59.285Z"
   },
   {
    "duration": 28,
    "start_time": "2023-09-19T10:11:59.334Z"
   },
   {
    "duration": 774,
    "start_time": "2023-09-19T10:11:59.364Z"
   },
   {
    "duration": 345,
    "start_time": "2023-09-19T10:12:00.140Z"
   },
   {
    "duration": 248,
    "start_time": "2023-09-19T10:12:00.488Z"
   },
   {
    "duration": 32,
    "start_time": "2023-09-19T10:12:00.738Z"
   },
   {
    "duration": 93,
    "start_time": "2023-09-19T10:12:00.773Z"
   },
   {
    "duration": 90,
    "start_time": "2023-09-19T10:12:00.868Z"
   },
   {
    "duration": 44,
    "start_time": "2023-09-19T10:12:00.961Z"
   },
   {
    "duration": 149,
    "start_time": "2023-09-19T10:12:01.008Z"
   },
   {
    "duration": 100,
    "start_time": "2023-09-19T10:12:01.159Z"
   },
   {
    "duration": 569,
    "start_time": "2023-09-19T10:12:01.261Z"
   },
   {
    "duration": 5,
    "start_time": "2023-09-19T10:12:01.833Z"
   },
   {
    "duration": 127,
    "start_time": "2023-09-19T10:12:01.839Z"
   },
   {
    "duration": 233,
    "start_time": "2023-09-19T10:12:01.968Z"
   },
   {
    "duration": 201,
    "start_time": "2023-09-19T10:12:02.205Z"
   },
   {
    "duration": 13,
    "start_time": "2023-09-19T10:12:02.408Z"
   },
   {
    "duration": 13,
    "start_time": "2023-09-19T10:12:02.423Z"
   },
   {
    "duration": 42,
    "start_time": "2023-09-19T10:12:02.438Z"
   },
   {
    "duration": 63,
    "start_time": "2023-09-19T10:12:02.482Z"
   },
   {
    "duration": 27,
    "start_time": "2023-09-19T10:12:02.547Z"
   },
   {
    "duration": 22,
    "start_time": "2023-09-19T10:12:02.577Z"
   },
   {
    "duration": 35,
    "start_time": "2023-09-19T10:12:02.601Z"
   },
   {
    "duration": 35,
    "start_time": "2023-09-19T10:12:02.638Z"
   },
   {
    "duration": 1420,
    "start_time": "2023-09-19T10:36:23.269Z"
   },
   {
    "duration": 236,
    "start_time": "2023-09-19T10:36:24.691Z"
   },
   {
    "duration": 36,
    "start_time": "2023-09-19T10:36:24.929Z"
   },
   {
    "duration": 113,
    "start_time": "2023-09-19T10:36:24.973Z"
   },
   {
    "duration": 36,
    "start_time": "2023-09-19T10:36:25.088Z"
   },
   {
    "duration": 152,
    "start_time": "2023-09-19T10:36:25.126Z"
   },
   {
    "duration": 49,
    "start_time": "2023-09-19T10:36:25.280Z"
   },
   {
    "duration": 180,
    "start_time": "2023-09-19T10:36:25.331Z"
   },
   {
    "duration": 194,
    "start_time": "2023-09-19T10:36:25.513Z"
   },
   {
    "duration": 67,
    "start_time": "2023-09-19T10:36:25.710Z"
   },
   {
    "duration": 5,
    "start_time": "2023-09-19T10:36:25.779Z"
   },
   {
    "duration": 36,
    "start_time": "2023-09-19T10:36:25.787Z"
   },
   {
    "duration": 40,
    "start_time": "2023-09-19T10:36:25.825Z"
   },
   {
    "duration": 11,
    "start_time": "2023-09-19T10:36:25.867Z"
   },
   {
    "duration": 824,
    "start_time": "2023-09-19T10:36:25.881Z"
   },
   {
    "duration": 374,
    "start_time": "2023-09-19T10:36:26.708Z"
   },
   {
    "duration": 264,
    "start_time": "2023-09-19T10:36:27.084Z"
   },
   {
    "duration": 41,
    "start_time": "2023-09-19T10:36:27.350Z"
   },
   {
    "duration": 40,
    "start_time": "2023-09-19T10:36:27.393Z"
   },
   {
    "duration": 63,
    "start_time": "2023-09-19T10:36:27.434Z"
   },
   {
    "duration": 16,
    "start_time": "2023-09-19T10:36:27.498Z"
   },
   {
    "duration": 171,
    "start_time": "2023-09-19T10:36:27.517Z"
   },
   {
    "duration": 99,
    "start_time": "2023-09-19T10:36:27.690Z"
   },
   {
    "duration": 564,
    "start_time": "2023-09-19T10:36:27.791Z"
   },
   {
    "duration": 7,
    "start_time": "2023-09-19T10:36:28.358Z"
   },
   {
    "duration": 125,
    "start_time": "2023-09-19T10:36:28.368Z"
   },
   {
    "duration": 313,
    "start_time": "2023-09-19T10:36:28.495Z"
   },
   {
    "duration": 217,
    "start_time": "2023-09-19T10:36:28.813Z"
   },
   {
    "duration": 14,
    "start_time": "2023-09-19T10:36:29.032Z"
   },
   {
    "duration": 22,
    "start_time": "2023-09-19T10:36:29.058Z"
   },
   {
    "duration": 17,
    "start_time": "2023-09-19T10:36:29.082Z"
   },
   {
    "duration": 30,
    "start_time": "2023-09-19T10:36:29.102Z"
   },
   {
    "duration": 22,
    "start_time": "2023-09-19T10:36:29.136Z"
   },
   {
    "duration": 20,
    "start_time": "2023-09-19T10:36:29.162Z"
   },
   {
    "duration": 13,
    "start_time": "2023-09-19T10:36:29.185Z"
   },
   {
    "duration": 34,
    "start_time": "2023-09-19T10:36:29.201Z"
   }
  ],
  "kernelspec": {
   "display_name": "Python 3 (ipykernel)",
   "language": "python",
   "name": "python3"
  },
  "language_info": {
   "codemirror_mode": {
    "name": "ipython",
    "version": 3
   },
   "file_extension": ".py",
   "mimetype": "text/x-python",
   "name": "python",
   "nbconvert_exporter": "python",
   "pygments_lexer": "ipython3",
   "version": "3.10.9"
  },
  "toc": {
   "base_numbering": 1,
   "nav_menu": {},
   "number_sections": true,
   "sideBar": true,
   "skip_h1_title": true,
   "title_cell": "Table of Contents",
   "title_sidebar": "Contents",
   "toc_cell": false,
   "toc_position": {
    "height": "calc(100% - 180px)",
    "left": "10px",
    "top": "150px",
    "width": "290.875px"
   },
   "toc_section_display": true,
   "toc_window_display": true
  }
 },
 "nbformat": 4,
 "nbformat_minor": 2
}
