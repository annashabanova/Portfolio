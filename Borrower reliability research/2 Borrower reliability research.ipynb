{
 "cells": [
  {
   "cell_type": "markdown",
   "id": "02f77cdc",
   "metadata": {
    "tags": []
   },
   "source": [
    "**Borrower reliability research - analysis of banking data**\n",
    "\n",
    "**Research objective:** based on the statistics on the solvency of clients to investigate whether the marital status and the number of children of the client affect the fact of repayment of the loan in time.\n",
    "\n",
    "**Table of Content**:\n",
    "1.  Data pre-processing\n",
    "    - general information about data\n",
    "    - data gaps\n",
    "    - abnormal values\n",
    "    - data type\n",
    "    - duplicates\n",
    "    - categorising\n",
    "2. Data Analysis\n",
    "    - number of children\n",
    "    - correlation between income and education\n",
    "    - family status\n",
    "    - income category\n",
    "    - loan purpose\n",
    "3. Overall conclusion"
   ]
  },
  {
   "cell_type": "markdown",
   "id": "b721157d",
   "metadata": {},
   "source": [
    "## Data pre-processing\n",
    "\n",
    "### General information about data"
   ]
  },
  {
   "cell_type": "code",
   "execution_count": 22,
   "id": "b940847e",
   "metadata": {},
   "outputs": [],
   "source": [
    "import pandas as pd\n",
    "import matplotlib.pyplot as plt\n",
    "import seaborn as sns"
   ]
  },
  {
   "cell_type": "code",
   "execution_count": 1,
   "id": "f187c8ad",
   "metadata": {},
   "outputs": [
    {
     "data": {
      "text/html": [
       "<div>\n",
       "<style scoped>\n",
       "    .dataframe tbody tr th:only-of-type {\n",
       "        vertical-align: middle;\n",
       "    }\n",
       "\n",
       "    .dataframe tbody tr th {\n",
       "        vertical-align: top;\n",
       "    }\n",
       "\n",
       "    .dataframe thead th {\n",
       "        text-align: right;\n",
       "    }\n",
       "</style>\n",
       "<table border=\"1\" class=\"dataframe\">\n",
       "  <thead>\n",
       "    <tr style=\"text-align: right;\">\n",
       "      <th></th>\n",
       "      <th>children</th>\n",
       "      <th>days_employed</th>\n",
       "      <th>dob_years</th>\n",
       "      <th>education</th>\n",
       "      <th>education_id</th>\n",
       "      <th>family_status</th>\n",
       "      <th>family_status_id</th>\n",
       "      <th>gender</th>\n",
       "      <th>income_type</th>\n",
       "      <th>debt</th>\n",
       "      <th>total_income</th>\n",
       "      <th>purpose</th>\n",
       "    </tr>\n",
       "  </thead>\n",
       "  <tbody>\n",
       "    <tr>\n",
       "      <th>0</th>\n",
       "      <td>1</td>\n",
       "      <td>-8437.673028</td>\n",
       "      <td>42</td>\n",
       "      <td>высшее</td>\n",
       "      <td>0</td>\n",
       "      <td>женат / замужем</td>\n",
       "      <td>0</td>\n",
       "      <td>F</td>\n",
       "      <td>сотрудник</td>\n",
       "      <td>0</td>\n",
       "      <td>253875.639453</td>\n",
       "      <td>покупка жилья</td>\n",
       "    </tr>\n",
       "    <tr>\n",
       "      <th>1</th>\n",
       "      <td>1</td>\n",
       "      <td>-4024.803754</td>\n",
       "      <td>36</td>\n",
       "      <td>среднее</td>\n",
       "      <td>1</td>\n",
       "      <td>женат / замужем</td>\n",
       "      <td>0</td>\n",
       "      <td>F</td>\n",
       "      <td>сотрудник</td>\n",
       "      <td>0</td>\n",
       "      <td>112080.014102</td>\n",
       "      <td>приобретение автомобиля</td>\n",
       "    </tr>\n",
       "    <tr>\n",
       "      <th>2</th>\n",
       "      <td>0</td>\n",
       "      <td>-5623.422610</td>\n",
       "      <td>33</td>\n",
       "      <td>Среднее</td>\n",
       "      <td>1</td>\n",
       "      <td>женат / замужем</td>\n",
       "      <td>0</td>\n",
       "      <td>M</td>\n",
       "      <td>сотрудник</td>\n",
       "      <td>0</td>\n",
       "      <td>145885.952297</td>\n",
       "      <td>покупка жилья</td>\n",
       "    </tr>\n",
       "    <tr>\n",
       "      <th>3</th>\n",
       "      <td>3</td>\n",
       "      <td>-4124.747207</td>\n",
       "      <td>32</td>\n",
       "      <td>среднее</td>\n",
       "      <td>1</td>\n",
       "      <td>женат / замужем</td>\n",
       "      <td>0</td>\n",
       "      <td>M</td>\n",
       "      <td>сотрудник</td>\n",
       "      <td>0</td>\n",
       "      <td>267628.550329</td>\n",
       "      <td>дополнительное образование</td>\n",
       "    </tr>\n",
       "    <tr>\n",
       "      <th>4</th>\n",
       "      <td>0</td>\n",
       "      <td>340266.072047</td>\n",
       "      <td>53</td>\n",
       "      <td>среднее</td>\n",
       "      <td>1</td>\n",
       "      <td>гражданский брак</td>\n",
       "      <td>1</td>\n",
       "      <td>F</td>\n",
       "      <td>пенсионер</td>\n",
       "      <td>0</td>\n",
       "      <td>158616.077870</td>\n",
       "      <td>сыграть свадьбу</td>\n",
       "    </tr>\n",
       "  </tbody>\n",
       "</table>\n",
       "</div>"
      ],
      "text/plain": [
       "   children  days_employed  dob_years education  education_id  \\\n",
       "0         1   -8437.673028         42    высшее             0   \n",
       "1         1   -4024.803754         36   среднее             1   \n",
       "2         0   -5623.422610         33   Среднее             1   \n",
       "3         3   -4124.747207         32   среднее             1   \n",
       "4         0  340266.072047         53   среднее             1   \n",
       "\n",
       "      family_status  family_status_id gender income_type  debt   total_income  \\\n",
       "0   женат / замужем                 0      F   сотрудник     0  253875.639453   \n",
       "1   женат / замужем                 0      F   сотрудник     0  112080.014102   \n",
       "2   женат / замужем                 0      M   сотрудник     0  145885.952297   \n",
       "3   женат / замужем                 0      M   сотрудник     0  267628.550329   \n",
       "4  гражданский брак                 1      F   пенсионер     0  158616.077870   \n",
       "\n",
       "                      purpose  \n",
       "0               покупка жилья  \n",
       "1     приобретение автомобиля  \n",
       "2               покупка жилья  \n",
       "3  дополнительное образование  \n",
       "4             сыграть свадьбу  "
      ]
     },
     "execution_count": 1,
     "metadata": {},
     "output_type": "execute_result"
    }
   ],
   "source": [
    "data = pd.read_csv('data.csv')\n",
    "data.head(5)"
   ]
  },
  {
   "cell_type": "code",
   "execution_count": 2,
   "id": "110dbd28",
   "metadata": {},
   "outputs": [
    {
     "name": "stdout",
     "output_type": "stream",
     "text": [
      "<class 'pandas.core.frame.DataFrame'>\n",
      "RangeIndex: 21525 entries, 0 to 21524\n",
      "Data columns (total 12 columns):\n",
      " #   Column            Non-Null Count  Dtype  \n",
      "---  ------            --------------  -----  \n",
      " 0   children          21525 non-null  int64  \n",
      " 1   days_employed     19351 non-null  float64\n",
      " 2   dob_years         21525 non-null  int64  \n",
      " 3   education         21525 non-null  object \n",
      " 4   education_id      21525 non-null  int64  \n",
      " 5   family_status     21525 non-null  object \n",
      " 6   family_status_id  21525 non-null  int64  \n",
      " 7   gender            21525 non-null  object \n",
      " 8   income_type       21525 non-null  object \n",
      " 9   debt              21525 non-null  int64  \n",
      " 10  total_income      19351 non-null  float64\n",
      " 11  purpose           21525 non-null  object \n",
      "dtypes: float64(2), int64(5), object(5)\n",
      "memory usage: 2.0+ MB\n",
      "None\n"
     ]
    }
   ],
   "source": [
    "print(data.info())"
   ]
  },
  {
   "cell_type": "markdown",
   "id": "bb0ae8fb",
   "metadata": {},
   "source": [
    "### Removing data gaps\n",
    "\n",
    "find out the number of skips in the different columns"
   ]
  },
  {
   "cell_type": "code",
   "execution_count": 3,
   "id": "508c934c",
   "metadata": {},
   "outputs": [
    {
     "data": {
      "text/plain": [
       "children               0\n",
       "days_employed       2174\n",
       "dob_years              0\n",
       "education              0\n",
       "education_id           0\n",
       "family_status          0\n",
       "family_status_id       0\n",
       "gender                 0\n",
       "income_type            0\n",
       "debt                   0\n",
       "total_income        2174\n",
       "purpose                0\n",
       "dtype: int64"
      ]
     },
     "execution_count": 3,
     "metadata": {},
     "output_type": "execute_result"
    }
   ],
   "source": [
    "data.isna().sum()"
   ]
  },
  {
   "cell_type": "markdown",
   "id": "d675abd2",
   "metadata": {},
   "source": [
    "We will fill in the gaps in the `total_income column`, which stores data on income. The amount of income is most affected by the type of employment, so let's fill in the gaps in this column with the median value for each type from the `income_type column`. And check how many gaps are left after filling them in."
   ]
  },
  {
   "cell_type": "code",
   "execution_count": 4,
   "id": "54fff871",
   "metadata": {},
   "outputs": [
    {
     "data": {
      "text/plain": [
       "0"
      ]
     },
     "execution_count": 4,
     "metadata": {},
     "output_type": "execute_result"
    }
   ],
   "source": [
    "for prof in data['income_type'].unique():\n",
    "    data.loc[(data['income_type'] == prof) & (data['total_income'].isna()), 'total_income'] = \\\n",
    "    data.loc[(data['income_type'] == prof), 'total_income'].median()\n",
    "\n",
    "data['total_income'].isna().sum()"
   ]
  },
  {
   "cell_type": "markdown",
   "id": "50f1ef23",
   "metadata": {},
   "source": [
    "Let's fill in the blanks in the `days_employed` column with the median values for each `income_type` of employment."
   ]
  },
  {
   "cell_type": "code",
   "execution_count": 5,
   "id": "09707b52",
   "metadata": {},
   "outputs": [
    {
     "data": {
      "text/plain": [
       "children            0\n",
       "days_employed       0\n",
       "dob_years           0\n",
       "education           0\n",
       "education_id        0\n",
       "family_status       0\n",
       "family_status_id    0\n",
       "gender              0\n",
       "income_type         0\n",
       "debt                0\n",
       "total_income        0\n",
       "purpose             0\n",
       "dtype: int64"
      ]
     },
     "execution_count": 5,
     "metadata": {},
     "output_type": "execute_result"
    }
   ],
   "source": [
    "for prof in data['income_type'].unique():\n",
    "    data.loc[(data['income_type'] == prof) & (data['days_employed'].isna()), 'days_employed'] = \\\n",
    "    data.loc[(data['income_type'] == prof), 'days_employed'].median()\n",
    "\n",
    "data.isna().sum()"
   ]
  },
  {
   "cell_type": "markdown",
   "id": "431bb65e",
   "metadata": {},
   "source": [
    "### Handling abnormal values\n",
    "\n",
    "Let's check columns for abnormal values.\n",
    "\n",
    "#### column `days_employed`"
   ]
  },
  {
   "cell_type": "code",
   "execution_count": 6,
   "id": "89344638",
   "metadata": {
    "scrolled": true
   },
   "outputs": [
    {
     "data": {
      "text/plain": [
       "count     21525.000000\n",
       "mean      63550.497071\n",
       "std      141150.420058\n",
       "min      -18388.949901\n",
       "25%       -2570.047544\n",
       "50%       -1355.683356\n",
       "75%        -316.240646\n",
       "max      401755.400475\n",
       "Name: days_employed, dtype: float64"
      ]
     },
     "execution_count": 6,
     "metadata": {},
     "output_type": "execute_result"
    }
   ],
   "source": [
    "data['days_employed'].describe()"
   ]
  },
  {
   "cell_type": "markdown",
   "id": "7fd2e8ed",
   "metadata": {},
   "source": [
    "Сolumn contains negative values, we will replace them using the method `abs`"
   ]
  },
  {
   "cell_type": "code",
   "execution_count": 7,
   "id": "dd7621cc",
   "metadata": {},
   "outputs": [
    {
     "data": {
      "text/html": [
       "<div>\n",
       "<style scoped>\n",
       "    .dataframe tbody tr th:only-of-type {\n",
       "        vertical-align: middle;\n",
       "    }\n",
       "\n",
       "    .dataframe tbody tr th {\n",
       "        vertical-align: top;\n",
       "    }\n",
       "\n",
       "    .dataframe thead th {\n",
       "        text-align: right;\n",
       "    }\n",
       "</style>\n",
       "<table border=\"1\" class=\"dataframe\">\n",
       "  <thead>\n",
       "    <tr style=\"text-align: right;\">\n",
       "      <th></th>\n",
       "      <th>children</th>\n",
       "      <th>days_employed</th>\n",
       "      <th>dob_years</th>\n",
       "      <th>education</th>\n",
       "      <th>education_id</th>\n",
       "      <th>family_status</th>\n",
       "      <th>family_status_id</th>\n",
       "      <th>gender</th>\n",
       "      <th>income_type</th>\n",
       "      <th>debt</th>\n",
       "      <th>total_income</th>\n",
       "      <th>purpose</th>\n",
       "    </tr>\n",
       "  </thead>\n",
       "  <tbody>\n",
       "    <tr>\n",
       "      <th>0</th>\n",
       "      <td>1</td>\n",
       "      <td>8437.673028</td>\n",
       "      <td>42</td>\n",
       "      <td>высшее</td>\n",
       "      <td>0</td>\n",
       "      <td>женат / замужем</td>\n",
       "      <td>0</td>\n",
       "      <td>F</td>\n",
       "      <td>сотрудник</td>\n",
       "      <td>0</td>\n",
       "      <td>253875.639453</td>\n",
       "      <td>покупка жилья</td>\n",
       "    </tr>\n",
       "    <tr>\n",
       "      <th>1</th>\n",
       "      <td>1</td>\n",
       "      <td>4024.803754</td>\n",
       "      <td>36</td>\n",
       "      <td>среднее</td>\n",
       "      <td>1</td>\n",
       "      <td>женат / замужем</td>\n",
       "      <td>0</td>\n",
       "      <td>F</td>\n",
       "      <td>сотрудник</td>\n",
       "      <td>0</td>\n",
       "      <td>112080.014102</td>\n",
       "      <td>приобретение автомобиля</td>\n",
       "    </tr>\n",
       "    <tr>\n",
       "      <th>2</th>\n",
       "      <td>0</td>\n",
       "      <td>5623.422610</td>\n",
       "      <td>33</td>\n",
       "      <td>Среднее</td>\n",
       "      <td>1</td>\n",
       "      <td>женат / замужем</td>\n",
       "      <td>0</td>\n",
       "      <td>M</td>\n",
       "      <td>сотрудник</td>\n",
       "      <td>0</td>\n",
       "      <td>145885.952297</td>\n",
       "      <td>покупка жилья</td>\n",
       "    </tr>\n",
       "    <tr>\n",
       "      <th>3</th>\n",
       "      <td>3</td>\n",
       "      <td>4124.747207</td>\n",
       "      <td>32</td>\n",
       "      <td>среднее</td>\n",
       "      <td>1</td>\n",
       "      <td>женат / замужем</td>\n",
       "      <td>0</td>\n",
       "      <td>M</td>\n",
       "      <td>сотрудник</td>\n",
       "      <td>0</td>\n",
       "      <td>267628.550329</td>\n",
       "      <td>дополнительное образование</td>\n",
       "    </tr>\n",
       "    <tr>\n",
       "      <th>4</th>\n",
       "      <td>0</td>\n",
       "      <td>340266.072047</td>\n",
       "      <td>53</td>\n",
       "      <td>среднее</td>\n",
       "      <td>1</td>\n",
       "      <td>гражданский брак</td>\n",
       "      <td>1</td>\n",
       "      <td>F</td>\n",
       "      <td>пенсионер</td>\n",
       "      <td>0</td>\n",
       "      <td>158616.077870</td>\n",
       "      <td>сыграть свадьбу</td>\n",
       "    </tr>\n",
       "  </tbody>\n",
       "</table>\n",
       "</div>"
      ],
      "text/plain": [
       "   children  days_employed  dob_years education  education_id  \\\n",
       "0         1    8437.673028         42    высшее             0   \n",
       "1         1    4024.803754         36   среднее             1   \n",
       "2         0    5623.422610         33   Среднее             1   \n",
       "3         3    4124.747207         32   среднее             1   \n",
       "4         0  340266.072047         53   среднее             1   \n",
       "\n",
       "      family_status  family_status_id gender income_type  debt   total_income  \\\n",
       "0   женат / замужем                 0      F   сотрудник     0  253875.639453   \n",
       "1   женат / замужем                 0      F   сотрудник     0  112080.014102   \n",
       "2   женат / замужем                 0      M   сотрудник     0  145885.952297   \n",
       "3   женат / замужем                 0      M   сотрудник     0  267628.550329   \n",
       "4  гражданский брак                 1      F   пенсионер     0  158616.077870   \n",
       "\n",
       "                      purpose  \n",
       "0               покупка жилья  \n",
       "1     приобретение автомобиля  \n",
       "2               покупка жилья  \n",
       "3  дополнительное образование  \n",
       "4             сыграть свадьбу  "
      ]
     },
     "execution_count": 7,
     "metadata": {},
     "output_type": "execute_result"
    }
   ],
   "source": [
    "data['days_employed'] = data['days_employed'].abs()\n",
    "data.head(5)"
   ]
  },
  {
   "cell_type": "markdown",
   "id": "e2f72355",
   "metadata": {},
   "source": [
    "For each type of employment, output the median value of `days_employed` in days."
   ]
  },
  {
   "cell_type": "code",
   "execution_count": 8,
   "id": "c344962f",
   "metadata": {},
   "outputs": [
    {
     "data": {
      "text/plain": [
       "income_type\n",
       "безработный        366413.652744\n",
       "в декрете            3296.759962\n",
       "госслужащий          2689.368353\n",
       "компаньон            1547.382223\n",
       "пенсионер          365213.306266\n",
       "предприниматель       520.848083\n",
       "сотрудник            1574.202821\n",
       "студент               578.751554\n",
       "Name: days_employed, dtype: float64"
      ]
     },
     "execution_count": 8,
     "metadata": {},
     "output_type": "execute_result"
    }
   ],
   "source": [
    "data.groupby('income_type')['days_employed'].median()"
   ]
  },
  {
   "cell_type": "markdown",
   "id": "bb2b431a",
   "metadata": {},
   "source": [
    "two columns (`uneployed` and `pensioner`) contain abnormally high values, but we couldn't find a good way to fill it in, we decided to leave these columns as is."
   ]
  },
  {
   "cell_type": "markdown",
   "id": "c0cdeb60",
   "metadata": {},
   "source": [
    "#### `children`\n",
    "\n",
    "let's have a look at the unique values in the `children` column"
   ]
  },
  {
   "cell_type": "code",
   "execution_count": 9,
   "id": "c5310eb2",
   "metadata": {},
   "outputs": [
    {
     "data": {
      "text/plain": [
       "array([ 1,  0,  3,  2, -1,  4, 20,  5])"
      ]
     },
     "execution_count": 9,
     "metadata": {},
     "output_type": "execute_result"
    }
   ],
   "source": [
    "data['children'].unique()"
   ]
  },
  {
   "cell_type": "markdown",
   "id": "3e5407cd",
   "metadata": {},
   "source": [
    "There are 2 abnormal values in this column - 20, -1. We will remove rows containing such values from the dataset."
   ]
  },
  {
   "cell_type": "code",
   "execution_count": 10,
   "id": "88ac27f6",
   "metadata": {},
   "outputs": [
    {
     "data": {
      "text/plain": [
       "array([1, 0, 3, 2, 4, 5])"
      ]
     },
     "execution_count": 10,
     "metadata": {},
     "output_type": "execute_result"
    }
   ],
   "source": [
    "data = data[(data['children'] != -1) & (data['children'] != 20)]\n",
    "data['children'].unique()"
   ]
  },
  {
   "cell_type": "markdown",
   "id": "2eb4493e",
   "metadata": {},
   "source": [
    "### Data type\n",
    "Let's replace the real data type in the total_income column with an integer data type using the astype() method."
   ]
  },
  {
   "cell_type": "code",
   "execution_count": 11,
   "id": "87b036e9",
   "metadata": {},
   "outputs": [],
   "source": [
    "data['total_income'] = data['total_income'].astype('int')"
   ]
  },
  {
   "cell_type": "markdown",
   "id": "fbeaf0ba",
   "metadata": {},
   "source": [
    "### Duplicate processing\n",
    "\n",
    "Let's check what kind of unique values are in `education` column"
   ]
  },
  {
   "cell_type": "code",
   "execution_count": 12,
   "id": "1bd8e49e",
   "metadata": {},
   "outputs": [
    {
     "data": {
      "text/plain": [
       "array(['высшее', 'среднее', 'Среднее', 'СРЕДНЕЕ', 'ВЫСШЕЕ',\n",
       "       'неоконченное высшее', 'начальное', 'Высшее',\n",
       "       'НЕОКОНЧЕННОЕ ВЫСШЕЕ', 'Неоконченное высшее', 'НАЧАЛЬНОЕ',\n",
       "       'Начальное', 'Ученая степень', 'УЧЕНАЯ СТЕПЕНЬ', 'ученая степень'],\n",
       "      dtype=object)"
      ]
     },
     "execution_count": 12,
     "metadata": {},
     "output_type": "execute_result"
    }
   ],
   "source": [
    "data['education'].unique()"
   ]
  },
  {
   "cell_type": "markdown",
   "id": "3a8f2d2c",
   "metadata": {},
   "source": [
    "The same names are written in upper and lower case. Let's bring all values in the column to lower case."
   ]
  },
  {
   "cell_type": "code",
   "execution_count": 13,
   "id": "6c0dc11a",
   "metadata": {},
   "outputs": [],
   "source": [
    "data['education'] = data['education'].str.lower()"
   ]
  },
  {
   "cell_type": "markdown",
   "id": "3c785023",
   "metadata": {},
   "source": [
    "### Duplicates\n",
    "\n",
    "Let's check if dataframe contains full duplicates and delete them if there are any."
   ]
  },
  {
   "cell_type": "code",
   "execution_count": 14,
   "id": "39d5d58b",
   "metadata": {},
   "outputs": [
    {
     "data": {
      "text/plain": [
       "71"
      ]
     },
     "execution_count": 14,
     "metadata": {},
     "output_type": "execute_result"
    }
   ],
   "source": [
    "data.duplicated().sum()"
   ]
  },
  {
   "cell_type": "code",
   "execution_count": 15,
   "id": "492f2996",
   "metadata": {},
   "outputs": [],
   "source": [
    "data = data.drop_duplicates()"
   ]
  },
  {
   "cell_type": "markdown",
   "id": "4854e1f7",
   "metadata": {},
   "source": [
    "### Categorizing data\n",
    "\n",
    "Let’s create new column `total_income_category` and categorize the data based on the income ranges as follows:\n",
    "- 0–30000 — 'E';\n",
    "- 30001–50000 — 'D';\n",
    "- 50001–200000 — 'C';\n",
    "- 200001–1000000 — 'B';\n",
    "- 1000001 and above — 'A'."
   ]
  },
  {
   "cell_type": "code",
   "execution_count": 16,
   "id": "ceb97ce1",
   "metadata": {},
   "outputs": [
    {
     "data": {
      "text/html": [
       "<div>\n",
       "<style scoped>\n",
       "    .dataframe tbody tr th:only-of-type {\n",
       "        vertical-align: middle;\n",
       "    }\n",
       "\n",
       "    .dataframe tbody tr th {\n",
       "        vertical-align: top;\n",
       "    }\n",
       "\n",
       "    .dataframe thead th {\n",
       "        text-align: right;\n",
       "    }\n",
       "</style>\n",
       "<table border=\"1\" class=\"dataframe\">\n",
       "  <thead>\n",
       "    <tr style=\"text-align: right;\">\n",
       "      <th></th>\n",
       "      <th>children</th>\n",
       "      <th>days_employed</th>\n",
       "      <th>dob_years</th>\n",
       "      <th>education</th>\n",
       "      <th>education_id</th>\n",
       "      <th>family_status</th>\n",
       "      <th>family_status_id</th>\n",
       "      <th>gender</th>\n",
       "      <th>income_type</th>\n",
       "      <th>debt</th>\n",
       "      <th>total_income</th>\n",
       "      <th>purpose</th>\n",
       "      <th>total_income_category</th>\n",
       "    </tr>\n",
       "  </thead>\n",
       "  <tbody>\n",
       "    <tr>\n",
       "      <th>0</th>\n",
       "      <td>1</td>\n",
       "      <td>8437.673028</td>\n",
       "      <td>42</td>\n",
       "      <td>высшее</td>\n",
       "      <td>0</td>\n",
       "      <td>женат / замужем</td>\n",
       "      <td>0</td>\n",
       "      <td>F</td>\n",
       "      <td>сотрудник</td>\n",
       "      <td>0</td>\n",
       "      <td>253875</td>\n",
       "      <td>покупка жилья</td>\n",
       "      <td>B</td>\n",
       "    </tr>\n",
       "    <tr>\n",
       "      <th>1</th>\n",
       "      <td>1</td>\n",
       "      <td>4024.803754</td>\n",
       "      <td>36</td>\n",
       "      <td>среднее</td>\n",
       "      <td>1</td>\n",
       "      <td>женат / замужем</td>\n",
       "      <td>0</td>\n",
       "      <td>F</td>\n",
       "      <td>сотрудник</td>\n",
       "      <td>0</td>\n",
       "      <td>112080</td>\n",
       "      <td>приобретение автомобиля</td>\n",
       "      <td>C</td>\n",
       "    </tr>\n",
       "    <tr>\n",
       "      <th>2</th>\n",
       "      <td>0</td>\n",
       "      <td>5623.422610</td>\n",
       "      <td>33</td>\n",
       "      <td>среднее</td>\n",
       "      <td>1</td>\n",
       "      <td>женат / замужем</td>\n",
       "      <td>0</td>\n",
       "      <td>M</td>\n",
       "      <td>сотрудник</td>\n",
       "      <td>0</td>\n",
       "      <td>145885</td>\n",
       "      <td>покупка жилья</td>\n",
       "      <td>C</td>\n",
       "    </tr>\n",
       "    <tr>\n",
       "      <th>3</th>\n",
       "      <td>3</td>\n",
       "      <td>4124.747207</td>\n",
       "      <td>32</td>\n",
       "      <td>среднее</td>\n",
       "      <td>1</td>\n",
       "      <td>женат / замужем</td>\n",
       "      <td>0</td>\n",
       "      <td>M</td>\n",
       "      <td>сотрудник</td>\n",
       "      <td>0</td>\n",
       "      <td>267628</td>\n",
       "      <td>дополнительное образование</td>\n",
       "      <td>B</td>\n",
       "    </tr>\n",
       "    <tr>\n",
       "      <th>4</th>\n",
       "      <td>0</td>\n",
       "      <td>340266.072047</td>\n",
       "      <td>53</td>\n",
       "      <td>среднее</td>\n",
       "      <td>1</td>\n",
       "      <td>гражданский брак</td>\n",
       "      <td>1</td>\n",
       "      <td>F</td>\n",
       "      <td>пенсионер</td>\n",
       "      <td>0</td>\n",
       "      <td>158616</td>\n",
       "      <td>сыграть свадьбу</td>\n",
       "      <td>C</td>\n",
       "    </tr>\n",
       "  </tbody>\n",
       "</table>\n",
       "</div>"
      ],
      "text/plain": [
       "   children  days_employed  dob_years education  education_id  \\\n",
       "0         1    8437.673028         42    высшее             0   \n",
       "1         1    4024.803754         36   среднее             1   \n",
       "2         0    5623.422610         33   среднее             1   \n",
       "3         3    4124.747207         32   среднее             1   \n",
       "4         0  340266.072047         53   среднее             1   \n",
       "\n",
       "      family_status  family_status_id gender income_type  debt  total_income  \\\n",
       "0   женат / замужем                 0      F   сотрудник     0        253875   \n",
       "1   женат / замужем                 0      F   сотрудник     0        112080   \n",
       "2   женат / замужем                 0      M   сотрудник     0        145885   \n",
       "3   женат / замужем                 0      M   сотрудник     0        267628   \n",
       "4  гражданский брак                 1      F   пенсионер     0        158616   \n",
       "\n",
       "                      purpose total_income_category  \n",
       "0               покупка жилья                     B  \n",
       "1     приобретение автомобиля                     C  \n",
       "2               покупка жилья                     C  \n",
       "3  дополнительное образование                     B  \n",
       "4             сыграть свадьбу                     C  "
      ]
     },
     "execution_count": 16,
     "metadata": {},
     "output_type": "execute_result"
    }
   ],
   "source": [
    "def categorize_income(income):\n",
    "    if 0 < income <= 30000:\n",
    "        return 'E'\n",
    "    if 30001 <= income <= 50000:\n",
    "        return 'D'\n",
    "    if 50001 <= income <= 200000:\n",
    "        return 'C'\n",
    "    if 200001 <= income <= 1000000:\n",
    "        return 'B'\n",
    "    if income >= 1000001:\n",
    "        return 'A'\n",
    "    \n",
    "data['total_income_category'] = data['total_income'].apply(categorize_income)\n",
    "data.head(5)"
   ]
  },
  {
   "cell_type": "markdown",
   "id": "c66b9c79",
   "metadata": {},
   "source": [
    "Let’s categorise data according to the values in column `purpose`. We will create a new column `purpose_category` with following values:\n",
    "- 'операции с автомобилем’ (car),\n",
    "- 'операции с недвижимостью’ (Real Estate),\n",
    "- 'проведение свадьбы’ (wedding),\n",
    "- 'получение образования’ (education)."
   ]
  },
  {
   "cell_type": "code",
   "execution_count": 17,
   "id": "abea2457",
   "metadata": {},
   "outputs": [
    {
     "data": {
      "text/html": [
       "<div>\n",
       "<style scoped>\n",
       "    .dataframe tbody tr th:only-of-type {\n",
       "        vertical-align: middle;\n",
       "    }\n",
       "\n",
       "    .dataframe tbody tr th {\n",
       "        vertical-align: top;\n",
       "    }\n",
       "\n",
       "    .dataframe thead th {\n",
       "        text-align: right;\n",
       "    }\n",
       "</style>\n",
       "<table border=\"1\" class=\"dataframe\">\n",
       "  <thead>\n",
       "    <tr style=\"text-align: right;\">\n",
       "      <th></th>\n",
       "      <th>children</th>\n",
       "      <th>days_employed</th>\n",
       "      <th>dob_years</th>\n",
       "      <th>education</th>\n",
       "      <th>education_id</th>\n",
       "      <th>family_status</th>\n",
       "      <th>family_status_id</th>\n",
       "      <th>gender</th>\n",
       "      <th>income_type</th>\n",
       "      <th>debt</th>\n",
       "      <th>total_income</th>\n",
       "      <th>purpose</th>\n",
       "      <th>total_income_category</th>\n",
       "      <th>purpose_category</th>\n",
       "    </tr>\n",
       "  </thead>\n",
       "  <tbody>\n",
       "    <tr>\n",
       "      <th>0</th>\n",
       "      <td>1</td>\n",
       "      <td>8437.673028</td>\n",
       "      <td>42</td>\n",
       "      <td>высшее</td>\n",
       "      <td>0</td>\n",
       "      <td>женат / замужем</td>\n",
       "      <td>0</td>\n",
       "      <td>F</td>\n",
       "      <td>сотрудник</td>\n",
       "      <td>0</td>\n",
       "      <td>253875</td>\n",
       "      <td>покупка жилья</td>\n",
       "      <td>B</td>\n",
       "      <td>операции с недвижимостью</td>\n",
       "    </tr>\n",
       "    <tr>\n",
       "      <th>1</th>\n",
       "      <td>1</td>\n",
       "      <td>4024.803754</td>\n",
       "      <td>36</td>\n",
       "      <td>среднее</td>\n",
       "      <td>1</td>\n",
       "      <td>женат / замужем</td>\n",
       "      <td>0</td>\n",
       "      <td>F</td>\n",
       "      <td>сотрудник</td>\n",
       "      <td>0</td>\n",
       "      <td>112080</td>\n",
       "      <td>приобретение автомобиля</td>\n",
       "      <td>C</td>\n",
       "      <td>операции с автомобилем</td>\n",
       "    </tr>\n",
       "    <tr>\n",
       "      <th>2</th>\n",
       "      <td>0</td>\n",
       "      <td>5623.422610</td>\n",
       "      <td>33</td>\n",
       "      <td>среднее</td>\n",
       "      <td>1</td>\n",
       "      <td>женат / замужем</td>\n",
       "      <td>0</td>\n",
       "      <td>M</td>\n",
       "      <td>сотрудник</td>\n",
       "      <td>0</td>\n",
       "      <td>145885</td>\n",
       "      <td>покупка жилья</td>\n",
       "      <td>C</td>\n",
       "      <td>операции с недвижимостью</td>\n",
       "    </tr>\n",
       "    <tr>\n",
       "      <th>3</th>\n",
       "      <td>3</td>\n",
       "      <td>4124.747207</td>\n",
       "      <td>32</td>\n",
       "      <td>среднее</td>\n",
       "      <td>1</td>\n",
       "      <td>женат / замужем</td>\n",
       "      <td>0</td>\n",
       "      <td>M</td>\n",
       "      <td>сотрудник</td>\n",
       "      <td>0</td>\n",
       "      <td>267628</td>\n",
       "      <td>дополнительное образование</td>\n",
       "      <td>B</td>\n",
       "      <td>получение образования</td>\n",
       "    </tr>\n",
       "    <tr>\n",
       "      <th>4</th>\n",
       "      <td>0</td>\n",
       "      <td>340266.072047</td>\n",
       "      <td>53</td>\n",
       "      <td>среднее</td>\n",
       "      <td>1</td>\n",
       "      <td>гражданский брак</td>\n",
       "      <td>1</td>\n",
       "      <td>F</td>\n",
       "      <td>пенсионер</td>\n",
       "      <td>0</td>\n",
       "      <td>158616</td>\n",
       "      <td>сыграть свадьбу</td>\n",
       "      <td>C</td>\n",
       "      <td>проведение свадьбы</td>\n",
       "    </tr>\n",
       "  </tbody>\n",
       "</table>\n",
       "</div>"
      ],
      "text/plain": [
       "   children  days_employed  dob_years education  education_id  \\\n",
       "0         1    8437.673028         42    высшее             0   \n",
       "1         1    4024.803754         36   среднее             1   \n",
       "2         0    5623.422610         33   среднее             1   \n",
       "3         3    4124.747207         32   среднее             1   \n",
       "4         0  340266.072047         53   среднее             1   \n",
       "\n",
       "      family_status  family_status_id gender income_type  debt  total_income  \\\n",
       "0   женат / замужем                 0      F   сотрудник     0        253875   \n",
       "1   женат / замужем                 0      F   сотрудник     0        112080   \n",
       "2   женат / замужем                 0      M   сотрудник     0        145885   \n",
       "3   женат / замужем                 0      M   сотрудник     0        267628   \n",
       "4  гражданский брак                 1      F   пенсионер     0        158616   \n",
       "\n",
       "                      purpose total_income_category          purpose_category  \n",
       "0               покупка жилья                     B  операции с недвижимостью  \n",
       "1     приобретение автомобиля                     C    операции с автомобилем  \n",
       "2               покупка жилья                     C  операции с недвижимостью  \n",
       "3  дополнительное образование                     B     получение образования  \n",
       "4             сыграть свадьбу                     C        проведение свадьбы  "
      ]
     },
     "execution_count": 17,
     "metadata": {},
     "output_type": "execute_result"
    }
   ],
   "source": [
    "def categorize_purpose(purpose):\n",
    "    if 'авто' in purpose:\n",
    "        return 'операции с автомобилем'\n",
    "    elif 'жиль' in purpose or 'недвиж' in purpose:\n",
    "        return 'операции с недвижимостью'\n",
    "    elif 'свадь' in purpose:\n",
    "        return 'проведение свадьбы'\n",
    "    elif 'образов' in purpose:\n",
    "        return 'получение образования'  \n",
    "    \n",
    "data['purpose_category'] = data['purpose'].apply(categorize_purpose)\n",
    "data.head()"
   ]
  },
  {
   "cell_type": "markdown",
   "id": "b5d792a0",
   "metadata": {},
   "source": [
    "## Data Analysis\n",
    "\n",
    "### Number of children\n",
    "\n",
    "correlation between the number of children and repayment of the loan on time"
   ]
  },
  {
   "cell_type": "code",
   "execution_count": 26,
   "id": "343969a6",
   "metadata": {},
   "outputs": [
    {
     "data": {
      "image/png": "[encoded data removed]",
      "text/plain": [
       "<Figure size 800x320 with 1 Axes>"
      ]
     },
     "metadata": {},
     "output_type": "display_data"
    }
   ],
   "source": [
    "data_ch = data.groupby('children')[['children']].count()\n",
    "sns.set_style('whitegrid')\n",
    "plt.figure(figsize=(10, 4))\n",
    "sns.lineplot(x=data_ch.index, y='children', data=data_ch, marker='D')\n",
    "plt.title('Dependance of the number of loans on the number of children')\n",
    "plt.xlabel('Number of children')\n",
    "plt.ylabel('Number of loans')\n",
    "plt.show()"
   ]
  },
  {
   "cell_type": "code",
   "execution_count": 18,
   "id": "b692d499",
   "metadata": {},
   "outputs": [
    {
     "data": {
      "text/html": [
       "<div>\n",
       "<style scoped>\n",
       "    .dataframe tbody tr th:only-of-type {\n",
       "        vertical-align: middle;\n",
       "    }\n",
       "\n",
       "    .dataframe tbody tr th {\n",
       "        vertical-align: top;\n",
       "    }\n",
       "\n",
       "    .dataframe thead th {\n",
       "        text-align: right;\n",
       "    }\n",
       "</style>\n",
       "<table border=\"1\" class=\"dataframe\">\n",
       "  <thead>\n",
       "    <tr style=\"text-align: right;\">\n",
       "      <th></th>\n",
       "      <th>children</th>\n",
       "      <th>clients</th>\n",
       "      <th>debt</th>\n",
       "      <th>debt_percantage</th>\n",
       "    </tr>\n",
       "  </thead>\n",
       "  <tbody>\n",
       "    <tr>\n",
       "      <th>4</th>\n",
       "      <td>4</td>\n",
       "      <td>41</td>\n",
       "      <td>4</td>\n",
       "      <td>9.76</td>\n",
       "    </tr>\n",
       "    <tr>\n",
       "      <th>2</th>\n",
       "      <td>2</td>\n",
       "      <td>2052</td>\n",
       "      <td>194</td>\n",
       "      <td>9.45</td>\n",
       "    </tr>\n",
       "    <tr>\n",
       "      <th>1</th>\n",
       "      <td>1</td>\n",
       "      <td>4808</td>\n",
       "      <td>444</td>\n",
       "      <td>9.23</td>\n",
       "    </tr>\n",
       "    <tr>\n",
       "      <th>3</th>\n",
       "      <td>3</td>\n",
       "      <td>330</td>\n",
       "      <td>27</td>\n",
       "      <td>8.18</td>\n",
       "    </tr>\n",
       "    <tr>\n",
       "      <th>0</th>\n",
       "      <td>0</td>\n",
       "      <td>14091</td>\n",
       "      <td>1063</td>\n",
       "      <td>7.54</td>\n",
       "    </tr>\n",
       "    <tr>\n",
       "      <th>5</th>\n",
       "      <td>5</td>\n",
       "      <td>9</td>\n",
       "      <td>0</td>\n",
       "      <td>0.00</td>\n",
       "    </tr>\n",
       "  </tbody>\n",
       "</table>\n",
       "</div>"
      ],
      "text/plain": [
       "   children  clients  debt  debt_percantage\n",
       "4         4       41     4             9.76\n",
       "2         2     2052   194             9.45\n",
       "1         1     4808   444             9.23\n",
       "3         3      330    27             8.18\n",
       "0         0    14091  1063             7.54\n",
       "5         5        9     0             0.00"
      ]
     },
     "execution_count": 18,
     "metadata": {},
     "output_type": "execute_result"
    }
   ],
   "source": [
    "children_debt = data.pivot_table(index=['children'], values='debt', \\\n",
    "                                 aggfunc=['count', 'sum', 'mean']).reset_index()\n",
    "children_debt.columns = ['children', 'clients', 'debt', 'debt_percantage']\n",
    "children_debt['debt_percantage'] = round(children_debt['debt_percantage'] * 100, 2) \n",
    "children_debt = children_debt.sort_values(by='debt_percantage', ascending=False)\n",
    "children_debt"
   ]
  },
  {
   "cell_type": "markdown",
   "id": "ca07d1f7",
   "metadata": {},
   "source": [
    "The percentage of debtors ranges from 7.5% to 9.8%. The spread of values is insignificant.\n",
    "\n",
    "The sample is not balanced, classes in the sample have different sizes.\n",
    "\n",
    "Large families: People with 5 and 4 children can be excluded from the sample: there is not enough data for these groups. For this group of clients, factors such as marital status and annual family income will be more important.\n",
    "\n",
    "In the other groups the gap is small, ranging from 9.45% to 7.45%. If we take the difference in the percentage of debtors to be significant, we can conclude that borrowers without children are the most reliable and clients with two children are the least reliable.\n",
    "\n",
    "Nevertheless, we should take into account the possibility that the loan portfolio of childless borrowers (with several years of loans) is likely to deteriorate in terms of repayment over time (some part of childless borrowers will have children)."
   ]
  },
  {
   "cell_type": "markdown",
   "id": "9868146f",
   "metadata": {},
   "source": [
    "### The correlation between income and education\n",
    "\n",
    "Does education affects income and debt?"
   ]
  },
  {
   "cell_type": "code",
   "execution_count": 29,
   "id": "1a28ef9e",
   "metadata": {},
   "outputs": [],
   "source": [
    "data['debt'] = data['debt'].apply(lambda x: 'pays late' if x == 1 else 'pays in time')"
   ]
  },
  {
   "cell_type": "code",
   "execution_count": 31,
   "id": "83e08ad7",
   "metadata": {},
   "outputs": [
    {
     "data": {
      "image/png": "[encoded data removed]",
      "text/plain": [
       "<Figure size 800x320 with 1 Axes>"
      ]
     },
     "metadata": {},
     "output_type": "display_data"
    }
   ],
   "source": [
    "data_ed = data.groupby(['education', 'debt'],\\\n",
    "                       as_index=False)[['total_income']].median()\n",
    "sns.set_style('dark')\n",
    "plt.figure(figsize=(10, 4))\n",
    "sns.barplot(x='total_income', y='education', data=data, hue='debt')\n",
    "plt.title('Correlation between income and education')\n",
    "plt.xlabel('Median income')\n",
    "plt.ylabel('Education')\n",
    "plt.xticks(rotation=45)\n",
    "plt.legend(loc='lower right', fontsize=10)\n",
    "plt.grid()\n",
    "plt.show()"
   ]
  },
  {
   "cell_type": "markdown",
   "id": "9df8a006",
   "metadata": {},
   "source": [
    "People with higher and primary education have outstanding payments. However, people with degrees pay in time."
   ]
  },
  {
   "cell_type": "markdown",
   "id": "67e65bab",
   "metadata": {},
   "source": [
    "### Family Status"
   ]
  },
  {
   "cell_type": "code",
   "execution_count": 19,
   "id": "0312b05a",
   "metadata": {},
   "outputs": [
    {
     "data": {
      "text/html": [
       "<div>\n",
       "<style scoped>\n",
       "    .dataframe tbody tr th:only-of-type {\n",
       "        vertical-align: middle;\n",
       "    }\n",
       "\n",
       "    .dataframe tbody tr th {\n",
       "        vertical-align: top;\n",
       "    }\n",
       "\n",
       "    .dataframe thead th {\n",
       "        text-align: right;\n",
       "    }\n",
       "</style>\n",
       "<table border=\"1\" class=\"dataframe\">\n",
       "  <thead>\n",
       "    <tr style=\"text-align: right;\">\n",
       "      <th></th>\n",
       "      <th>family_status</th>\n",
       "      <th>clients</th>\n",
       "      <th>debt</th>\n",
       "      <th>debt_percantage</th>\n",
       "    </tr>\n",
       "  </thead>\n",
       "  <tbody>\n",
       "    <tr>\n",
       "      <th>0</th>\n",
       "      <td>Не женат / не замужем</td>\n",
       "      <td>2796</td>\n",
       "      <td>273</td>\n",
       "      <td>9.76</td>\n",
       "    </tr>\n",
       "    <tr>\n",
       "      <th>2</th>\n",
       "      <td>гражданский брак</td>\n",
       "      <td>4134</td>\n",
       "      <td>385</td>\n",
       "      <td>9.31</td>\n",
       "    </tr>\n",
       "    <tr>\n",
       "      <th>3</th>\n",
       "      <td>женат / замужем</td>\n",
       "      <td>12261</td>\n",
       "      <td>927</td>\n",
       "      <td>7.56</td>\n",
       "    </tr>\n",
       "    <tr>\n",
       "      <th>1</th>\n",
       "      <td>в разводе / вдовцы</td>\n",
       "      <td>2140</td>\n",
       "      <td>147</td>\n",
       "      <td>6.87</td>\n",
       "    </tr>\n",
       "  </tbody>\n",
       "</table>\n",
       "</div>"
      ],
      "text/plain": [
       "           family_status  clients  debt  debt_percantage\n",
       "0  Не женат / не замужем     2796   273             9.76\n",
       "2       гражданский брак     4134   385             9.31\n",
       "3        женат / замужем    12261   927             7.56\n",
       "1     в разводе / вдовцы     2140   147             6.87"
      ]
     },
     "execution_count": 19,
     "metadata": {},
     "output_type": "execute_result"
    }
   ],
   "source": [
    "data.loc[data['family_status'] == 'вдовец / вдова', 'family_status'] = 'в разводе / вдовцы'\n",
    "data.loc[data['family_status'] == 'в разводе', 'family_status'] = 'в разводе / вдовцы'\n",
    "\n",
    "family_status_debt = data.pivot_table(index=['family_status'], values = 'debt', \\\n",
    "                                      aggfunc=['count', 'sum', 'mean']).reset_index()\n",
    "family_status_debt.columns = ['family_status', 'clients', 'debt', 'debt_percantage']\n",
    "family_status_debt['debt_percantage'] = round(family_status_debt['debt_percantage'] * 100, 2)\n",
    "family_status_debt = family_status_debt.sort_values(by='debt_percantage', ascending=False)\n",
    "family_status_debt"
   ]
  },
  {
   "cell_type": "markdown",
   "id": "77e2df24",
   "metadata": {},
   "source": [
    "According to the data, the credit department should be cautious with clients who are or have been unmarried. Such clients are less responsible. It appears that legitimized relationships (including ex-relationships) lead to a more responsible attitude towards their obligations."
   ]
  },
  {
   "cell_type": "markdown",
   "id": "de8fb450",
   "metadata": {},
   "source": [
    "### Income category\n",
    "\n",
    "Let's visualize the income distribution among clients"
   ]
  },
  {
   "cell_type": "code",
   "execution_count": 23,
   "id": "ab456216",
   "metadata": {},
   "outputs": [
    {
     "data": {
      "image/png": "[encoded data removed]",
      "text/plain": [
       "<Figure size 640x480 with 1 Axes>"
      ]
     },
     "metadata": {},
     "output_type": "display_data"
    }
   ],
   "source": [
    "plt.style.use('classic')\n",
    "sns.histplot(x='total_income', data=data, kde=True)\n",
    "plt.xlim(0, 500000)\n",
    "plt.title('Income distribution')\n",
    "plt.xlabel('Value')\n",
    "plt.ylabel('Frequency')\n",
    "plt.show()"
   ]
  },
  {
   "cell_type": "code",
   "execution_count": 20,
   "id": "d356144d",
   "metadata": {},
   "outputs": [
    {
     "data": {
      "text/html": [
       "<div>\n",
       "<style scoped>\n",
       "    .dataframe tbody tr th:only-of-type {\n",
       "        vertical-align: middle;\n",
       "    }\n",
       "\n",
       "    .dataframe tbody tr th {\n",
       "        vertical-align: top;\n",
       "    }\n",
       "\n",
       "    .dataframe thead th {\n",
       "        text-align: right;\n",
       "    }\n",
       "</style>\n",
       "<table border=\"1\" class=\"dataframe\">\n",
       "  <thead>\n",
       "    <tr style=\"text-align: right;\">\n",
       "      <th></th>\n",
       "      <th>category</th>\n",
       "      <th>clients</th>\n",
       "      <th>debt</th>\n",
       "      <th>debt_percantage</th>\n",
       "    </tr>\n",
       "  </thead>\n",
       "  <tbody>\n",
       "    <tr>\n",
       "      <th>4</th>\n",
       "      <td>E</td>\n",
       "      <td>22</td>\n",
       "      <td>2</td>\n",
       "      <td>9.09</td>\n",
       "    </tr>\n",
       "    <tr>\n",
       "      <th>2</th>\n",
       "      <td>C</td>\n",
       "      <td>15921</td>\n",
       "      <td>1353</td>\n",
       "      <td>8.50</td>\n",
       "    </tr>\n",
       "    <tr>\n",
       "      <th>0</th>\n",
       "      <td>A</td>\n",
       "      <td>25</td>\n",
       "      <td>2</td>\n",
       "      <td>8.00</td>\n",
       "    </tr>\n",
       "    <tr>\n",
       "      <th>1</th>\n",
       "      <td>B</td>\n",
       "      <td>5014</td>\n",
       "      <td>354</td>\n",
       "      <td>7.06</td>\n",
       "    </tr>\n",
       "    <tr>\n",
       "      <th>3</th>\n",
       "      <td>D</td>\n",
       "      <td>349</td>\n",
       "      <td>21</td>\n",
       "      <td>6.02</td>\n",
       "    </tr>\n",
       "  </tbody>\n",
       "</table>\n",
       "</div>"
      ],
      "text/plain": [
       "  category  clients  debt  debt_percantage\n",
       "4        E       22     2             9.09\n",
       "2        C    15921  1353             8.50\n",
       "0        A       25     2             8.00\n",
       "1        B     5014   354             7.06\n",
       "3        D      349    21             6.02"
      ]
     },
     "execution_count": 20,
     "metadata": {},
     "output_type": "execute_result"
    }
   ],
   "source": [
    "total_income_debt = data.pivot_table(index=['total_income_category'], values='debt', \\\n",
    "                                     aggfunc=['count', 'sum', 'mean']).reset_index()\n",
    "total_income_debt.columns = ['category', 'clients', 'debt', 'debt_percantage']\n",
    "total_income_debt['debt_percantage'] = round(total_income_debt['debt_percantage'] * 100, 2) \n",
    "total_income_debt = total_income_debt.sort_values(by='debt_percantage', ascending=False)\n",
    "total_income_debt"
   ]
  },
  {
   "cell_type": "markdown",
   "id": "95dd0ed1",
   "metadata": {},
   "source": [
    "**Category A and E.** Clients in these categories are the least likely to take out loans, so there is insufficient data. At the same time, clients in category E have the highest percentage of arrears, and when deciding on these clients, special attention should be paid to factors such as marital status, presence/absence of children and purpose of the loan.\n",
    "\n",
    "**Category D.** Clients in this category have the smallest percentage of debts, but at the same time it is one of the smallest groups. It is difficult to draw conclusions based on data from 349 clients.\n",
    "\n",
    "**Category B.** Clients in this group appear to be the most reliable. There are a good number of clients in this category, and the percentage of arrears is lower than in the other three groups.\n",
    "\n",
    "**Category C.** Clients in this category are the most unreliable. It is the most numerous group and at the same time has the highest percentage of arrears (not including the small category E).\n",
    "\n",
    "We should remembered that there were many gaps (2174) in the `total_income` column, which we filled with the median value according to the type of employment. Perhaps, the table of correlation between income level and loan repayment at maturity could have looked different if it were not for the missing data.\n",
    "\n",
    "### Loan purpose"
   ]
  },
  {
   "cell_type": "code",
   "execution_count": 21,
   "id": "cfdd4d97",
   "metadata": {},
   "outputs": [
    {
     "data": {
      "text/html": [
       "<div>\n",
       "<style scoped>\n",
       "    .dataframe tbody tr th:only-of-type {\n",
       "        vertical-align: middle;\n",
       "    }\n",
       "\n",
       "    .dataframe tbody tr th {\n",
       "        vertical-align: top;\n",
       "    }\n",
       "\n",
       "    .dataframe thead th {\n",
       "        text-align: right;\n",
       "    }\n",
       "</style>\n",
       "<table border=\"1\" class=\"dataframe\">\n",
       "  <thead>\n",
       "    <tr style=\"text-align: right;\">\n",
       "      <th></th>\n",
       "      <th>category</th>\n",
       "      <th>clients</th>\n",
       "      <th>debt</th>\n",
       "      <th>debt_percantage</th>\n",
       "    </tr>\n",
       "  </thead>\n",
       "  <tbody>\n",
       "    <tr>\n",
       "      <th>0</th>\n",
       "      <td>операции с автомобилем</td>\n",
       "      <td>4279</td>\n",
       "      <td>400</td>\n",
       "      <td>9.35</td>\n",
       "    </tr>\n",
       "    <tr>\n",
       "      <th>2</th>\n",
       "      <td>получение образования</td>\n",
       "      <td>3988</td>\n",
       "      <td>369</td>\n",
       "      <td>9.25</td>\n",
       "    </tr>\n",
       "    <tr>\n",
       "      <th>3</th>\n",
       "      <td>проведение свадьбы</td>\n",
       "      <td>2313</td>\n",
       "      <td>183</td>\n",
       "      <td>7.91</td>\n",
       "    </tr>\n",
       "    <tr>\n",
       "      <th>1</th>\n",
       "      <td>операции с недвижимостью</td>\n",
       "      <td>10751</td>\n",
       "      <td>780</td>\n",
       "      <td>7.26</td>\n",
       "    </tr>\n",
       "  </tbody>\n",
       "</table>\n",
       "</div>"
      ],
      "text/plain": [
       "                   category  clients  debt  debt_percantage\n",
       "0    операции с автомобилем     4279   400             9.35\n",
       "2     получение образования     3988   369             9.25\n",
       "3        проведение свадьбы     2313   183             7.91\n",
       "1  операции с недвижимостью    10751   780             7.26"
      ]
     },
     "execution_count": 21,
     "metadata": {},
     "output_type": "execute_result"
    }
   ],
   "source": [
    "purpose_category_debt = data.pivot_table(index=['purpose_category'], values='debt', \\\n",
    "                                         aggfunc=['count', 'sum', 'mean']).reset_index()\n",
    "purpose_category_debt.columns = ['category', 'clients', 'debt', 'debt_percantage']\n",
    "purpose_category_debt['debt_percantage'] = round(purpose_category_debt['debt_percantage'] \\\n",
    "                                                 * 100, 2)\n",
    "purpose_category_debt = purpose_category_debt.sort_values(by='debt_percantage', ascending=False)\n",
    "purpose_category_debt"
   ]
  },
  {
   "cell_type": "markdown",
   "id": "a246ee0e",
   "metadata": {},
   "source": [
    "The most risky are loans for automobile operations: this is the second largest group in terms of number of clients and the highest percentage of indebtedness.\n",
    "\n",
    "Education loans also appear to be risky. The percentage of indebtedness in this group is as high as in the group \"operations with automobile\" - 9.3%.\n",
    "\n",
    "The least risky are loans issued for real estate operations: this is the most numerous group and the percentage of indebtedness is the smallest."
   ]
  },
  {
   "cell_type": "markdown",
   "id": "1a1c8440",
   "metadata": {},
   "source": [
    "## Overall conclusion\n",
    "\n",
    "We have conducted a study on the reliability of bank borrowers. The purpose of the study is to find out whether there is any correlation between the fact of repayment of the loan on time and such factors as marital status of the client, number of children, income level and purpose of obtaining the loan. The study utilized data on 21'525 customers provided by the bank.\n",
    "\n",
    "The following hypotheses were put forward:\n",
    "1. there is a correlation between the number of children and loan repayment on time;\n",
    "2. there is a correlation between the marital status of the client and loan repayment on time;\n",
    "3. there is a correlation between the client's income level and loan repayment in due time;\n",
    "4. there is a correlation between the purpose of obtaining the loan and repayment of the loan at maturity.\n",
    "\n",
    "We tested each of the hypotheses and came to the following conclusions.\n",
    "\n",
    "1. There is a relationship between number of children and loan repayment on time.\n",
    "\n",
    "A relationship was found between the number of children a customer has and repayment of loan on time:\n",
    "- 0 children - the percentage of debtors in this group was 7.54%;\n",
    "- 1 child - the percentage of debtors was 9.23%;\n",
    "- 2 children - the percentage of debtors was 9.45%;\n",
    "- 3 children - the percentage of debtors was 8.18%;\n",
    "- 4 children - percentage of debtors 9.75%;\n",
    "- 5 children - debtor percentage 0%.\n",
    "\n",
    "It should be noted that large families with 4 and 5 children should be excluded from the sample - there is not enough data for conclusions. For this group of clients such factors as family status and annual income of the client will be more important.\n",
    "\n",
    "The results for the other groups show that the most reliable clients are clients without children. The most unreliable are clients with two children.\n",
    "\n",
    "Obviously, the presence of children is not the strongest factor affecting the solvency of clients. It is necessary to collect more data on large families and combine the results of this study with studies on other factors.\n",
    "\n",
    "2. There is a relationship between the marital status of the client and repayment of the loan on time.\n",
    "\n",
    "The hypothesis was confirmed: there is a correlation between the marital status of the client and the fact of repayment of the loan on time:\n",
    "- Not married / not married - percentage of debtors 9.8%;\n",
    "- Civil marriage - percentage of debtors 9.3%;\n",
    "- Married / married - percentage of debtors 7.6%;\n",
    "- Divorced / widowed - percentage of debtors 6.9%.\n",
    "\n",
    "The smallest percentage of debtors is in the \"divorced / widowed\" group, but this group is also the smallest, so we cannot conclude that borrowers from this group are the most reliable.\n",
    "\n",
    "The most reliable borrowers are people belonging to the \"married/married\" category: this group includes the largest number of bank clients, while the percentage of debtors in this group is the smallest (excluding the \"divorced/widowed\" group).\n",
    "\n",
    "The most unreliable borrowers are people who are not in a formal relationship. The highest percentage of debtors in the \"Not married / not married\" group is 9.8%.\n",
    "\n",
    "3. there is a correlation between the level of client's income and repayment of the loan on time\n",
    "\n",
    "The following correlation was found between client's income level and loan repayment on time:\n",
    "- Category A (1mn and above) - 8.0%;\n",
    "- Category B (200'000 - 1mn) - 7.1%;\n",
    "- Category C (50'000 - 200'000) - 8.5%;\n",
    "- Category D (30'000 - 50'000) - 6.0%;\n",
    "- Category E (0 - 30'000) - 9.1%.\n",
    "\n",
    "We do not have enough data for Group \"A\", \"D\" and \"E\" customers to draw a definitive conclusion. At the same time, categories \"A\" and \"E\" have a high percentage of arrears. When considering clients of this group, attention should be paid to such related factors as marital status, presence/absence of children, purpose of the loan.\n",
    "\n",
    "The most reliable are clients of category \"B\": a sufficient number of clients belong to this group and the percentage of debts is lower than in the other three groups.\n",
    "\n",
    "The most unreliable are clients belonging to category \"C\": this is the largest group, and the percentage of arrears here is the highest - 8.5%.\n",
    "\n",
    "4. There is a relationship between the purpose of obtaining a loan and repayment of the loan on time.\n",
    "\n",
    "The hypothesis was confirmed. The following correlation was revealed:\n",
    "- automobile operations - 9.3%;\n",
    "- getting education - 9.3%;\n",
    "- wedding - 7.9%;\n",
    "- real estate transactions - 7.3%.\n",
    "\n",
    "The most risky are loans issued for automobile operations and education.\n",
    "The most reliable are loans made for real estate transactions.\n",
    "\n",
    "**Conclusion**\n",
    "The results of testing hypotheses 2 and 4 are indicative and can be used to build a credit scoring model.\n",
    "\n",
    "More data should be collected for more accurate conclusions on hypotheses 1 and 2."
   ]
  }
 ],
 "metadata": {
  "kernelspec": {
   "display_name": "Python 3 (ipykernel)",
   "language": "python",
   "name": "python3"
  },
  "language_info": {
   "codemirror_mode": {
    "name": "ipython",
    "version": 3
   },
   "file_extension": ".py",
   "mimetype": "text/x-python",
   "name": "python",
   "nbconvert_exporter": "python",
   "pygments_lexer": "ipython3",
   "version": "3.10.9"
  },
  "toc": {
   "base_numbering": 1,
   "nav_menu": {
    "height": "504px",
    "width": "473px"
   },
   "number_sections": true,
   "sideBar": true,
   "skip_h1_title": false,
   "title_cell": "Table of Contents",
   "title_sidebar": "Contents",
   "toc_cell": false,
   "toc_position": {
    "height": "calc(100% - 180px)",
    "left": "10px",
    "top": "150px",
    "width": "241px"
   },
   "toc_section_display": true,
   "toc_window_display": true
  }
 },
 "nbformat": 4,
 "nbformat_minor": 5
}
